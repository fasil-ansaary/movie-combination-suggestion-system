{
 "cells": [
  {
   "cell_type": "code",
   "execution_count": 4,
   "metadata": {
    "id": "vXLfCtEeFT2M"
   },
   "outputs": [],
   "source": [
    "import pandas as pd\n",
    "import numpy as np\n",
    "import matplotlib.pyplot as plt\n",
    "import seaborn as sns\n",
    "import plotly\n",
    "import plotly.express as px"
   ]
  },
  {
   "cell_type": "code",
   "execution_count": 5,
   "metadata": {
    "id": "QYYc9ZFnF2ZX"
   },
   "outputs": [],
   "source": [
    "movies=pd.read_csv('IMDB-Movie-Data.csv')"
   ]
  },
  {
   "cell_type": "code",
   "execution_count": 6,
   "metadata": {
    "colab": {
     "base_uri": "https://localhost:8080/",
     "height": 910
    },
    "id": "-3un1jeNF74U",
    "outputId": "f3683ce5-2636-4020-8ab5-f1ee49b7def2"
   },
   "outputs": [
    {
     "data": {
      "text/html": [
       "<div>\n",
       "<style scoped>\n",
       "    .dataframe tbody tr th:only-of-type {\n",
       "        vertical-align: middle;\n",
       "    }\n",
       "\n",
       "    .dataframe tbody tr th {\n",
       "        vertical-align: top;\n",
       "    }\n",
       "\n",
       "    .dataframe thead th {\n",
       "        text-align: right;\n",
       "    }\n",
       "</style>\n",
       "<table border=\"1\" class=\"dataframe\">\n",
       "  <thead>\n",
       "    <tr style=\"text-align: right;\">\n",
       "      <th></th>\n",
       "      <th>Rank</th>\n",
       "      <th>Title</th>\n",
       "      <th>Genre</th>\n",
       "      <th>Description</th>\n",
       "      <th>Director</th>\n",
       "      <th>Actors</th>\n",
       "      <th>Year</th>\n",
       "      <th>Runtime (Minutes)</th>\n",
       "      <th>Rating</th>\n",
       "      <th>Votes</th>\n",
       "      <th>Revenue (Millions)</th>\n",
       "      <th>Metascore</th>\n",
       "    </tr>\n",
       "  </thead>\n",
       "  <tbody>\n",
       "    <tr>\n",
       "      <th>0</th>\n",
       "      <td>1</td>\n",
       "      <td>Guardians of the Galaxy</td>\n",
       "      <td>Action,Adventure,Sci-Fi</td>\n",
       "      <td>A group of intergalactic criminals are forced ...</td>\n",
       "      <td>James Gunn</td>\n",
       "      <td>Chris Pratt, Vin Diesel, Bradley Cooper, Zoe S...</td>\n",
       "      <td>2014</td>\n",
       "      <td>121</td>\n",
       "      <td>8.1</td>\n",
       "      <td>757074</td>\n",
       "      <td>333.13</td>\n",
       "      <td>76.0</td>\n",
       "    </tr>\n",
       "    <tr>\n",
       "      <th>1</th>\n",
       "      <td>2</td>\n",
       "      <td>Prometheus</td>\n",
       "      <td>Adventure,Mystery,Sci-Fi</td>\n",
       "      <td>Following clues to the origin of mankind, a te...</td>\n",
       "      <td>Ridley Scott</td>\n",
       "      <td>Noomi Rapace, Logan Marshall-Green, Michael Fa...</td>\n",
       "      <td>2012</td>\n",
       "      <td>124</td>\n",
       "      <td>7.0</td>\n",
       "      <td>485820</td>\n",
       "      <td>126.46</td>\n",
       "      <td>65.0</td>\n",
       "    </tr>\n",
       "    <tr>\n",
       "      <th>2</th>\n",
       "      <td>3</td>\n",
       "      <td>Split</td>\n",
       "      <td>Horror,Thriller</td>\n",
       "      <td>Three girls are kidnapped by a man with a diag...</td>\n",
       "      <td>M. Night Shyamalan</td>\n",
       "      <td>James McAvoy, Anya Taylor-Joy, Haley Lu Richar...</td>\n",
       "      <td>2016</td>\n",
       "      <td>117</td>\n",
       "      <td>7.3</td>\n",
       "      <td>157606</td>\n",
       "      <td>138.12</td>\n",
       "      <td>62.0</td>\n",
       "    </tr>\n",
       "    <tr>\n",
       "      <th>3</th>\n",
       "      <td>4</td>\n",
       "      <td>Sing</td>\n",
       "      <td>Animation,Comedy,Family</td>\n",
       "      <td>In a city of humanoid animals, a hustling thea...</td>\n",
       "      <td>Christophe Lourdelet</td>\n",
       "      <td>Matthew McConaughey,Reese Witherspoon, Seth Ma...</td>\n",
       "      <td>2016</td>\n",
       "      <td>108</td>\n",
       "      <td>7.2</td>\n",
       "      <td>60545</td>\n",
       "      <td>270.32</td>\n",
       "      <td>59.0</td>\n",
       "    </tr>\n",
       "    <tr>\n",
       "      <th>4</th>\n",
       "      <td>5</td>\n",
       "      <td>Suicide Squad</td>\n",
       "      <td>Action,Adventure,Fantasy</td>\n",
       "      <td>A secret government agency recruits some of th...</td>\n",
       "      <td>David Ayer</td>\n",
       "      <td>Will Smith, Jared Leto, Margot Robbie, Viola D...</td>\n",
       "      <td>2016</td>\n",
       "      <td>123</td>\n",
       "      <td>6.2</td>\n",
       "      <td>393727</td>\n",
       "      <td>325.02</td>\n",
       "      <td>40.0</td>\n",
       "    </tr>\n",
       "    <tr>\n",
       "      <th>5</th>\n",
       "      <td>6</td>\n",
       "      <td>The Great Wall</td>\n",
       "      <td>Action,Adventure,Fantasy</td>\n",
       "      <td>European mercenaries searching for black powde...</td>\n",
       "      <td>Yimou Zhang</td>\n",
       "      <td>Matt Damon, Tian Jing, Willem Dafoe, Andy Lau</td>\n",
       "      <td>2016</td>\n",
       "      <td>103</td>\n",
       "      <td>6.1</td>\n",
       "      <td>56036</td>\n",
       "      <td>45.13</td>\n",
       "      <td>42.0</td>\n",
       "    </tr>\n",
       "    <tr>\n",
       "      <th>6</th>\n",
       "      <td>7</td>\n",
       "      <td>La La Land</td>\n",
       "      <td>Comedy,Drama,Music</td>\n",
       "      <td>A jazz pianist falls for an aspiring actress i...</td>\n",
       "      <td>Damien Chazelle</td>\n",
       "      <td>Ryan Gosling, Emma Stone, Rosemarie DeWitt, J....</td>\n",
       "      <td>2016</td>\n",
       "      <td>128</td>\n",
       "      <td>8.3</td>\n",
       "      <td>258682</td>\n",
       "      <td>151.06</td>\n",
       "      <td>93.0</td>\n",
       "    </tr>\n",
       "    <tr>\n",
       "      <th>7</th>\n",
       "      <td>8</td>\n",
       "      <td>Mindhorn</td>\n",
       "      <td>Comedy</td>\n",
       "      <td>A has-been actor best known for playing the ti...</td>\n",
       "      <td>Sean Foley</td>\n",
       "      <td>Essie Davis, Andrea Riseborough, Julian Barrat...</td>\n",
       "      <td>2016</td>\n",
       "      <td>89</td>\n",
       "      <td>6.4</td>\n",
       "      <td>2490</td>\n",
       "      <td>NaN</td>\n",
       "      <td>71.0</td>\n",
       "    </tr>\n",
       "    <tr>\n",
       "      <th>8</th>\n",
       "      <td>9</td>\n",
       "      <td>The Lost City of Z</td>\n",
       "      <td>Action,Adventure,Biography</td>\n",
       "      <td>A true-life drama, centering on British explor...</td>\n",
       "      <td>James Gray</td>\n",
       "      <td>Charlie Hunnam, Robert Pattinson, Sienna Mille...</td>\n",
       "      <td>2016</td>\n",
       "      <td>141</td>\n",
       "      <td>7.1</td>\n",
       "      <td>7188</td>\n",
       "      <td>8.01</td>\n",
       "      <td>78.0</td>\n",
       "    </tr>\n",
       "    <tr>\n",
       "      <th>9</th>\n",
       "      <td>10</td>\n",
       "      <td>Passengers</td>\n",
       "      <td>Adventure,Drama,Romance</td>\n",
       "      <td>A spacecraft traveling to a distant colony pla...</td>\n",
       "      <td>Morten Tyldum</td>\n",
       "      <td>Jennifer Lawrence, Chris Pratt, Michael Sheen,...</td>\n",
       "      <td>2016</td>\n",
       "      <td>116</td>\n",
       "      <td>7.0</td>\n",
       "      <td>192177</td>\n",
       "      <td>100.01</td>\n",
       "      <td>41.0</td>\n",
       "    </tr>\n",
       "  </tbody>\n",
       "</table>\n",
       "</div>"
      ],
      "text/plain": [
       "   Rank                    Title                       Genre  \\\n",
       "0     1  Guardians of the Galaxy     Action,Adventure,Sci-Fi   \n",
       "1     2               Prometheus    Adventure,Mystery,Sci-Fi   \n",
       "2     3                    Split             Horror,Thriller   \n",
       "3     4                     Sing     Animation,Comedy,Family   \n",
       "4     5            Suicide Squad    Action,Adventure,Fantasy   \n",
       "5     6           The Great Wall    Action,Adventure,Fantasy   \n",
       "6     7               La La Land          Comedy,Drama,Music   \n",
       "7     8                 Mindhorn                      Comedy   \n",
       "8     9       The Lost City of Z  Action,Adventure,Biography   \n",
       "9    10               Passengers     Adventure,Drama,Romance   \n",
       "\n",
       "                                         Description              Director  \\\n",
       "0  A group of intergalactic criminals are forced ...            James Gunn   \n",
       "1  Following clues to the origin of mankind, a te...          Ridley Scott   \n",
       "2  Three girls are kidnapped by a man with a diag...    M. Night Shyamalan   \n",
       "3  In a city of humanoid animals, a hustling thea...  Christophe Lourdelet   \n",
       "4  A secret government agency recruits some of th...            David Ayer   \n",
       "5  European mercenaries searching for black powde...           Yimou Zhang   \n",
       "6  A jazz pianist falls for an aspiring actress i...       Damien Chazelle   \n",
       "7  A has-been actor best known for playing the ti...            Sean Foley   \n",
       "8  A true-life drama, centering on British explor...            James Gray   \n",
       "9  A spacecraft traveling to a distant colony pla...         Morten Tyldum   \n",
       "\n",
       "                                              Actors  Year  Runtime (Minutes)  \\\n",
       "0  Chris Pratt, Vin Diesel, Bradley Cooper, Zoe S...  2014                121   \n",
       "1  Noomi Rapace, Logan Marshall-Green, Michael Fa...  2012                124   \n",
       "2  James McAvoy, Anya Taylor-Joy, Haley Lu Richar...  2016                117   \n",
       "3  Matthew McConaughey,Reese Witherspoon, Seth Ma...  2016                108   \n",
       "4  Will Smith, Jared Leto, Margot Robbie, Viola D...  2016                123   \n",
       "5      Matt Damon, Tian Jing, Willem Dafoe, Andy Lau  2016                103   \n",
       "6  Ryan Gosling, Emma Stone, Rosemarie DeWitt, J....  2016                128   \n",
       "7  Essie Davis, Andrea Riseborough, Julian Barrat...  2016                 89   \n",
       "8  Charlie Hunnam, Robert Pattinson, Sienna Mille...  2016                141   \n",
       "9  Jennifer Lawrence, Chris Pratt, Michael Sheen,...  2016                116   \n",
       "\n",
       "   Rating   Votes  Revenue (Millions)  Metascore  \n",
       "0     8.1  757074              333.13       76.0  \n",
       "1     7.0  485820              126.46       65.0  \n",
       "2     7.3  157606              138.12       62.0  \n",
       "3     7.2   60545              270.32       59.0  \n",
       "4     6.2  393727              325.02       40.0  \n",
       "5     6.1   56036               45.13       42.0  \n",
       "6     8.3  258682              151.06       93.0  \n",
       "7     6.4    2490                 NaN       71.0  \n",
       "8     7.1    7188                8.01       78.0  \n",
       "9     7.0  192177              100.01       41.0  "
      ]
     },
     "execution_count": 6,
     "metadata": {},
     "output_type": "execute_result"
    }
   ],
   "source": [
    "movies.head(10)"
   ]
  },
  {
   "cell_type": "code",
   "execution_count": 7,
   "metadata": {
    "colab": {
     "base_uri": "https://localhost:8080/",
     "height": 630
    },
    "id": "rKFp16WQF-xo",
    "outputId": "6aa15777-4ae0-42ab-e34e-3f81a24f2b8b"
   },
   "outputs": [
    {
     "name": "stdout",
     "output_type": "stream",
     "text": [
      "<class 'pandas.core.frame.DataFrame'>\n",
      "RangeIndex: 1000 entries, 0 to 999\n",
      "Data columns (total 12 columns):\n",
      " #   Column              Non-Null Count  Dtype  \n",
      "---  ------              --------------  -----  \n",
      " 0   Rank                1000 non-null   int64  \n",
      " 1   Title               1000 non-null   object \n",
      " 2   Genre               1000 non-null   object \n",
      " 3   Description         1000 non-null   object \n",
      " 4   Director            1000 non-null   object \n",
      " 5   Actors              1000 non-null   object \n",
      " 6   Year                1000 non-null   int64  \n",
      " 7   Runtime (Minutes)   1000 non-null   int64  \n",
      " 8   Rating              1000 non-null   float64\n",
      " 9   Votes               1000 non-null   int64  \n",
      " 10  Revenue (Millions)  872 non-null    float64\n",
      " 11  Metascore           936 non-null    float64\n",
      "dtypes: float64(3), int64(4), object(5)\n",
      "memory usage: 93.9+ KB\n"
     ]
    },
    {
     "data": {
      "text/html": [
       "<div>\n",
       "<style scoped>\n",
       "    .dataframe tbody tr th:only-of-type {\n",
       "        vertical-align: middle;\n",
       "    }\n",
       "\n",
       "    .dataframe tbody tr th {\n",
       "        vertical-align: top;\n",
       "    }\n",
       "\n",
       "    .dataframe thead th {\n",
       "        text-align: right;\n",
       "    }\n",
       "</style>\n",
       "<table border=\"1\" class=\"dataframe\">\n",
       "  <thead>\n",
       "    <tr style=\"text-align: right;\">\n",
       "      <th></th>\n",
       "      <th>Rank</th>\n",
       "      <th>Year</th>\n",
       "      <th>Runtime (Minutes)</th>\n",
       "      <th>Rating</th>\n",
       "      <th>Votes</th>\n",
       "      <th>Revenue (Millions)</th>\n",
       "      <th>Metascore</th>\n",
       "    </tr>\n",
       "  </thead>\n",
       "  <tbody>\n",
       "    <tr>\n",
       "      <th>count</th>\n",
       "      <td>1000.000000</td>\n",
       "      <td>1000.000000</td>\n",
       "      <td>1000.000000</td>\n",
       "      <td>1000.000000</td>\n",
       "      <td>1.000000e+03</td>\n",
       "      <td>872.000000</td>\n",
       "      <td>936.000000</td>\n",
       "    </tr>\n",
       "    <tr>\n",
       "      <th>mean</th>\n",
       "      <td>500.500000</td>\n",
       "      <td>2012.783000</td>\n",
       "      <td>113.172000</td>\n",
       "      <td>6.723200</td>\n",
       "      <td>1.698083e+05</td>\n",
       "      <td>82.956376</td>\n",
       "      <td>58.985043</td>\n",
       "    </tr>\n",
       "    <tr>\n",
       "      <th>std</th>\n",
       "      <td>288.819436</td>\n",
       "      <td>3.205962</td>\n",
       "      <td>18.810908</td>\n",
       "      <td>0.945429</td>\n",
       "      <td>1.887626e+05</td>\n",
       "      <td>103.253540</td>\n",
       "      <td>17.194757</td>\n",
       "    </tr>\n",
       "    <tr>\n",
       "      <th>min</th>\n",
       "      <td>1.000000</td>\n",
       "      <td>2006.000000</td>\n",
       "      <td>66.000000</td>\n",
       "      <td>1.900000</td>\n",
       "      <td>6.100000e+01</td>\n",
       "      <td>0.000000</td>\n",
       "      <td>11.000000</td>\n",
       "    </tr>\n",
       "    <tr>\n",
       "      <th>25%</th>\n",
       "      <td>250.750000</td>\n",
       "      <td>2010.000000</td>\n",
       "      <td>100.000000</td>\n",
       "      <td>6.200000</td>\n",
       "      <td>3.630900e+04</td>\n",
       "      <td>13.270000</td>\n",
       "      <td>47.000000</td>\n",
       "    </tr>\n",
       "    <tr>\n",
       "      <th>50%</th>\n",
       "      <td>500.500000</td>\n",
       "      <td>2014.000000</td>\n",
       "      <td>111.000000</td>\n",
       "      <td>6.800000</td>\n",
       "      <td>1.107990e+05</td>\n",
       "      <td>47.985000</td>\n",
       "      <td>59.500000</td>\n",
       "    </tr>\n",
       "    <tr>\n",
       "      <th>75%</th>\n",
       "      <td>750.250000</td>\n",
       "      <td>2016.000000</td>\n",
       "      <td>123.000000</td>\n",
       "      <td>7.400000</td>\n",
       "      <td>2.399098e+05</td>\n",
       "      <td>113.715000</td>\n",
       "      <td>72.000000</td>\n",
       "    </tr>\n",
       "    <tr>\n",
       "      <th>max</th>\n",
       "      <td>1000.000000</td>\n",
       "      <td>2016.000000</td>\n",
       "      <td>191.000000</td>\n",
       "      <td>9.000000</td>\n",
       "      <td>1.791916e+06</td>\n",
       "      <td>936.630000</td>\n",
       "      <td>100.000000</td>\n",
       "    </tr>\n",
       "  </tbody>\n",
       "</table>\n",
       "</div>"
      ],
      "text/plain": [
       "              Rank         Year  Runtime (Minutes)       Rating         Votes  \\\n",
       "count  1000.000000  1000.000000        1000.000000  1000.000000  1.000000e+03   \n",
       "mean    500.500000  2012.783000         113.172000     6.723200  1.698083e+05   \n",
       "std     288.819436     3.205962          18.810908     0.945429  1.887626e+05   \n",
       "min       1.000000  2006.000000          66.000000     1.900000  6.100000e+01   \n",
       "25%     250.750000  2010.000000         100.000000     6.200000  3.630900e+04   \n",
       "50%     500.500000  2014.000000         111.000000     6.800000  1.107990e+05   \n",
       "75%     750.250000  2016.000000         123.000000     7.400000  2.399098e+05   \n",
       "max    1000.000000  2016.000000         191.000000     9.000000  1.791916e+06   \n",
       "\n",
       "       Revenue (Millions)   Metascore  \n",
       "count          872.000000  936.000000  \n",
       "mean            82.956376   58.985043  \n",
       "std            103.253540   17.194757  \n",
       "min              0.000000   11.000000  \n",
       "25%             13.270000   47.000000  \n",
       "50%             47.985000   59.500000  \n",
       "75%            113.715000   72.000000  \n",
       "max            936.630000  100.000000  "
      ]
     },
     "execution_count": 7,
     "metadata": {},
     "output_type": "execute_result"
    }
   ],
   "source": [
    "movies.info()\n",
    "movies.describe()"
   ]
  },
  {
   "cell_type": "markdown",
   "metadata": {
    "id": "VN5gIfh-GGnn"
   },
   "source": [
    "From the above table it is clearly visible that Revenue has some of the movies which gained very high Revenue their is huge gap beetween 50% -75% - max value.\n",
    "\n",
    "Also, from the above data colum it is understood, Revenue and Metascore column has missing values which needs to be treated. But Revenue of the movie is very sensitive and which we can not relace by Mean, Median or Mode filling."
   ]
  },
  {
   "cell_type": "code",
   "execution_count": 8,
   "metadata": {
    "colab": {
     "base_uri": "https://localhost:8080/"
    },
    "id": "hSzaNuDWGCuD",
    "outputId": "0137832d-430f-4bcf-b9c2-2c3dbe9c99b3"
   },
   "outputs": [
    {
     "name": "stdout",
     "output_type": "stream",
     "text": [
      "<class 'pandas.core.frame.DataFrame'>\n",
      "Int64Index: 872 entries, 0 to 999\n",
      "Data columns (total 12 columns):\n",
      " #   Column              Non-Null Count  Dtype  \n",
      "---  ------              --------------  -----  \n",
      " 0   Rank                872 non-null    int64  \n",
      " 1   Title               872 non-null    object \n",
      " 2   Genre               872 non-null    object \n",
      " 3   Description         872 non-null    object \n",
      " 4   Director            872 non-null    object \n",
      " 5   Actors              872 non-null    object \n",
      " 6   Year                872 non-null    int64  \n",
      " 7   Runtime (Minutes)   872 non-null    int64  \n",
      " 8   Rating              872 non-null    float64\n",
      " 9   Votes               872 non-null    int64  \n",
      " 10  Revenue (Millions)  872 non-null    float64\n",
      " 11  Metascore           838 non-null    float64\n",
      "dtypes: float64(3), int64(4), object(5)\n",
      "memory usage: 88.6+ KB\n"
     ]
    }
   ],
   "source": [
    "df=movies[~movies['Revenue (Millions)'].isnull()].copy()\n",
    "df.info()"
   ]
  },
  {
   "cell_type": "markdown",
   "metadata": {
    "id": "yfWQl7cYGRyy"
   },
   "source": [
    "Since Metascore still has few null records left whcih can be replaced using mean value treatment."
   ]
  },
  {
   "cell_type": "code",
   "execution_count": 9,
   "metadata": {
    "id": "AGa7H5IeGMdr"
   },
   "outputs": [],
   "source": [
    "max_metascore =df['Metascore'].mean()\n",
    "df.Metascore.fillna(max_metascore,inplace=True)"
   ]
  },
  {
   "cell_type": "markdown",
   "metadata": {
    "id": "QyuxSRCJGV_W"
   },
   "source": [
    "Let us first look at the Revenue of all the movies over period of time."
   ]
  },
  {
   "cell_type": "code",
   "execution_count": 10,
   "metadata": {
    "colab": {
     "base_uri": "https://localhost:8080/",
     "height": 279
    },
    "id": "N5xQIkmcGPcJ",
    "outputId": "1131c434-2ee8-4e56-cfc2-d6b282934046"
   },
   "outputs": [
    {
     "data": {
      "image/png": "[encoded data removed]",
      "text/plain": [
       "<Figure size 432x288 with 1 Axes>"
      ]
     },
     "metadata": {
      "needs_background": "light"
     },
     "output_type": "display_data"
    }
   ],
   "source": [
    "sns.boxplot(data=df,x='Year', y='Revenue (Millions)')\n",
    "plt.show()"
   ]
  },
  {
   "cell_type": "markdown",
   "metadata": {
    "id": "CvlN6YowGbcE"
   },
   "source": [
    "We can observe from above plot, Year 2015 and 2009 clearly has datapoint with highest Revenue generating movie.\n",
    "\n",
    "Which we will observe in our further analysis.\n",
    "\n",
    "We\n",
    " will be adding a column with 1 in all the rows which will be usefull in our further analysis we wil do. Also, for now we will keep our original Table Sorted by Revenue."
   ]
  },
  {
   "cell_type": "code",
   "execution_count": 11,
   "metadata": {
    "id": "Ez7_VThKGYy1"
   },
   "outputs": [],
   "source": [
    "df['cnt']=1"
   ]
  },
  {
   "cell_type": "code",
   "execution_count": 13,
   "metadata": {
    "colab": {
     "base_uri": "https://localhost:8080/",
     "height": 903
    },
    "id": "ntO9Zbu_GeYm",
    "outputId": "543ef5bd-7969-49b9-c785-857b0e807ee3"
   },
   "outputs": [
    {
     "data": {
      "image/png": "[encoded data removed]",
      "text/plain": [
       "<Figure size 900x900 with 30 Axes>"
      ]
     },
     "metadata": {
      "needs_background": "light"
     },
     "output_type": "display_data"
    }
   ],
   "source": [
    "sns.pairplot(data=df, vars=[\"Votes\", \"Revenue (Millions)\",\"Rating\",\n",
    "                            \"Runtime (Minutes)\",\"Metascore\"])\n",
    "plt.show()"
   ]
  },
  {
   "cell_type": "markdown",
   "metadata": {
    "id": "94zBCGmXGlwC"
   },
   "source": [
    "The above Pairplot gives us the basic understanding on distribution of all the numerical column.\n",
    "\n",
    "If we look at the Relationship of Revenue and Votes- YOY"
   ]
  },
  {
   "cell_type": "code",
   "execution_count": 14,
   "metadata": {
    "colab": {
     "base_uri": "https://localhost:8080/",
     "height": 542
    },
    "id": "aMl1P6oAGiri",
    "outputId": "85a81e6e-2730-491d-ae05-9e6d908dfb9d"
   },
   "outputs": [
    {
     "ename": "NameError",
     "evalue": "name 'px' is not defined",
     "output_type": "error",
     "traceback": [
      "\u001b[0;31m---------------------------------------------------------------------------\u001b[0m",
      "\u001b[0;31mNameError\u001b[0m                                 Traceback (most recent call last)",
      "\u001b[0;32m/var/folders/mb/j47tljyn3kz85pj_kw2trq8h0000gn/T/ipykernel_34283/2556037930.py\u001b[0m in \u001b[0;36m<module>\u001b[0;34m\u001b[0m\n\u001b[0;32m----> 1\u001b[0;31m px.scatter(df,x='Revenue (Millions)',y='Votes',size='Votes', \n\u001b[0m\u001b[1;32m      2\u001b[0m            \u001b[0mcolor\u001b[0m \u001b[0;34m=\u001b[0m \u001b[0;34m'Rating'\u001b[0m\u001b[0;34m,\u001b[0m\u001b[0mhover_name\u001b[0m\u001b[0;34m=\u001b[0m\u001b[0;34m'Title'\u001b[0m\u001b[0;34m,\u001b[0m\u001b[0manimation_frame\u001b[0m\u001b[0;34m=\u001b[0m\u001b[0;34m'Year'\u001b[0m\u001b[0;34m,\u001b[0m\u001b[0;34m\u001b[0m\u001b[0;34m\u001b[0m\u001b[0m\n\u001b[1;32m      3\u001b[0m            title=\"Distribution of Revenue and Votes\")\n",
      "\u001b[0;31mNameError\u001b[0m: name 'px' is not defined"
     ]
    }
   ],
   "source": [
    "px.scatter(df,x='Revenue (Millions)',y='Votes',size='Votes', \n",
    "           color = 'Rating',hover_name='Title',animation_frame='Year',\n",
    "           title=\"Distribution of Revenue and Votes\")"
   ]
  },
  {
   "cell_type": "markdown",
   "metadata": {
    "id": "bc8zhc_qGz-2"
   },
   "source": [
    "From the above plot we observe that their are movies which has Higher Rating along with Higher Votes still Revenue is not up to the Mark. Year - 2012 (Django Unchained) Year - 2014 (Interstellar) Year - 2006 (The Prestige,The Departed)\n",
    "\n",
    "Splitting the Genre and Actor Table for another set of visulaizations"
   ]
  },
  {
   "cell_type": "code",
   "execution_count": 17,
   "metadata": {
    "id": "bE4_IfhPGsoP"
   },
   "outputs": [],
   "source": [
    "df[['Genre1', 'Genre2','Genre3']] = df['Genre'].str.split(',', 3, expand=True).fillna(value=\"\")\n",
    "df[['Actor1', 'Actor2','Actor3']] = df['Actors'].str.split(',', 2,expand=True).fillna(value=\"\")"
   ]
  },
  {
   "cell_type": "code",
   "execution_count": 18,
   "metadata": {
    "colab": {
     "base_uri": "https://localhost:8080/",
     "height": 1000
    },
    "id": "5WJ5rFVgItCY",
    "outputId": "bbfb5481-80d8-4500-9dfc-fcfda72985ef"
   },
   "outputs": [
    {
     "data": {
      "text/html": [
       "<div>\n",
       "<style scoped>\n",
       "    .dataframe tbody tr th:only-of-type {\n",
       "        vertical-align: middle;\n",
       "    }\n",
       "\n",
       "    .dataframe tbody tr th {\n",
       "        vertical-align: top;\n",
       "    }\n",
       "\n",
       "    .dataframe thead th {\n",
       "        text-align: right;\n",
       "    }\n",
       "</style>\n",
       "<table border=\"1\" class=\"dataframe\">\n",
       "  <thead>\n",
       "    <tr style=\"text-align: right;\">\n",
       "      <th></th>\n",
       "      <th>Rank</th>\n",
       "      <th>Title</th>\n",
       "      <th>Genre</th>\n",
       "      <th>Description</th>\n",
       "      <th>Director</th>\n",
       "      <th>Actors</th>\n",
       "      <th>Year</th>\n",
       "      <th>Runtime (Minutes)</th>\n",
       "      <th>Rating</th>\n",
       "      <th>Votes</th>\n",
       "      <th>Revenue (Millions)</th>\n",
       "      <th>Metascore</th>\n",
       "      <th>cnt</th>\n",
       "      <th>Genre1</th>\n",
       "      <th>Genre2</th>\n",
       "      <th>Genre3</th>\n",
       "      <th>Actor1</th>\n",
       "      <th>Actor2</th>\n",
       "      <th>Actor3</th>\n",
       "    </tr>\n",
       "  </thead>\n",
       "  <tbody>\n",
       "    <tr>\n",
       "      <th>0</th>\n",
       "      <td>1</td>\n",
       "      <td>Guardians of the Galaxy</td>\n",
       "      <td>Action,Adventure,Sci-Fi</td>\n",
       "      <td>A group of intergalactic criminals are forced ...</td>\n",
       "      <td>James Gunn</td>\n",
       "      <td>Chris Pratt, Vin Diesel, Bradley Cooper, Zoe S...</td>\n",
       "      <td>2014</td>\n",
       "      <td>121</td>\n",
       "      <td>8.1</td>\n",
       "      <td>757074</td>\n",
       "      <td>333.13</td>\n",
       "      <td>76.0</td>\n",
       "      <td>1</td>\n",
       "      <td>Action</td>\n",
       "      <td>Adventure</td>\n",
       "      <td>Sci-Fi</td>\n",
       "      <td>Chris Pratt</td>\n",
       "      <td>Vin Diesel</td>\n",
       "      <td>Bradley Cooper, Zoe Saldana</td>\n",
       "    </tr>\n",
       "    <tr>\n",
       "      <th>1</th>\n",
       "      <td>2</td>\n",
       "      <td>Prometheus</td>\n",
       "      <td>Adventure,Mystery,Sci-Fi</td>\n",
       "      <td>Following clues to the origin of mankind, a te...</td>\n",
       "      <td>Ridley Scott</td>\n",
       "      <td>Noomi Rapace, Logan Marshall-Green, Michael Fa...</td>\n",
       "      <td>2012</td>\n",
       "      <td>124</td>\n",
       "      <td>7.0</td>\n",
       "      <td>485820</td>\n",
       "      <td>126.46</td>\n",
       "      <td>65.0</td>\n",
       "      <td>1</td>\n",
       "      <td>Adventure</td>\n",
       "      <td>Mystery</td>\n",
       "      <td>Sci-Fi</td>\n",
       "      <td>Noomi Rapace</td>\n",
       "      <td>Logan Marshall-Green</td>\n",
       "      <td>Michael Fassbender, Charlize Theron</td>\n",
       "    </tr>\n",
       "    <tr>\n",
       "      <th>2</th>\n",
       "      <td>3</td>\n",
       "      <td>Split</td>\n",
       "      <td>Horror,Thriller</td>\n",
       "      <td>Three girls are kidnapped by a man with a diag...</td>\n",
       "      <td>M. Night Shyamalan</td>\n",
       "      <td>James McAvoy, Anya Taylor-Joy, Haley Lu Richar...</td>\n",
       "      <td>2016</td>\n",
       "      <td>117</td>\n",
       "      <td>7.3</td>\n",
       "      <td>157606</td>\n",
       "      <td>138.12</td>\n",
       "      <td>62.0</td>\n",
       "      <td>1</td>\n",
       "      <td>Horror</td>\n",
       "      <td>Thriller</td>\n",
       "      <td></td>\n",
       "      <td>James McAvoy</td>\n",
       "      <td>Anya Taylor-Joy</td>\n",
       "      <td>Haley Lu Richardson, Jessica Sula</td>\n",
       "    </tr>\n",
       "    <tr>\n",
       "      <th>3</th>\n",
       "      <td>4</td>\n",
       "      <td>Sing</td>\n",
       "      <td>Animation,Comedy,Family</td>\n",
       "      <td>In a city of humanoid animals, a hustling thea...</td>\n",
       "      <td>Christophe Lourdelet</td>\n",
       "      <td>Matthew McConaughey,Reese Witherspoon, Seth Ma...</td>\n",
       "      <td>2016</td>\n",
       "      <td>108</td>\n",
       "      <td>7.2</td>\n",
       "      <td>60545</td>\n",
       "      <td>270.32</td>\n",
       "      <td>59.0</td>\n",
       "      <td>1</td>\n",
       "      <td>Animation</td>\n",
       "      <td>Comedy</td>\n",
       "      <td>Family</td>\n",
       "      <td>Matthew McConaughey</td>\n",
       "      <td>Reese Witherspoon</td>\n",
       "      <td>Seth MacFarlane, Scarlett Johansson</td>\n",
       "    </tr>\n",
       "    <tr>\n",
       "      <th>4</th>\n",
       "      <td>5</td>\n",
       "      <td>Suicide Squad</td>\n",
       "      <td>Action,Adventure,Fantasy</td>\n",
       "      <td>A secret government agency recruits some of th...</td>\n",
       "      <td>David Ayer</td>\n",
       "      <td>Will Smith, Jared Leto, Margot Robbie, Viola D...</td>\n",
       "      <td>2016</td>\n",
       "      <td>123</td>\n",
       "      <td>6.2</td>\n",
       "      <td>393727</td>\n",
       "      <td>325.02</td>\n",
       "      <td>40.0</td>\n",
       "      <td>1</td>\n",
       "      <td>Action</td>\n",
       "      <td>Adventure</td>\n",
       "      <td>Fantasy</td>\n",
       "      <td>Will Smith</td>\n",
       "      <td>Jared Leto</td>\n",
       "      <td>Margot Robbie, Viola Davis</td>\n",
       "    </tr>\n",
       "    <tr>\n",
       "      <th>5</th>\n",
       "      <td>6</td>\n",
       "      <td>The Great Wall</td>\n",
       "      <td>Action,Adventure,Fantasy</td>\n",
       "      <td>European mercenaries searching for black powde...</td>\n",
       "      <td>Yimou Zhang</td>\n",
       "      <td>Matt Damon, Tian Jing, Willem Dafoe, Andy Lau</td>\n",
       "      <td>2016</td>\n",
       "      <td>103</td>\n",
       "      <td>6.1</td>\n",
       "      <td>56036</td>\n",
       "      <td>45.13</td>\n",
       "      <td>42.0</td>\n",
       "      <td>1</td>\n",
       "      <td>Action</td>\n",
       "      <td>Adventure</td>\n",
       "      <td>Fantasy</td>\n",
       "      <td>Matt Damon</td>\n",
       "      <td>Tian Jing</td>\n",
       "      <td>Willem Dafoe, Andy Lau</td>\n",
       "    </tr>\n",
       "    <tr>\n",
       "      <th>6</th>\n",
       "      <td>7</td>\n",
       "      <td>La La Land</td>\n",
       "      <td>Comedy,Drama,Music</td>\n",
       "      <td>A jazz pianist falls for an aspiring actress i...</td>\n",
       "      <td>Damien Chazelle</td>\n",
       "      <td>Ryan Gosling, Emma Stone, Rosemarie DeWitt, J....</td>\n",
       "      <td>2016</td>\n",
       "      <td>128</td>\n",
       "      <td>8.3</td>\n",
       "      <td>258682</td>\n",
       "      <td>151.06</td>\n",
       "      <td>93.0</td>\n",
       "      <td>1</td>\n",
       "      <td>Comedy</td>\n",
       "      <td>Drama</td>\n",
       "      <td>Music</td>\n",
       "      <td>Ryan Gosling</td>\n",
       "      <td>Emma Stone</td>\n",
       "      <td>Rosemarie DeWitt, J.K. Simmons</td>\n",
       "    </tr>\n",
       "    <tr>\n",
       "      <th>8</th>\n",
       "      <td>9</td>\n",
       "      <td>The Lost City of Z</td>\n",
       "      <td>Action,Adventure,Biography</td>\n",
       "      <td>A true-life drama, centering on British explor...</td>\n",
       "      <td>James Gray</td>\n",
       "      <td>Charlie Hunnam, Robert Pattinson, Sienna Mille...</td>\n",
       "      <td>2016</td>\n",
       "      <td>141</td>\n",
       "      <td>7.1</td>\n",
       "      <td>7188</td>\n",
       "      <td>8.01</td>\n",
       "      <td>78.0</td>\n",
       "      <td>1</td>\n",
       "      <td>Action</td>\n",
       "      <td>Adventure</td>\n",
       "      <td>Biography</td>\n",
       "      <td>Charlie Hunnam</td>\n",
       "      <td>Robert Pattinson</td>\n",
       "      <td>Sienna Miller, Tom Holland</td>\n",
       "    </tr>\n",
       "    <tr>\n",
       "      <th>9</th>\n",
       "      <td>10</td>\n",
       "      <td>Passengers</td>\n",
       "      <td>Adventure,Drama,Romance</td>\n",
       "      <td>A spacecraft traveling to a distant colony pla...</td>\n",
       "      <td>Morten Tyldum</td>\n",
       "      <td>Jennifer Lawrence, Chris Pratt, Michael Sheen,...</td>\n",
       "      <td>2016</td>\n",
       "      <td>116</td>\n",
       "      <td>7.0</td>\n",
       "      <td>192177</td>\n",
       "      <td>100.01</td>\n",
       "      <td>41.0</td>\n",
       "      <td>1</td>\n",
       "      <td>Adventure</td>\n",
       "      <td>Drama</td>\n",
       "      <td>Romance</td>\n",
       "      <td>Jennifer Lawrence</td>\n",
       "      <td>Chris Pratt</td>\n",
       "      <td>Michael Sheen,Laurence Fishburne</td>\n",
       "    </tr>\n",
       "    <tr>\n",
       "      <th>10</th>\n",
       "      <td>11</td>\n",
       "      <td>Fantastic Beasts and Where to Find Them</td>\n",
       "      <td>Adventure,Family,Fantasy</td>\n",
       "      <td>The adventures of writer Newt Scamander in New...</td>\n",
       "      <td>David Yates</td>\n",
       "      <td>Eddie Redmayne, Katherine Waterston, Alison Su...</td>\n",
       "      <td>2016</td>\n",
       "      <td>133</td>\n",
       "      <td>7.5</td>\n",
       "      <td>232072</td>\n",
       "      <td>234.02</td>\n",
       "      <td>66.0</td>\n",
       "      <td>1</td>\n",
       "      <td>Adventure</td>\n",
       "      <td>Family</td>\n",
       "      <td>Fantasy</td>\n",
       "      <td>Eddie Redmayne</td>\n",
       "      <td>Katherine Waterston</td>\n",
       "      <td>Alison Sudol,Dan Fogler</td>\n",
       "    </tr>\n",
       "  </tbody>\n",
       "</table>\n",
       "</div>"
      ],
      "text/plain": [
       "    Rank                                    Title                       Genre  \\\n",
       "0      1                  Guardians of the Galaxy     Action,Adventure,Sci-Fi   \n",
       "1      2                               Prometheus    Adventure,Mystery,Sci-Fi   \n",
       "2      3                                    Split             Horror,Thriller   \n",
       "3      4                                     Sing     Animation,Comedy,Family   \n",
       "4      5                            Suicide Squad    Action,Adventure,Fantasy   \n",
       "5      6                           The Great Wall    Action,Adventure,Fantasy   \n",
       "6      7                               La La Land          Comedy,Drama,Music   \n",
       "8      9                       The Lost City of Z  Action,Adventure,Biography   \n",
       "9     10                               Passengers     Adventure,Drama,Romance   \n",
       "10    11  Fantastic Beasts and Where to Find Them    Adventure,Family,Fantasy   \n",
       "\n",
       "                                          Description              Director  \\\n",
       "0   A group of intergalactic criminals are forced ...            James Gunn   \n",
       "1   Following clues to the origin of mankind, a te...          Ridley Scott   \n",
       "2   Three girls are kidnapped by a man with a diag...    M. Night Shyamalan   \n",
       "3   In a city of humanoid animals, a hustling thea...  Christophe Lourdelet   \n",
       "4   A secret government agency recruits some of th...            David Ayer   \n",
       "5   European mercenaries searching for black powde...           Yimou Zhang   \n",
       "6   A jazz pianist falls for an aspiring actress i...       Damien Chazelle   \n",
       "8   A true-life drama, centering on British explor...            James Gray   \n",
       "9   A spacecraft traveling to a distant colony pla...         Morten Tyldum   \n",
       "10  The adventures of writer Newt Scamander in New...           David Yates   \n",
       "\n",
       "                                               Actors  Year  \\\n",
       "0   Chris Pratt, Vin Diesel, Bradley Cooper, Zoe S...  2014   \n",
       "1   Noomi Rapace, Logan Marshall-Green, Michael Fa...  2012   \n",
       "2   James McAvoy, Anya Taylor-Joy, Haley Lu Richar...  2016   \n",
       "3   Matthew McConaughey,Reese Witherspoon, Seth Ma...  2016   \n",
       "4   Will Smith, Jared Leto, Margot Robbie, Viola D...  2016   \n",
       "5       Matt Damon, Tian Jing, Willem Dafoe, Andy Lau  2016   \n",
       "6   Ryan Gosling, Emma Stone, Rosemarie DeWitt, J....  2016   \n",
       "8   Charlie Hunnam, Robert Pattinson, Sienna Mille...  2016   \n",
       "9   Jennifer Lawrence, Chris Pratt, Michael Sheen,...  2016   \n",
       "10  Eddie Redmayne, Katherine Waterston, Alison Su...  2016   \n",
       "\n",
       "    Runtime (Minutes)  Rating   Votes  Revenue (Millions)  Metascore  cnt  \\\n",
       "0                 121     8.1  757074              333.13       76.0    1   \n",
       "1                 124     7.0  485820              126.46       65.0    1   \n",
       "2                 117     7.3  157606              138.12       62.0    1   \n",
       "3                 108     7.2   60545              270.32       59.0    1   \n",
       "4                 123     6.2  393727              325.02       40.0    1   \n",
       "5                 103     6.1   56036               45.13       42.0    1   \n",
       "6                 128     8.3  258682              151.06       93.0    1   \n",
       "8                 141     7.1    7188                8.01       78.0    1   \n",
       "9                 116     7.0  192177              100.01       41.0    1   \n",
       "10                133     7.5  232072              234.02       66.0    1   \n",
       "\n",
       "       Genre1     Genre2     Genre3               Actor1  \\\n",
       "0      Action  Adventure     Sci-Fi          Chris Pratt   \n",
       "1   Adventure    Mystery     Sci-Fi         Noomi Rapace   \n",
       "2      Horror   Thriller                    James McAvoy   \n",
       "3   Animation     Comedy     Family  Matthew McConaughey   \n",
       "4      Action  Adventure    Fantasy           Will Smith   \n",
       "5      Action  Adventure    Fantasy           Matt Damon   \n",
       "6      Comedy      Drama      Music         Ryan Gosling   \n",
       "8      Action  Adventure  Biography       Charlie Hunnam   \n",
       "9   Adventure      Drama    Romance    Jennifer Lawrence   \n",
       "10  Adventure     Family    Fantasy       Eddie Redmayne   \n",
       "\n",
       "                   Actor2                                Actor3  \n",
       "0              Vin Diesel           Bradley Cooper, Zoe Saldana  \n",
       "1    Logan Marshall-Green   Michael Fassbender, Charlize Theron  \n",
       "2         Anya Taylor-Joy     Haley Lu Richardson, Jessica Sula  \n",
       "3       Reese Witherspoon   Seth MacFarlane, Scarlett Johansson  \n",
       "4              Jared Leto            Margot Robbie, Viola Davis  \n",
       "5               Tian Jing                Willem Dafoe, Andy Lau  \n",
       "6              Emma Stone        Rosemarie DeWitt, J.K. Simmons  \n",
       "8        Robert Pattinson            Sienna Miller, Tom Holland  \n",
       "9             Chris Pratt      Michael Sheen,Laurence Fishburne  \n",
       "10    Katherine Waterston               Alison Sudol,Dan Fogler  "
      ]
     },
     "execution_count": 18,
     "metadata": {},
     "output_type": "execute_result"
    }
   ],
   "source": [
    "df.head(10)"
   ]
  },
  {
   "cell_type": "code",
   "execution_count": 19,
   "metadata": {
    "id": "7M0pB7VnG3pC"
   },
   "outputs": [],
   "source": [
    "df['Genre2']=df['Genre2'].fillna(df.Genre1, inplace=True)\n",
    "df['Genre3']=df['Genre3'].fillna(df.Genre1,inplace=True)"
   ]
  },
  {
   "cell_type": "code",
   "execution_count": 20,
   "metadata": {
    "colab": {
     "base_uri": "https://localhost:8080/",
     "height": 583
    },
    "id": "-su0d81TH0tq",
    "outputId": "d9c21582-f677-4a28-f6b6-2b9f295794c9"
   },
   "outputs": [
    {
     "data": {
      "text/html": [
       "<div>\n",
       "<style scoped>\n",
       "    .dataframe tbody tr th:only-of-type {\n",
       "        vertical-align: middle;\n",
       "    }\n",
       "\n",
       "    .dataframe tbody tr th {\n",
       "        vertical-align: top;\n",
       "    }\n",
       "\n",
       "    .dataframe thead th {\n",
       "        text-align: right;\n",
       "    }\n",
       "</style>\n",
       "<table border=\"1\" class=\"dataframe\">\n",
       "  <thead>\n",
       "    <tr style=\"text-align: right;\">\n",
       "      <th></th>\n",
       "      <th>Rank</th>\n",
       "      <th>Title</th>\n",
       "      <th>Genre</th>\n",
       "      <th>Description</th>\n",
       "      <th>Director</th>\n",
       "      <th>Actors</th>\n",
       "      <th>Year</th>\n",
       "      <th>Runtime (Minutes)</th>\n",
       "      <th>Rating</th>\n",
       "      <th>Votes</th>\n",
       "      <th>Revenue (Millions)</th>\n",
       "      <th>Metascore</th>\n",
       "      <th>cnt</th>\n",
       "      <th>Genre1</th>\n",
       "      <th>Genre2</th>\n",
       "      <th>Genre3</th>\n",
       "      <th>Actor1</th>\n",
       "      <th>Actor2</th>\n",
       "      <th>Actor3</th>\n",
       "    </tr>\n",
       "  </thead>\n",
       "  <tbody>\n",
       "    <tr>\n",
       "      <th>0</th>\n",
       "      <td>1</td>\n",
       "      <td>Guardians of the Galaxy</td>\n",
       "      <td>Action,Adventure,Sci-Fi</td>\n",
       "      <td>A group of intergalactic criminals are forced ...</td>\n",
       "      <td>James Gunn</td>\n",
       "      <td>Chris Pratt, Vin Diesel, Bradley Cooper, Zoe S...</td>\n",
       "      <td>2014</td>\n",
       "      <td>121</td>\n",
       "      <td>8.1</td>\n",
       "      <td>757074</td>\n",
       "      <td>333.13</td>\n",
       "      <td>76.0</td>\n",
       "      <td>1</td>\n",
       "      <td>Action</td>\n",
       "      <td>None</td>\n",
       "      <td>None</td>\n",
       "      <td>Chris Pratt</td>\n",
       "      <td>Vin Diesel</td>\n",
       "      <td>Bradley Cooper, Zoe Saldana</td>\n",
       "    </tr>\n",
       "    <tr>\n",
       "      <th>1</th>\n",
       "      <td>2</td>\n",
       "      <td>Prometheus</td>\n",
       "      <td>Adventure,Mystery,Sci-Fi</td>\n",
       "      <td>Following clues to the origin of mankind, a te...</td>\n",
       "      <td>Ridley Scott</td>\n",
       "      <td>Noomi Rapace, Logan Marshall-Green, Michael Fa...</td>\n",
       "      <td>2012</td>\n",
       "      <td>124</td>\n",
       "      <td>7.0</td>\n",
       "      <td>485820</td>\n",
       "      <td>126.46</td>\n",
       "      <td>65.0</td>\n",
       "      <td>1</td>\n",
       "      <td>Adventure</td>\n",
       "      <td>None</td>\n",
       "      <td>None</td>\n",
       "      <td>Noomi Rapace</td>\n",
       "      <td>Logan Marshall-Green</td>\n",
       "      <td>Michael Fassbender, Charlize Theron</td>\n",
       "    </tr>\n",
       "    <tr>\n",
       "      <th>2</th>\n",
       "      <td>3</td>\n",
       "      <td>Split</td>\n",
       "      <td>Horror,Thriller</td>\n",
       "      <td>Three girls are kidnapped by a man with a diag...</td>\n",
       "      <td>M. Night Shyamalan</td>\n",
       "      <td>James McAvoy, Anya Taylor-Joy, Haley Lu Richar...</td>\n",
       "      <td>2016</td>\n",
       "      <td>117</td>\n",
       "      <td>7.3</td>\n",
       "      <td>157606</td>\n",
       "      <td>138.12</td>\n",
       "      <td>62.0</td>\n",
       "      <td>1</td>\n",
       "      <td>Horror</td>\n",
       "      <td>None</td>\n",
       "      <td>None</td>\n",
       "      <td>James McAvoy</td>\n",
       "      <td>Anya Taylor-Joy</td>\n",
       "      <td>Haley Lu Richardson, Jessica Sula</td>\n",
       "    </tr>\n",
       "    <tr>\n",
       "      <th>3</th>\n",
       "      <td>4</td>\n",
       "      <td>Sing</td>\n",
       "      <td>Animation,Comedy,Family</td>\n",
       "      <td>In a city of humanoid animals, a hustling thea...</td>\n",
       "      <td>Christophe Lourdelet</td>\n",
       "      <td>Matthew McConaughey,Reese Witherspoon, Seth Ma...</td>\n",
       "      <td>2016</td>\n",
       "      <td>108</td>\n",
       "      <td>7.2</td>\n",
       "      <td>60545</td>\n",
       "      <td>270.32</td>\n",
       "      <td>59.0</td>\n",
       "      <td>1</td>\n",
       "      <td>Animation</td>\n",
       "      <td>None</td>\n",
       "      <td>None</td>\n",
       "      <td>Matthew McConaughey</td>\n",
       "      <td>Reese Witherspoon</td>\n",
       "      <td>Seth MacFarlane, Scarlett Johansson</td>\n",
       "    </tr>\n",
       "    <tr>\n",
       "      <th>4</th>\n",
       "      <td>5</td>\n",
       "      <td>Suicide Squad</td>\n",
       "      <td>Action,Adventure,Fantasy</td>\n",
       "      <td>A secret government agency recruits some of th...</td>\n",
       "      <td>David Ayer</td>\n",
       "      <td>Will Smith, Jared Leto, Margot Robbie, Viola D...</td>\n",
       "      <td>2016</td>\n",
       "      <td>123</td>\n",
       "      <td>6.2</td>\n",
       "      <td>393727</td>\n",
       "      <td>325.02</td>\n",
       "      <td>40.0</td>\n",
       "      <td>1</td>\n",
       "      <td>Action</td>\n",
       "      <td>None</td>\n",
       "      <td>None</td>\n",
       "      <td>Will Smith</td>\n",
       "      <td>Jared Leto</td>\n",
       "      <td>Margot Robbie, Viola Davis</td>\n",
       "    </tr>\n",
       "  </tbody>\n",
       "</table>\n",
       "</div>"
      ],
      "text/plain": [
       "   Rank                    Title                     Genre  \\\n",
       "0     1  Guardians of the Galaxy   Action,Adventure,Sci-Fi   \n",
       "1     2               Prometheus  Adventure,Mystery,Sci-Fi   \n",
       "2     3                    Split           Horror,Thriller   \n",
       "3     4                     Sing   Animation,Comedy,Family   \n",
       "4     5            Suicide Squad  Action,Adventure,Fantasy   \n",
       "\n",
       "                                         Description              Director  \\\n",
       "0  A group of intergalactic criminals are forced ...            James Gunn   \n",
       "1  Following clues to the origin of mankind, a te...          Ridley Scott   \n",
       "2  Three girls are kidnapped by a man with a diag...    M. Night Shyamalan   \n",
       "3  In a city of humanoid animals, a hustling thea...  Christophe Lourdelet   \n",
       "4  A secret government agency recruits some of th...            David Ayer   \n",
       "\n",
       "                                              Actors  Year  Runtime (Minutes)  \\\n",
       "0  Chris Pratt, Vin Diesel, Bradley Cooper, Zoe S...  2014                121   \n",
       "1  Noomi Rapace, Logan Marshall-Green, Michael Fa...  2012                124   \n",
       "2  James McAvoy, Anya Taylor-Joy, Haley Lu Richar...  2016                117   \n",
       "3  Matthew McConaughey,Reese Witherspoon, Seth Ma...  2016                108   \n",
       "4  Will Smith, Jared Leto, Margot Robbie, Viola D...  2016                123   \n",
       "\n",
       "   Rating   Votes  Revenue (Millions)  Metascore  cnt     Genre1 Genre2  \\\n",
       "0     8.1  757074              333.13       76.0    1     Action   None   \n",
       "1     7.0  485820              126.46       65.0    1  Adventure   None   \n",
       "2     7.3  157606              138.12       62.0    1     Horror   None   \n",
       "3     7.2   60545              270.32       59.0    1  Animation   None   \n",
       "4     6.2  393727              325.02       40.0    1     Action   None   \n",
       "\n",
       "  Genre3               Actor1                 Actor2  \\\n",
       "0   None          Chris Pratt             Vin Diesel   \n",
       "1   None         Noomi Rapace   Logan Marshall-Green   \n",
       "2   None         James McAvoy        Anya Taylor-Joy   \n",
       "3   None  Matthew McConaughey      Reese Witherspoon   \n",
       "4   None           Will Smith             Jared Leto   \n",
       "\n",
       "                                 Actor3  \n",
       "0           Bradley Cooper, Zoe Saldana  \n",
       "1   Michael Fassbender, Charlize Theron  \n",
       "2     Haley Lu Richardson, Jessica Sula  \n",
       "3   Seth MacFarlane, Scarlett Johansson  \n",
       "4            Margot Robbie, Viola Davis  "
      ]
     },
     "execution_count": 20,
     "metadata": {},
     "output_type": "execute_result"
    }
   ],
   "source": [
    "df.head(5)"
   ]
  },
  {
   "cell_type": "code",
   "execution_count": 21,
   "metadata": {
    "colab": {
     "base_uri": "https://localhost:8080/",
     "height": 363
    },
    "id": "bN_x_vD8G50a",
    "outputId": "021e01a5-3538-4c67-a333-5c34f775ebc8"
   },
   "outputs": [
    {
     "data": {
      "text/html": [
       "<div>\n",
       "<style scoped>\n",
       "    .dataframe tbody tr th:only-of-type {\n",
       "        vertical-align: middle;\n",
       "    }\n",
       "\n",
       "    .dataframe tbody tr th {\n",
       "        vertical-align: top;\n",
       "    }\n",
       "\n",
       "    .dataframe thead th {\n",
       "        text-align: right;\n",
       "    }\n",
       "</style>\n",
       "<table border=\"1\" class=\"dataframe\">\n",
       "  <thead>\n",
       "    <tr style=\"text-align: right;\">\n",
       "      <th></th>\n",
       "      <th>Genre1</th>\n",
       "      <th>Rank</th>\n",
       "      <th>Year</th>\n",
       "      <th>Runtime (Minutes)</th>\n",
       "      <th>Rating</th>\n",
       "      <th>Votes</th>\n",
       "      <th>Revenue (Millions)</th>\n",
       "      <th>Metascore</th>\n",
       "      <th>cnt</th>\n",
       "    </tr>\n",
       "  </thead>\n",
       "  <tbody>\n",
       "    <tr>\n",
       "      <th>0</th>\n",
       "      <td>Action</td>\n",
       "      <td>116887.0</td>\n",
       "      <td>555447.0</td>\n",
       "      <td>32613.0</td>\n",
       "      <td>1832.2</td>\n",
       "      <td>68054324.0</td>\n",
       "      <td>33697.82</td>\n",
       "      <td>14823.601432</td>\n",
       "      <td>276.0</td>\n",
       "    </tr>\n",
       "    <tr>\n",
       "      <th>1</th>\n",
       "      <td>Adventure</td>\n",
       "      <td>33383.0</td>\n",
       "      <td>142862.0</td>\n",
       "      <td>8536.0</td>\n",
       "      <td>495.0</td>\n",
       "      <td>16911278.0</td>\n",
       "      <td>8055.20</td>\n",
       "      <td>4401.725537</td>\n",
       "      <td>71.0</td>\n",
       "    </tr>\n",
       "    <tr>\n",
       "      <th>2</th>\n",
       "      <td>Animation</td>\n",
       "      <td>22728.0</td>\n",
       "      <td>94592.0</td>\n",
       "      <td>4591.0</td>\n",
       "      <td>343.7</td>\n",
       "      <td>10192662.0</td>\n",
       "      <td>8987.50</td>\n",
       "      <td>3295.150358</td>\n",
       "      <td>47.0</td>\n",
       "    </tr>\n",
       "    <tr>\n",
       "      <th>3</th>\n",
       "      <td>Biography</td>\n",
       "      <td>30041.0</td>\n",
       "      <td>120799.0</td>\n",
       "      <td>7398.0</td>\n",
       "      <td>442.9</td>\n",
       "      <td>9743517.0</td>\n",
       "      <td>3357.27</td>\n",
       "      <td>4122.875895</td>\n",
       "      <td>60.0</td>\n",
       "    </tr>\n",
       "    <tr>\n",
       "      <th>4</th>\n",
       "      <td>Comedy</td>\n",
       "      <td>89117.0</td>\n",
       "      <td>313969.0</td>\n",
       "      <td>16831.0</td>\n",
       "      <td>1022.3</td>\n",
       "      <td>19948763.0</td>\n",
       "      <td>8046.83</td>\n",
       "      <td>8808.875895</td>\n",
       "      <td>156.0</td>\n",
       "    </tr>\n",
       "    <tr>\n",
       "      <th>5</th>\n",
       "      <td>Crime</td>\n",
       "      <td>28089.0</td>\n",
       "      <td>108634.0</td>\n",
       "      <td>6471.0</td>\n",
       "      <td>379.8</td>\n",
       "      <td>10459846.0</td>\n",
       "      <td>2216.35</td>\n",
       "      <td>3393.575179</td>\n",
       "      <td>54.0</td>\n",
       "    </tr>\n",
       "    <tr>\n",
       "      <th>6</th>\n",
       "      <td>Drama</td>\n",
       "      <td>79019.0</td>\n",
       "      <td>313932.0</td>\n",
       "      <td>18325.0</td>\n",
       "      <td>1100.6</td>\n",
       "      <td>24137985.0</td>\n",
       "      <td>5596.42</td>\n",
       "      <td>10207.601432</td>\n",
       "      <td>156.0</td>\n",
       "    </tr>\n",
       "    <tr>\n",
       "      <th>7</th>\n",
       "      <td>Fantasy</td>\n",
       "      <td>1367.0</td>\n",
       "      <td>4020.0</td>\n",
       "      <td>195.0</td>\n",
       "      <td>13.3</td>\n",
       "      <td>354186.0</td>\n",
       "      <td>126.22</td>\n",
       "      <td>121.000000</td>\n",
       "      <td>2.0</td>\n",
       "    </tr>\n",
       "    <tr>\n",
       "      <th>8</th>\n",
       "      <td>Horror</td>\n",
       "      <td>20045.0</td>\n",
       "      <td>70448.0</td>\n",
       "      <td>3521.0</td>\n",
       "      <td>213.5</td>\n",
       "      <td>3448962.0</td>\n",
       "      <td>1398.14</td>\n",
       "      <td>1904.575179</td>\n",
       "      <td>35.0</td>\n",
       "    </tr>\n",
       "    <tr>\n",
       "      <th>9</th>\n",
       "      <td>Mystery</td>\n",
       "      <td>6422.0</td>\n",
       "      <td>22129.0</td>\n",
       "      <td>1212.0</td>\n",
       "      <td>76.0</td>\n",
       "      <td>2823557.0</td>\n",
       "      <td>708.17</td>\n",
       "      <td>648.000000</td>\n",
       "      <td>11.0</td>\n",
       "    </tr>\n",
       "  </tbody>\n",
       "</table>\n",
       "</div>"
      ],
      "text/plain": [
       "      Genre1      Rank      Year  Runtime (Minutes)  Rating       Votes  \\\n",
       "0     Action  116887.0  555447.0            32613.0  1832.2  68054324.0   \n",
       "1  Adventure   33383.0  142862.0             8536.0   495.0  16911278.0   \n",
       "2  Animation   22728.0   94592.0             4591.0   343.7  10192662.0   \n",
       "3  Biography   30041.0  120799.0             7398.0   442.9   9743517.0   \n",
       "4     Comedy   89117.0  313969.0            16831.0  1022.3  19948763.0   \n",
       "5      Crime   28089.0  108634.0             6471.0   379.8  10459846.0   \n",
       "6      Drama   79019.0  313932.0            18325.0  1100.6  24137985.0   \n",
       "7    Fantasy    1367.0    4020.0              195.0    13.3    354186.0   \n",
       "8     Horror   20045.0   70448.0             3521.0   213.5   3448962.0   \n",
       "9    Mystery    6422.0   22129.0             1212.0    76.0   2823557.0   \n",
       "\n",
       "   Revenue (Millions)     Metascore    cnt  \n",
       "0            33697.82  14823.601432  276.0  \n",
       "1             8055.20   4401.725537   71.0  \n",
       "2             8987.50   3295.150358   47.0  \n",
       "3             3357.27   4122.875895   60.0  \n",
       "4             8046.83   8808.875895  156.0  \n",
       "5             2216.35   3393.575179   54.0  \n",
       "6             5596.42  10207.601432  156.0  \n",
       "7              126.22    121.000000    2.0  \n",
       "8             1398.14   1904.575179   35.0  \n",
       "9              708.17    648.000000   11.0  "
      ]
     },
     "execution_count": 21,
     "metadata": {},
     "output_type": "execute_result"
    }
   ],
   "source": [
    "df_by_genre1 = df.groupby('Genre1')\n",
    "df_by_genre2 = df.groupby('Genre2')\n",
    "df_by_genre3 = df.groupby('Genre3')\n",
    "agg_genre1=df_by_genre1.sum()\n",
    "agg_genre2=df_by_genre2.sum()\n",
    "agg_genre3=df_by_genre3.sum()\n",
    "ge1_ge2 = agg_genre1.add(agg_genre2, fill_value=0.0)\n",
    "final_genre = ge1_ge2.add(agg_genre3, fill_value=0.0)\n",
    "genre_temp=final_genre.reset_index().head(10)\n",
    "genre_temp"
   ]
  },
  {
   "cell_type": "markdown",
   "metadata": {
    "id": "ghx1z9UlJRsS"
   },
   "source": [
    "After grouping and adding all the Genre we observe that Action has the maximum Revenue and followed by Adventure."
   ]
  },
  {
   "cell_type": "code",
   "execution_count": 22,
   "metadata": {
    "id": "XX7Tvo5wJO9N"
   },
   "outputs": [],
   "source": [
    "sns.set(style=\"darkgrid\")"
   ]
  },
  {
   "cell_type": "code",
   "execution_count": 23,
   "metadata": {
    "colab": {
     "base_uri": "https://localhost:8080/",
     "height": 394
    },
    "id": "2fBuhzZfJU-N",
    "outputId": "f95af705-ae3b-4c5d-90bf-ac1668a1f15c"
   },
   "outputs": [
    {
     "data": {
      "image/png": "[encoded data removed]",
      "text/plain": [
       "<Figure size 1008x432 with 2 Axes>"
      ]
     },
     "metadata": {},
     "output_type": "display_data"
    }
   ],
   "source": [
    "fig, ax1 = plt.subplots(figsize = (14,6))\n",
    "\n",
    "ax2 = ax1.twinx()\n",
    "ax1.bar(genre_temp['Genre1'],genre_temp['Revenue (Millions)'])\n",
    "ax2.plot(genre_temp['Genre1'],genre_temp['cnt'], 'o-', color=\"red\" )\n",
    "ax1.set_xlabel('Genre')\n",
    "ax1.set_ylabel('Revenue', color='b')\n",
    "ax2.set_ylabel('No of Movies', color='r')\n",
    "plt.show()"
   ]
  },
  {
   "cell_type": "markdown",
   "metadata": {
    "id": "f7VHD8iBJjJN"
   },
   "source": [
    "Genre - Action has maximum numbers of movies and which generates maximum Revenue compared to other Genre. But if we look at Drama and Comedy has on an average 150 nos of movies but generates very less revenue in comparision with other category of Genre and respective Revenues.\n",
    "\n",
    "Considering the number of movies released in a year the no of releases increaing linearly and year 2016 seems to have spike in no of relases. But Same growth is not observed for Revenue."
   ]
  },
  {
   "cell_type": "code",
   "execution_count": 24,
   "metadata": {
    "colab": {
     "base_uri": "https://localhost:8080/",
     "height": 542
    },
    "id": "LHIsW8hLJgt9",
    "outputId": "27bcf4a0-7314-4e59-a06c-df9bcf19521c"
   },
   "outputs": [
    {
     "ename": "NameError",
     "evalue": "name 'px' is not defined",
     "output_type": "error",
     "traceback": [
      "\u001b[0;31m---------------------------------------------------------------------------\u001b[0m",
      "\u001b[0;31mNameError\u001b[0m                                 Traceback (most recent call last)",
      "\u001b[0;32m/var/folders/mb/j47tljyn3kz85pj_kw2trq8h0000gn/T/ipykernel_34283/3807276834.py\u001b[0m in \u001b[0;36m<module>\u001b[0;34m\u001b[0m\n\u001b[1;32m      1\u001b[0m \u001b[0mdf_year\u001b[0m \u001b[0;34m=\u001b[0m \u001b[0mdf\u001b[0m\u001b[0;34m.\u001b[0m\u001b[0mgroupby\u001b[0m\u001b[0;34m(\u001b[0m\u001b[0;34m'Year'\u001b[0m\u001b[0;34m)\u001b[0m\u001b[0;34m[\u001b[0m\u001b[0;34m'cnt'\u001b[0m\u001b[0;34m]\u001b[0m\u001b[0;34m.\u001b[0m\u001b[0mcount\u001b[0m\u001b[0;34m(\u001b[0m\u001b[0;34m)\u001b[0m\u001b[0;34m.\u001b[0m\u001b[0mreset_index\u001b[0m\u001b[0;34m(\u001b[0m\u001b[0;34m)\u001b[0m\u001b[0;34m\u001b[0m\u001b[0;34m\u001b[0m\u001b[0m\n\u001b[0;32m----> 2\u001b[0;31m px.line(df_year, x='Year',y='cnt',template='plotly_dark',text='cnt',\n\u001b[0m\u001b[1;32m      3\u001b[0m         title=\"No of releases in Year\")\n",
      "\u001b[0;31mNameError\u001b[0m: name 'px' is not defined"
     ]
    }
   ],
   "source": [
    "df_year = df.groupby('Year')['cnt'].count().reset_index()\n",
    "px.line(df_year, x='Year',y='cnt',template='plotly_dark',text='cnt',\n",
    "        title=\"No of releases in Year\")"
   ]
  },
  {
   "cell_type": "code",
   "execution_count": 25,
   "metadata": {
    "colab": {
     "base_uri": "https://localhost:8080/",
     "height": 542
    },
    "id": "8nYtDa6rJ7bA",
    "outputId": "c155dc65-0203-4ffe-f6f1-d7b0fd35bc63"
   },
   "outputs": [
    {
     "ename": "NameError",
     "evalue": "name 'px' is not defined",
     "output_type": "error",
     "traceback": [
      "\u001b[0;31m---------------------------------------------------------------------------\u001b[0m",
      "\u001b[0;31mNameError\u001b[0m                                 Traceback (most recent call last)",
      "\u001b[0;32m/var/folders/mb/j47tljyn3kz85pj_kw2trq8h0000gn/T/ipykernel_34283/2814001367.py\u001b[0m in \u001b[0;36m<module>\u001b[0;34m\u001b[0m\n\u001b[1;32m      1\u001b[0m \u001b[0mdf_Rev\u001b[0m \u001b[0;34m=\u001b[0m \u001b[0mdf\u001b[0m\u001b[0;34m.\u001b[0m\u001b[0mgroupby\u001b[0m\u001b[0;34m(\u001b[0m\u001b[0;34m'Year'\u001b[0m\u001b[0;34m)\u001b[0m\u001b[0;34m[\u001b[0m\u001b[0;34m'Revenue (Millions)'\u001b[0m\u001b[0;34m]\u001b[0m\u001b[0;34m.\u001b[0m\u001b[0msum\u001b[0m\u001b[0;34m(\u001b[0m\u001b[0;34m)\u001b[0m\u001b[0;34m.\u001b[0m\u001b[0mround\u001b[0m\u001b[0;34m(\u001b[0m\u001b[0;36m1\u001b[0m\u001b[0;34m)\u001b[0m\u001b[0;34m.\u001b[0m\u001b[0mreset_index\u001b[0m\u001b[0;34m(\u001b[0m\u001b[0;34m)\u001b[0m\u001b[0;34m\u001b[0m\u001b[0;34m\u001b[0m\u001b[0m\n\u001b[0;32m----> 2\u001b[0;31m px.line(df_Rev, x='Year',y='Revenue (Millions)',template='plotly_dark',text='Revenue (Millions)',\n\u001b[0m\u001b[1;32m      3\u001b[0m         title=\"Revenue in Years\")\n",
      "\u001b[0;31mNameError\u001b[0m: name 'px' is not defined"
     ]
    }
   ],
   "source": [
    "df_Rev = df.groupby('Year')['Revenue (Millions)'].sum().round(1).reset_index()\n",
    "px.line(df_Rev, x='Year',y='Revenue (Millions)',template='plotly_dark',text='Revenue (Millions)',\n",
    "        title=\"Revenue in Years\")"
   ]
  },
  {
   "cell_type": "code",
   "execution_count": 26,
   "metadata": {
    "colab": {
     "base_uri": "https://localhost:8080/",
     "height": 542
    },
    "id": "-pD0gZFjKCUe",
    "outputId": "b105c221-3d89-4268-a671-17bccc6d39df"
   },
   "outputs": [
    {
     "ename": "NameError",
     "evalue": "name 'px' is not defined",
     "output_type": "error",
     "traceback": [
      "\u001b[0;31m---------------------------------------------------------------------------\u001b[0m",
      "\u001b[0;31mNameError\u001b[0m                                 Traceback (most recent call last)",
      "\u001b[0;32m/var/folders/mb/j47tljyn3kz85pj_kw2trq8h0000gn/T/ipykernel_34283/2072197.py\u001b[0m in \u001b[0;36m<module>\u001b[0;34m\u001b[0m\n\u001b[1;32m      1\u001b[0m \u001b[0mdf_2016\u001b[0m \u001b[0;34m=\u001b[0m \u001b[0mdf\u001b[0m\u001b[0;34m[\u001b[0m\u001b[0mdf\u001b[0m\u001b[0;34m[\u001b[0m\u001b[0;34m'Year'\u001b[0m\u001b[0;34m]\u001b[0m\u001b[0;34m==\u001b[0m\u001b[0;36m2016\u001b[0m\u001b[0;34m]\u001b[0m\u001b[0;34m.\u001b[0m\u001b[0mcopy\u001b[0m\u001b[0;34m(\u001b[0m\u001b[0;34m)\u001b[0m\u001b[0;34m\u001b[0m\u001b[0;34m\u001b[0m\u001b[0m\n\u001b[1;32m      2\u001b[0m \u001b[0mdf_temp\u001b[0m\u001b[0;34m=\u001b[0m\u001b[0mdf_2016\u001b[0m\u001b[0;34m.\u001b[0m\u001b[0msort_values\u001b[0m\u001b[0;34m(\u001b[0m\u001b[0mby\u001b[0m\u001b[0;34m=\u001b[0m\u001b[0;34m'Revenue (Millions)'\u001b[0m\u001b[0;34m,\u001b[0m\u001b[0mascending\u001b[0m \u001b[0;34m=\u001b[0m \u001b[0;32mFalse\u001b[0m\u001b[0;34m)\u001b[0m\u001b[0;34m.\u001b[0m\u001b[0mhead\u001b[0m\u001b[0;34m(\u001b[0m\u001b[0;36m10\u001b[0m\u001b[0;34m)\u001b[0m\u001b[0;34m\u001b[0m\u001b[0;34m\u001b[0m\u001b[0m\n\u001b[0;32m----> 3\u001b[0;31m px.bar(df_temp,y='Revenue (Millions)',x='Title',color='Genre1',text='Rating',\n\u001b[0m\u001b[1;32m      4\u001b[0m        title='Most successful Movies/Genre of Year:2016')\n",
      "\u001b[0;31mNameError\u001b[0m: name 'px' is not defined"
     ]
    }
   ],
   "source": [
    "df_2016 = df[df['Year']==2016].copy()\n",
    "df_temp=df_2016.sort_values(by='Revenue (Millions)',ascending = False).head(10)\n",
    "px.bar(df_temp,y='Revenue (Millions)',x='Title',color='Genre1',text='Rating',\n",
    "       title='Most successful Movies/Genre of Year:2016')"
   ]
  },
  {
   "cell_type": "markdown",
   "metadata": {
    "id": "jc6rdhigKFsQ"
   },
   "source": [
    "Now considering within year 2016 released movies\n",
    "\n",
    "Top Revenue generating movies in year 2016 and their Ratings !\n",
    "\n",
    "Captain America and Rouge One is most Revenue generating movies of Year 2016 being below 8 Rating. and on the other hand Deadpool and Zootopia having Rating above 8 still the revenue Ranks at 4th and 5th.\n",
    "\n",
    "One point to observe here Zootopia belongs to Genre - Animation and that can be one of reason of lagging behine in Revenue but still high in Rating."
   ]
  },
  {
   "cell_type": "code",
   "execution_count": 27,
   "metadata": {
    "colab": {
     "base_uri": "https://localhost:8080/",
     "height": 587
    },
    "id": "x3s0IdlKKKP1",
    "outputId": "172bb134-14de-4f64-c8b5-664921613fa3"
   },
   "outputs": [
    {
     "name": "stderr",
     "output_type": "stream",
     "text": [
      "/Users/fasil/opt/anaconda3/lib/python3.8/site-packages/seaborn/distributions.py:2619: FutureWarning: `distplot` is a deprecated function and will be removed in a future version. Please adapt your code to use either `displot` (a figure-level function with similar flexibility) or `histplot` (an axes-level function for histograms).\n",
      "  warnings.warn(msg, FutureWarning)\n"
     ]
    },
    {
     "data": {
      "image/png": "[encoded data removed]",
      "text/plain": [
       "<Figure size 720x504 with 1 Axes>"
      ]
     },
     "metadata": {},
     "output_type": "display_data"
    }
   ],
   "source": [
    "plt.figure(figsize=(10,7),facecolor='white')\n",
    "sns.distplot(df['Runtime (Minutes)'],bins=10,kde=True)\n",
    "plt.suptitle(\"Distribution of Movie by RunTime\", fontsize=20)\n",
    "plt.show()"
   ]
  },
  {
   "cell_type": "markdown",
   "metadata": {
    "id": "cR3LhpWqKPp3"
   },
   "source": [
    "Most of Movies Belongs to Runtime Range - 90 to 130 Minutes !"
   ]
  },
  {
   "cell_type": "code",
   "execution_count": 28,
   "metadata": {
    "colab": {
     "base_uri": "https://localhost:8080/",
     "height": 542
    },
    "id": "l1WKUfFYKM8D",
    "outputId": "12f22149-1717-4b55-907a-669c84979eae"
   },
   "outputs": [
    {
     "ename": "NameError",
     "evalue": "name 'px' is not defined",
     "output_type": "error",
     "traceback": [
      "\u001b[0;31m---------------------------------------------------------------------------\u001b[0m",
      "\u001b[0;31mNameError\u001b[0m                                 Traceback (most recent call last)",
      "\u001b[0;32m/var/folders/mb/j47tljyn3kz85pj_kw2trq8h0000gn/T/ipykernel_34283/1190560605.py\u001b[0m in \u001b[0;36m<module>\u001b[0;34m\u001b[0m\n\u001b[1;32m      1\u001b[0m \u001b[0mmovies_Rev\u001b[0m\u001b[0;34m=\u001b[0m\u001b[0mdf\u001b[0m\u001b[0;34m.\u001b[0m\u001b[0msort_values\u001b[0m\u001b[0;34m(\u001b[0m\u001b[0mby\u001b[0m\u001b[0;34m=\u001b[0m\u001b[0;34m'Revenue (Millions)'\u001b[0m\u001b[0;34m,\u001b[0m\u001b[0mascending\u001b[0m \u001b[0;34m=\u001b[0m \u001b[0;32mFalse\u001b[0m\u001b[0;34m)\u001b[0m\u001b[0;34m[\u001b[0m\u001b[0;36m0\u001b[0m\u001b[0;34m:\u001b[0m\u001b[0;36m10\u001b[0m\u001b[0;34m]\u001b[0m\u001b[0;34m\u001b[0m\u001b[0;34m\u001b[0m\u001b[0m\n\u001b[0;32m----> 2\u001b[0;31m \u001b[0mpx\u001b[0m\u001b[0;34m.\u001b[0m\u001b[0mpie\u001b[0m\u001b[0;34m(\u001b[0m\u001b[0mmovies_Rev\u001b[0m\u001b[0;34m,\u001b[0m \u001b[0mvalues\u001b[0m\u001b[0;34m=\u001b[0m\u001b[0;34m'Revenue (Millions)'\u001b[0m\u001b[0;34m,\u001b[0m \u001b[0mnames\u001b[0m\u001b[0;34m=\u001b[0m\u001b[0;34m'Actor1'\u001b[0m\u001b[0;34m,\u001b[0m\u001b[0mtitle\u001b[0m\u001b[0;34m=\u001b[0m\u001b[0;34m'Actors vs Revenue Distribution'\u001b[0m\u001b[0;34m)\u001b[0m\u001b[0;34m\u001b[0m\u001b[0;34m\u001b[0m\u001b[0m\n\u001b[0m",
      "\u001b[0;31mNameError\u001b[0m: name 'px' is not defined"
     ]
    }
   ],
   "source": [
    "movies_Rev=df.sort_values(by='Revenue (Millions)',ascending = False)[0:10]\n",
    "px.pie(movies_Rev, values='Revenue (Millions)', names='Actor1',title='Actors vs Revenue Distribution')"
   ]
  },
  {
   "cell_type": "code",
   "execution_count": 29,
   "metadata": {
    "colab": {
     "base_uri": "https://localhost:8080/",
     "height": 542
    },
    "id": "-QGi6CVYKTL4",
    "outputId": "ad60bf4c-f3fe-4f09-c412-6b24e199d74f"
   },
   "outputs": [
    {
     "ename": "NameError",
     "evalue": "name 'px' is not defined",
     "output_type": "error",
     "traceback": [
      "\u001b[0;31m---------------------------------------------------------------------------\u001b[0m",
      "\u001b[0;31mNameError\u001b[0m                                 Traceback (most recent call last)",
      "\u001b[0;32m/var/folders/mb/j47tljyn3kz85pj_kw2trq8h0000gn/T/ipykernel_34283/794464262.py\u001b[0m in \u001b[0;36m<module>\u001b[0;34m\u001b[0m\n\u001b[0;32m----> 1\u001b[0;31m \u001b[0mpx\u001b[0m\u001b[0;34m.\u001b[0m\u001b[0mpie\u001b[0m\u001b[0;34m(\u001b[0m\u001b[0mmovies_Rev\u001b[0m\u001b[0;34m,\u001b[0m \u001b[0mvalues\u001b[0m\u001b[0;34m=\u001b[0m\u001b[0;34m'Revenue (Millions)'\u001b[0m\u001b[0;34m,\u001b[0m \u001b[0mnames\u001b[0m\u001b[0;34m=\u001b[0m\u001b[0;34m'Title'\u001b[0m\u001b[0;34m,\u001b[0m \u001b[0mtitle\u001b[0m\u001b[0;34m=\u001b[0m\u001b[0;34m'Movies vs Revenue Distribution'\u001b[0m\u001b[0;34m)\u001b[0m\u001b[0;34m\u001b[0m\u001b[0;34m\u001b[0m\u001b[0m\n\u001b[0m",
      "\u001b[0;31mNameError\u001b[0m: name 'px' is not defined"
     ]
    }
   ],
   "source": [
    "px.pie(movies_Rev, values='Revenue (Millions)', names='Title', title='Movies vs Revenue Distribution')"
   ]
  },
  {
   "cell_type": "markdown",
   "metadata": {
    "id": "1TTgvf3TKblM"
   },
   "source": [
    "If We consider the Primary actor of the Movies and and Revenue Generated by respective movie is Robert Downey Jr.\n",
    "\n",
    "But that is not the case, chances are on the above plot we distribution of Revenue is additing of one or more movies done by respective Actor.\n",
    "\n",
    "We will further analyse on this part !!"
   ]
  },
  {
   "cell_type": "code",
   "execution_count": 30,
   "metadata": {
    "colab": {
     "base_uri": "https://localhost:8080/",
     "height": 542
    },
    "id": "8QrMYLYpKZ2R",
    "outputId": "4a1c456e-2bd5-49c5-cab3-b443536df475"
   },
   "outputs": [
    {
     "ename": "NameError",
     "evalue": "name 'px' is not defined",
     "output_type": "error",
     "traceback": [
      "\u001b[0;31m---------------------------------------------------------------------------\u001b[0m",
      "\u001b[0;31mNameError\u001b[0m                                 Traceback (most recent call last)",
      "\u001b[0;32m/var/folders/mb/j47tljyn3kz85pj_kw2trq8h0000gn/T/ipykernel_34283/45608844.py\u001b[0m in \u001b[0;36m<module>\u001b[0;34m\u001b[0m\n\u001b[0;32m----> 1\u001b[0;31m px.bar(movies_Rev,x='Actor1',y='Revenue (Millions)',color='Votes',\n\u001b[0m\u001b[1;32m      2\u001b[0m        hover_name='Title', text='Rating',template='plotly_dark')\n",
      "\u001b[0;31mNameError\u001b[0m: name 'px' is not defined"
     ]
    }
   ],
   "source": [
    "px.bar(movies_Rev,x='Actor1',y='Revenue (Millions)',color='Votes',\n",
    "       hover_name='Title', text='Rating',template='plotly_dark')"
   ]
  },
  {
   "cell_type": "markdown",
   "metadata": {
    "id": "db4mVvWlKjd9"
   },
   "source": [
    "Now from above Plot, it is clear that why Revenue generated by the Movies of Robert Downey Jr. is Highest amon the all because it has more than one movie.\n",
    "\n",
    "Also, a intresting point to observe from above plot -> Movie - The Dark Knight got the Highest Rating of 9 and Highest Votes above 1.6M still below average Revenue generated by Movie copare to other Movie and actor\n",
    "\n",
    "Consider the list of Top Directors and their critic score "
   ]
  },
  {
   "cell_type": "code",
   "execution_count": 31,
   "metadata": {
    "colab": {
     "base_uri": "https://localhost:8080/",
     "height": 206
    },
    "id": "kgdFtoX-Khgm",
    "outputId": "60f7cbbe-c826-4cb2-87cd-caff42f3f393"
   },
   "outputs": [
    {
     "data": {
      "text/html": [
       "<div>\n",
       "<style scoped>\n",
       "    .dataframe tbody tr th:only-of-type {\n",
       "        vertical-align: middle;\n",
       "    }\n",
       "\n",
       "    .dataframe tbody tr th {\n",
       "        vertical-align: top;\n",
       "    }\n",
       "\n",
       "    .dataframe thead th {\n",
       "        text-align: right;\n",
       "    }\n",
       "</style>\n",
       "<table border=\"1\" class=\"dataframe\">\n",
       "  <thead>\n",
       "    <tr style=\"text-align: right;\">\n",
       "      <th></th>\n",
       "      <th>Director</th>\n",
       "      <th>Revenue (Millions)</th>\n",
       "    </tr>\n",
       "  </thead>\n",
       "  <tbody>\n",
       "    <tr>\n",
       "      <th>204</th>\n",
       "      <td>J.J. Abrams</td>\n",
       "      <td>1683.45</td>\n",
       "    </tr>\n",
       "    <tr>\n",
       "      <th>129</th>\n",
       "      <td>David Yates</td>\n",
       "      <td>1630.51</td>\n",
       "    </tr>\n",
       "    <tr>\n",
       "      <th>90</th>\n",
       "      <td>Christopher Nolan</td>\n",
       "      <td>1515.09</td>\n",
       "    </tr>\n",
       "    <tr>\n",
       "      <th>349</th>\n",
       "      <td>Michael Bay</td>\n",
       "      <td>1421.32</td>\n",
       "    </tr>\n",
       "    <tr>\n",
       "      <th>159</th>\n",
       "      <td>Francis Lawrence</td>\n",
       "      <td>1299.81</td>\n",
       "    </tr>\n",
       "  </tbody>\n",
       "</table>\n",
       "</div>"
      ],
      "text/plain": [
       "              Director  Revenue (Millions)\n",
       "204        J.J. Abrams             1683.45\n",
       "129        David Yates             1630.51\n",
       "90   Christopher Nolan             1515.09\n",
       "349        Michael Bay             1421.32\n",
       "159   Francis Lawrence             1299.81"
      ]
     },
     "execution_count": 31,
     "metadata": {},
     "output_type": "execute_result"
    }
   ],
   "source": [
    "top_director= df.groupby('Director')['Revenue (Millions)'].sum().reset_index()\n",
    "top_director.sort_values('Revenue (Millions)',ascending =False)[0:5]"
   ]
  },
  {
   "cell_type": "code",
   "execution_count": 32,
   "metadata": {
    "colab": {
     "base_uri": "https://localhost:8080/",
     "height": 542
    },
    "id": "rLxiDJPvLSj0",
    "outputId": "0cffdb5e-fcb9-4e3c-ac2c-1e4e878fcff5"
   },
   "outputs": [
    {
     "ename": "NameError",
     "evalue": "name 'px' is not defined",
     "output_type": "error",
     "traceback": [
      "\u001b[0;31m---------------------------------------------------------------------------\u001b[0m",
      "\u001b[0;31mNameError\u001b[0m                                 Traceback (most recent call last)",
      "\u001b[0;32m/var/folders/mb/j47tljyn3kz85pj_kw2trq8h0000gn/T/ipykernel_34283/3065480141.py\u001b[0m in \u001b[0;36m<module>\u001b[0;34m\u001b[0m\n\u001b[0;32m----> 1\u001b[0;31m px.bar(movies_Rev,x='Director',y='Revenue (Millions)',\n\u001b[0m\u001b[1;32m      2\u001b[0m        \u001b[0mcolor\u001b[0m\u001b[0;34m=\u001b[0m\u001b[0;34m'Metascore'\u001b[0m\u001b[0;34m,\u001b[0m\u001b[0mhover_name\u001b[0m\u001b[0;34m=\u001b[0m\u001b[0;34m'Title'\u001b[0m\u001b[0;34m,\u001b[0m\u001b[0;34m\u001b[0m\u001b[0;34m\u001b[0m\u001b[0m\n\u001b[1;32m      3\u001b[0m        template='plotly_dark',text='Revenue (Millions)', title='Top Directors and Revenue Distribution by Metascore')\n",
      "\u001b[0;31mNameError\u001b[0m: name 'px' is not defined"
     ]
    }
   ],
   "source": [
    "px.bar(movies_Rev,x='Director',y='Revenue (Millions)',\n",
    "       color='Metascore',hover_name='Title',\n",
    "       template='plotly_dark',text='Revenue (Millions)', title='Top Directors and Revenue Distribution by Metascore')"
   ]
  },
  {
   "cell_type": "code",
   "execution_count": 33,
   "metadata": {
    "colab": {
     "base_uri": "https://localhost:8080/",
     "height": 542
    },
    "id": "Hhi_0rDvLYee",
    "outputId": "4b8b032b-ef03-4da4-d4b9-e9a4ad998416"
   },
   "outputs": [
    {
     "ename": "NameError",
     "evalue": "name 'px' is not defined",
     "output_type": "error",
     "traceback": [
      "\u001b[0;31m---------------------------------------------------------------------------\u001b[0m",
      "\u001b[0;31mNameError\u001b[0m                                 Traceback (most recent call last)",
      "\u001b[0;32m/var/folders/mb/j47tljyn3kz85pj_kw2trq8h0000gn/T/ipykernel_34283/2905782310.py\u001b[0m in \u001b[0;36m<module>\u001b[0;34m\u001b[0m\n\u001b[1;32m      1\u001b[0m \u001b[0mmovies_Votes\u001b[0m\u001b[0;34m=\u001b[0m\u001b[0mdf\u001b[0m\u001b[0;34m.\u001b[0m\u001b[0msort_values\u001b[0m\u001b[0;34m(\u001b[0m\u001b[0mby\u001b[0m\u001b[0;34m=\u001b[0m\u001b[0;34m'Votes'\u001b[0m\u001b[0;34m,\u001b[0m\u001b[0mascending\u001b[0m \u001b[0;34m=\u001b[0m \u001b[0;32mFalse\u001b[0m\u001b[0;34m)\u001b[0m\u001b[0;34m[\u001b[0m\u001b[0;36m0\u001b[0m\u001b[0;34m:\u001b[0m\u001b[0;36m20\u001b[0m\u001b[0;34m]\u001b[0m\u001b[0;34m\u001b[0m\u001b[0;34m\u001b[0m\u001b[0m\n\u001b[1;32m      2\u001b[0m \u001b[0;34m\u001b[0m\u001b[0m\n\u001b[0;32m----> 3\u001b[0;31m px.bar(movies_Votes,x='Actor1',y='Votes',color='Revenue (Millions)',\n\u001b[0m\u001b[1;32m      4\u001b[0m        \u001b[0mhover_name\u001b[0m\u001b[0;34m=\u001b[0m\u001b[0;34m'Title'\u001b[0m\u001b[0;34m,\u001b[0m\u001b[0mtext\u001b[0m\u001b[0;34m=\u001b[0m\u001b[0;34m'Rating'\u001b[0m\u001b[0;34m,\u001b[0m\u001b[0mtemplate\u001b[0m\u001b[0;34m=\u001b[0m\u001b[0;34m'plotly_dark'\u001b[0m\u001b[0;34m,\u001b[0m\u001b[0;34m\u001b[0m\u001b[0;34m\u001b[0m\u001b[0m\n\u001b[1;32m      5\u001b[0m       title='Most Popular/Voted Actors')\n",
      "\u001b[0;31mNameError\u001b[0m: name 'px' is not defined"
     ]
    }
   ],
   "source": [
    "movies_Votes=df.sort_values(by='Votes',ascending = False)[0:20]\n",
    "\n",
    "px.bar(movies_Votes,x='Actor1',y='Votes',color='Revenue (Millions)',\n",
    "       hover_name='Title',text='Rating',template='plotly_dark',\n",
    "      title='Most Popular/Voted Actors')"
   ]
  },
  {
   "cell_type": "code",
   "execution_count": 34,
   "metadata": {
    "colab": {
     "base_uri": "https://localhost:8080/",
     "height": 542
    },
    "id": "67bwTa5OLc-_",
    "outputId": "33e2d00a-8e56-4c59-e85a-537f390c85f9"
   },
   "outputs": [
    {
     "ename": "NameError",
     "evalue": "name 'px' is not defined",
     "output_type": "error",
     "traceback": [
      "\u001b[0;31m---------------------------------------------------------------------------\u001b[0m",
      "\u001b[0;31mNameError\u001b[0m                                 Traceback (most recent call last)",
      "\u001b[0;32m/var/folders/mb/j47tljyn3kz85pj_kw2trq8h0000gn/T/ipykernel_34283/2908009460.py\u001b[0m in \u001b[0;36m<module>\u001b[0;34m\u001b[0m\n\u001b[0;32m----> 1\u001b[0;31m px.bar(movies_Votes,x='Title',y='Votes',color='Revenue (Millions)',\n\u001b[0m\u001b[1;32m      2\u001b[0m        \u001b[0mhover_name\u001b[0m\u001b[0;34m=\u001b[0m\u001b[0;34m'Title'\u001b[0m\u001b[0;34m,\u001b[0m\u001b[0mtext\u001b[0m\u001b[0;34m=\u001b[0m\u001b[0;34m'Metascore'\u001b[0m\u001b[0;34m,\u001b[0m\u001b[0mtemplate\u001b[0m\u001b[0;34m=\u001b[0m\u001b[0;34m'plotly_dark'\u001b[0m\u001b[0;34m,\u001b[0m\u001b[0;34m\u001b[0m\u001b[0;34m\u001b[0m\u001b[0m\n\u001b[1;32m      3\u001b[0m       title='Most Popular/Voted Movies')\n",
      "\u001b[0;31mNameError\u001b[0m: name 'px' is not defined"
     ]
    }
   ],
   "source": [
    "px.bar(movies_Votes,x='Title',y='Votes',color='Revenue (Millions)',\n",
    "       hover_name='Title',text='Metascore',template='plotly_dark',\n",
    "      title='Most Popular/Voted Movies')"
   ]
  },
  {
   "cell_type": "markdown",
   "metadata": {
    "id": "58grGN8wLiu_"
   },
   "source": [
    "We can extract list of Top Actors by Revenue generated in Movies. \n",
    "And from that the distribution of Revenue and Rating for Top Actors is obtained."
   ]
  },
  {
   "cell_type": "code",
   "execution_count": 35,
   "metadata": {
    "id": "6ufb2o4CLhFM"
   },
   "outputs": [],
   "source": [
    "top_Actor = pd.pivot_table(df,index=['Actor1'],\n",
    "                           values=['Revenue (Millions)','Metascore','Votes','Rating','cnt'],\n",
    "                           aggfunc={'Revenue (Millions)':np.sum,'Metascore':np.mean,\n",
    "                                    'Votes':np.mean,'Rating':np.mean,'cnt':np.sum})"
   ]
  },
  {
   "cell_type": "code",
   "execution_count": 36,
   "metadata": {
    "colab": {
     "base_uri": "https://localhost:8080/",
     "height": 676
    },
    "id": "xX-Nxz8WLl71",
    "outputId": "63163051-e555-4445-cb12-4c90e2ebeecf"
   },
   "outputs": [
    {
     "data": {
      "text/html": [
       "<div>\n",
       "<style scoped>\n",
       "    .dataframe tbody tr th:only-of-type {\n",
       "        vertical-align: middle;\n",
       "    }\n",
       "\n",
       "    .dataframe tbody tr th {\n",
       "        vertical-align: top;\n",
       "    }\n",
       "\n",
       "    .dataframe thead th {\n",
       "        text-align: right;\n",
       "    }\n",
       "</style>\n",
       "<table border=\"1\" class=\"dataframe\">\n",
       "  <thead>\n",
       "    <tr style=\"text-align: right;\">\n",
       "      <th></th>\n",
       "      <th>Actor1</th>\n",
       "      <th>Metascore</th>\n",
       "      <th>Rating</th>\n",
       "      <th>Revenue (Millions)</th>\n",
       "      <th>Votes</th>\n",
       "      <th>cnt</th>\n",
       "    </tr>\n",
       "  </thead>\n",
       "  <tbody>\n",
       "    <tr>\n",
       "      <th>0</th>\n",
       "      <td>Robert Downey Jr.</td>\n",
       "      <td>60.750000</td>\n",
       "      <td>7.512500</td>\n",
       "      <td>2564.58</td>\n",
       "      <td>556738.500000</td>\n",
       "      <td>8</td>\n",
       "    </tr>\n",
       "    <tr>\n",
       "      <th>1</th>\n",
       "      <td>Jennifer Lawrence</td>\n",
       "      <td>61.666667</td>\n",
       "      <td>6.950000</td>\n",
       "      <td>1607.87</td>\n",
       "      <td>347564.666667</td>\n",
       "      <td>6</td>\n",
       "    </tr>\n",
       "    <tr>\n",
       "      <th>2</th>\n",
       "      <td>Christian Bale</td>\n",
       "      <td>69.181818</td>\n",
       "      <td>7.318182</td>\n",
       "      <td>1559.62</td>\n",
       "      <td>492911.909091</td>\n",
       "      <td>11</td>\n",
       "    </tr>\n",
       "    <tr>\n",
       "      <th>3</th>\n",
       "      <td>Will Smith</td>\n",
       "      <td>50.063909</td>\n",
       "      <td>6.977778</td>\n",
       "      <td>1340.28</td>\n",
       "      <td>275772.666667</td>\n",
       "      <td>9</td>\n",
       "    </tr>\n",
       "    <tr>\n",
       "      <th>4</th>\n",
       "      <td>Johnny Depp</td>\n",
       "      <td>56.946897</td>\n",
       "      <td>6.800000</td>\n",
       "      <td>1280.94</td>\n",
       "      <td>307826.625000</td>\n",
       "      <td>8</td>\n",
       "    </tr>\n",
       "    <tr>\n",
       "      <th>5</th>\n",
       "      <td>Daniel Radcliffe</td>\n",
       "      <td>63.142857</td>\n",
       "      <td>7.157143</td>\n",
       "      <td>1279.28</td>\n",
       "      <td>262638.571429</td>\n",
       "      <td>7</td>\n",
       "    </tr>\n",
       "    <tr>\n",
       "      <th>6</th>\n",
       "      <td>Shia LaBeouf</td>\n",
       "      <td>48.115036</td>\n",
       "      <td>6.580000</td>\n",
       "      <td>1254.36</td>\n",
       "      <td>310977.400000</td>\n",
       "      <td>5</td>\n",
       "    </tr>\n",
       "    <tr>\n",
       "      <th>7</th>\n",
       "      <td>Chris Pratt</td>\n",
       "      <td>72.666667</td>\n",
       "      <td>7.633333</td>\n",
       "      <td>1243.07</td>\n",
       "      <td>492917.000000</td>\n",
       "      <td>3</td>\n",
       "    </tr>\n",
       "    <tr>\n",
       "      <th>8</th>\n",
       "      <td>Kristen Stewart</td>\n",
       "      <td>57.500000</td>\n",
       "      <td>5.483333</td>\n",
       "      <td>1221.95</td>\n",
       "      <td>198119.166667</td>\n",
       "      <td>6</td>\n",
       "    </tr>\n",
       "    <tr>\n",
       "      <th>9</th>\n",
       "      <td>Leonardo DiCaprio</td>\n",
       "      <td>68.666667</td>\n",
       "      <td>7.922222</td>\n",
       "      <td>1117.86</td>\n",
       "      <td>654595.333333</td>\n",
       "      <td>9</td>\n",
       "    </tr>\n",
       "    <tr>\n",
       "      <th>10</th>\n",
       "      <td>Mark Wahlberg</td>\n",
       "      <td>55.000000</td>\n",
       "      <td>6.690909</td>\n",
       "      <td>1052.09</td>\n",
       "      <td>198660.090909</td>\n",
       "      <td>11</td>\n",
       "    </tr>\n",
       "    <tr>\n",
       "      <th>11</th>\n",
       "      <td>Sam Worthington</td>\n",
       "      <td>49.750000</td>\n",
       "      <td>6.500000</td>\n",
       "      <td>1025.94</td>\n",
       "      <td>365524.000000</td>\n",
       "      <td>4</td>\n",
       "    </tr>\n",
       "    <tr>\n",
       "      <th>12</th>\n",
       "      <td>Vin Diesel</td>\n",
       "      <td>53.833333</td>\n",
       "      <td>6.766667</td>\n",
       "      <td>1022.89</td>\n",
       "      <td>223469.000000</td>\n",
       "      <td>6</td>\n",
       "    </tr>\n",
       "    <tr>\n",
       "      <th>13</th>\n",
       "      <td>Tom Hanks</td>\n",
       "      <td>66.375000</td>\n",
       "      <td>7.200000</td>\n",
       "      <td>1002.56</td>\n",
       "      <td>256180.500000</td>\n",
       "      <td>8</td>\n",
       "    </tr>\n",
       "    <tr>\n",
       "      <th>14</th>\n",
       "      <td>Daniel Craig</td>\n",
       "      <td>70.000000</td>\n",
       "      <td>7.400000</td>\n",
       "      <td>942.33</td>\n",
       "      <td>409564.400000</td>\n",
       "      <td>5</td>\n",
       "    </tr>\n",
       "    <tr>\n",
       "      <th>15</th>\n",
       "      <td>Daisy Ridley</td>\n",
       "      <td>81.000000</td>\n",
       "      <td>8.100000</td>\n",
       "      <td>936.63</td>\n",
       "      <td>661608.000000</td>\n",
       "      <td>1</td>\n",
       "    </tr>\n",
       "    <tr>\n",
       "      <th>16</th>\n",
       "      <td>Sandra Bullock</td>\n",
       "      <td>65.000000</td>\n",
       "      <td>6.875000</td>\n",
       "      <td>933.64</td>\n",
       "      <td>290944.750000</td>\n",
       "      <td>4</td>\n",
       "    </tr>\n",
       "    <tr>\n",
       "      <th>17</th>\n",
       "      <td>Chris Evans</td>\n",
       "      <td>65.200000</td>\n",
       "      <td>7.300000</td>\n",
       "      <td>849.07</td>\n",
       "      <td>346360.800000</td>\n",
       "      <td>5</td>\n",
       "    </tr>\n",
       "    <tr>\n",
       "      <th>18</th>\n",
       "      <td>Tom Cruise</td>\n",
       "      <td>62.285714</td>\n",
       "      <td>7.100000</td>\n",
       "      <td>844.03</td>\n",
       "      <td>303022.000000</td>\n",
       "      <td>7</td>\n",
       "    </tr>\n",
       "    <tr>\n",
       "      <th>19</th>\n",
       "      <td>Steve Carell</td>\n",
       "      <td>67.200000</td>\n",
       "      <td>7.300000</td>\n",
       "      <td>830.63</td>\n",
       "      <td>303702.400000</td>\n",
       "      <td>5</td>\n",
       "    </tr>\n",
       "  </tbody>\n",
       "</table>\n",
       "</div>"
      ],
      "text/plain": [
       "               Actor1  Metascore    Rating  Revenue (Millions)          Votes  \\\n",
       "0   Robert Downey Jr.  60.750000  7.512500             2564.58  556738.500000   \n",
       "1   Jennifer Lawrence  61.666667  6.950000             1607.87  347564.666667   \n",
       "2      Christian Bale  69.181818  7.318182             1559.62  492911.909091   \n",
       "3          Will Smith  50.063909  6.977778             1340.28  275772.666667   \n",
       "4         Johnny Depp  56.946897  6.800000             1280.94  307826.625000   \n",
       "5    Daniel Radcliffe  63.142857  7.157143             1279.28  262638.571429   \n",
       "6        Shia LaBeouf  48.115036  6.580000             1254.36  310977.400000   \n",
       "7         Chris Pratt  72.666667  7.633333             1243.07  492917.000000   \n",
       "8     Kristen Stewart  57.500000  5.483333             1221.95  198119.166667   \n",
       "9   Leonardo DiCaprio  68.666667  7.922222             1117.86  654595.333333   \n",
       "10      Mark Wahlberg  55.000000  6.690909             1052.09  198660.090909   \n",
       "11    Sam Worthington  49.750000  6.500000             1025.94  365524.000000   \n",
       "12         Vin Diesel  53.833333  6.766667             1022.89  223469.000000   \n",
       "13          Tom Hanks  66.375000  7.200000             1002.56  256180.500000   \n",
       "14       Daniel Craig  70.000000  7.400000              942.33  409564.400000   \n",
       "15       Daisy Ridley  81.000000  8.100000              936.63  661608.000000   \n",
       "16     Sandra Bullock  65.000000  6.875000              933.64  290944.750000   \n",
       "17        Chris Evans  65.200000  7.300000              849.07  346360.800000   \n",
       "18         Tom Cruise  62.285714  7.100000              844.03  303022.000000   \n",
       "19       Steve Carell  67.200000  7.300000              830.63  303702.400000   \n",
       "\n",
       "    cnt  \n",
       "0     8  \n",
       "1     6  \n",
       "2    11  \n",
       "3     9  \n",
       "4     8  \n",
       "5     7  \n",
       "6     5  \n",
       "7     3  \n",
       "8     6  \n",
       "9     9  \n",
       "10   11  \n",
       "11    4  \n",
       "12    6  \n",
       "13    8  \n",
       "14    5  \n",
       "15    1  \n",
       "16    4  \n",
       "17    5  \n",
       "18    7  \n",
       "19    5  "
      ]
     },
     "execution_count": 36,
     "metadata": {},
     "output_type": "execute_result"
    }
   ],
   "source": [
    "actor = top_Actor.sort_values(by='Revenue (Millions)',\n",
    "                              ascending = False).reset_index()[0:20]\n",
    "actor"
   ]
  },
  {
   "cell_type": "code",
   "execution_count": 37,
   "metadata": {
    "colab": {
     "base_uri": "https://localhost:8080/",
     "height": 542
    },
    "id": "biL91l8nLoAp",
    "outputId": "1f6ff658-3d9e-4ef9-ae7f-3182b982d7ae"
   },
   "outputs": [
    {
     "ename": "NameError",
     "evalue": "name 'px' is not defined",
     "output_type": "error",
     "traceback": [
      "\u001b[0;31m---------------------------------------------------------------------------\u001b[0m",
      "\u001b[0;31mNameError\u001b[0m                                 Traceback (most recent call last)",
      "\u001b[0;32m/var/folders/mb/j47tljyn3kz85pj_kw2trq8h0000gn/T/ipykernel_34283/1504229838.py\u001b[0m in \u001b[0;36m<module>\u001b[0;34m\u001b[0m\n\u001b[0;32m----> 1\u001b[0;31m px.scatter(actor,y= 'Revenue (Millions)',x= 'Rating', \n\u001b[0m\u001b[1;32m      2\u001b[0m            \u001b[0mcolor\u001b[0m\u001b[0;34m=\u001b[0m \u001b[0;34m'cnt'\u001b[0m\u001b[0;34m,\u001b[0m\u001b[0msize\u001b[0m\u001b[0;34m=\u001b[0m\u001b[0;34m'Rating'\u001b[0m\u001b[0;34m,\u001b[0m\u001b[0mtext\u001b[0m\u001b[0;34m=\u001b[0m\u001b[0;34m'Actor1'\u001b[0m\u001b[0;34m,\u001b[0m\u001b[0;34m\u001b[0m\u001b[0;34m\u001b[0m\u001b[0m\n\u001b[1;32m      3\u001b[0m            title='Revenue Vs Rating of most Popular Actor and No of Movies')\n",
      "\u001b[0;31mNameError\u001b[0m: name 'px' is not defined"
     ]
    }
   ],
   "source": [
    "px.scatter(actor,y= 'Revenue (Millions)',x= 'Rating', \n",
    "           color= 'cnt',size='Rating',text='Actor1',\n",
    "           title='Revenue Vs Rating of most Popular Actor and No of Movies')"
   ]
  },
  {
   "cell_type": "code",
   "execution_count": 38,
   "metadata": {
    "colab": {
     "base_uri": "https://localhost:8080/",
     "height": 542
    },
    "id": "1fwc2N2iLrFv",
    "outputId": "86213f7a-595c-4cae-9457-ea62413c862e"
   },
   "outputs": [
    {
     "ename": "NameError",
     "evalue": "name 'px' is not defined",
     "output_type": "error",
     "traceback": [
      "\u001b[0;31m---------------------------------------------------------------------------\u001b[0m",
      "\u001b[0;31mNameError\u001b[0m                                 Traceback (most recent call last)",
      "\u001b[0;32m/var/folders/mb/j47tljyn3kz85pj_kw2trq8h0000gn/T/ipykernel_34283/597071470.py\u001b[0m in \u001b[0;36m<module>\u001b[0;34m\u001b[0m\n\u001b[0;32m----> 1\u001b[0;31m \u001b[0mpx\u001b[0m\u001b[0;34m.\u001b[0m\u001b[0mhistogram\u001b[0m\u001b[0;34m(\u001b[0m\u001b[0mdf\u001b[0m\u001b[0;34m,\u001b[0m \u001b[0mx\u001b[0m\u001b[0;34m=\u001b[0m\u001b[0;34m'Metascore'\u001b[0m\u001b[0;34m,\u001b[0m\u001b[0my\u001b[0m\u001b[0;34m=\u001b[0m\u001b[0;34m'Revenue (Millions)'\u001b[0m\u001b[0;34m,\u001b[0m\u001b[0mtitle\u001b[0m\u001b[0;34m=\u001b[0m\u001b[0;34m'Impact of Metascore on Revenue'\u001b[0m\u001b[0;34m)\u001b[0m\u001b[0;34m\u001b[0m\u001b[0;34m\u001b[0m\u001b[0m\n\u001b[0m",
      "\u001b[0;31mNameError\u001b[0m: name 'px' is not defined"
     ]
    }
   ],
   "source": [
    "px.histogram(df, x='Metascore',y='Revenue (Millions)',title='Impact of Metascore on Revenue')"
   ]
  },
  {
   "cell_type": "markdown",
   "metadata": {
    "id": "5KGITRasL3C1"
   },
   "source": [
    "We can observe from the above plot - Metascore from 55 to 70 seems to have highest Revenue !"
   ]
  },
  {
   "cell_type": "code",
   "execution_count": 39,
   "metadata": {
    "colab": {
     "base_uri": "https://localhost:8080/",
     "height": 971
    },
    "id": "E1rR8r-UL0-R",
    "outputId": "3ca67bfe-b16f-4166-a311-ce0595d81660"
   },
   "outputs": [
    {
     "data": {
      "text/html": [
       "<div>\n",
       "<style scoped>\n",
       "    .dataframe tbody tr th:only-of-type {\n",
       "        vertical-align: middle;\n",
       "    }\n",
       "\n",
       "    .dataframe tbody tr th {\n",
       "        vertical-align: top;\n",
       "    }\n",
       "\n",
       "    .dataframe thead th {\n",
       "        text-align: right;\n",
       "    }\n",
       "</style>\n",
       "<table border=\"1\" class=\"dataframe\">\n",
       "  <thead>\n",
       "    <tr style=\"text-align: right;\">\n",
       "      <th></th>\n",
       "      <th>Rank</th>\n",
       "      <th>Title</th>\n",
       "      <th>Genre</th>\n",
       "      <th>Description</th>\n",
       "      <th>Director</th>\n",
       "      <th>Actors</th>\n",
       "      <th>Year</th>\n",
       "      <th>Runtime (Minutes)</th>\n",
       "      <th>Rating</th>\n",
       "      <th>Votes</th>\n",
       "      <th>Revenue (Millions)</th>\n",
       "      <th>Metascore</th>\n",
       "    </tr>\n",
       "  </thead>\n",
       "  <tbody>\n",
       "    <tr>\n",
       "      <th>0</th>\n",
       "      <td>1</td>\n",
       "      <td>Guardians of the Galaxy</td>\n",
       "      <td>Action,Adventure,Sci-Fi</td>\n",
       "      <td>A group of intergalactic criminals are forced ...</td>\n",
       "      <td>James Gunn</td>\n",
       "      <td>Chris Pratt, Vin Diesel, Bradley Cooper, Zoe S...</td>\n",
       "      <td>2014</td>\n",
       "      <td>121</td>\n",
       "      <td>8.1</td>\n",
       "      <td>757074</td>\n",
       "      <td>333.13</td>\n",
       "      <td>76.0</td>\n",
       "    </tr>\n",
       "    <tr>\n",
       "      <th>1</th>\n",
       "      <td>2</td>\n",
       "      <td>Prometheus</td>\n",
       "      <td>Adventure,Mystery,Sci-Fi</td>\n",
       "      <td>Following clues to the origin of mankind, a te...</td>\n",
       "      <td>Ridley Scott</td>\n",
       "      <td>Noomi Rapace, Logan Marshall-Green, Michael Fa...</td>\n",
       "      <td>2012</td>\n",
       "      <td>124</td>\n",
       "      <td>7.0</td>\n",
       "      <td>485820</td>\n",
       "      <td>126.46</td>\n",
       "      <td>65.0</td>\n",
       "    </tr>\n",
       "    <tr>\n",
       "      <th>2</th>\n",
       "      <td>3</td>\n",
       "      <td>Split</td>\n",
       "      <td>Horror,Thriller</td>\n",
       "      <td>Three girls are kidnapped by a man with a diag...</td>\n",
       "      <td>M. Night Shyamalan</td>\n",
       "      <td>James McAvoy, Anya Taylor-Joy, Haley Lu Richar...</td>\n",
       "      <td>2016</td>\n",
       "      <td>117</td>\n",
       "      <td>7.3</td>\n",
       "      <td>157606</td>\n",
       "      <td>138.12</td>\n",
       "      <td>62.0</td>\n",
       "    </tr>\n",
       "    <tr>\n",
       "      <th>3</th>\n",
       "      <td>4</td>\n",
       "      <td>Sing</td>\n",
       "      <td>Animation,Comedy,Family</td>\n",
       "      <td>In a city of humanoid animals, a hustling thea...</td>\n",
       "      <td>Christophe Lourdelet</td>\n",
       "      <td>Matthew McConaughey,Reese Witherspoon, Seth Ma...</td>\n",
       "      <td>2016</td>\n",
       "      <td>108</td>\n",
       "      <td>7.2</td>\n",
       "      <td>60545</td>\n",
       "      <td>270.32</td>\n",
       "      <td>59.0</td>\n",
       "    </tr>\n",
       "    <tr>\n",
       "      <th>4</th>\n",
       "      <td>5</td>\n",
       "      <td>Suicide Squad</td>\n",
       "      <td>Action,Adventure,Fantasy</td>\n",
       "      <td>A secret government agency recruits some of th...</td>\n",
       "      <td>David Ayer</td>\n",
       "      <td>Will Smith, Jared Leto, Margot Robbie, Viola D...</td>\n",
       "      <td>2016</td>\n",
       "      <td>123</td>\n",
       "      <td>6.2</td>\n",
       "      <td>393727</td>\n",
       "      <td>325.02</td>\n",
       "      <td>40.0</td>\n",
       "    </tr>\n",
       "    <tr>\n",
       "      <th>...</th>\n",
       "      <td>...</td>\n",
       "      <td>...</td>\n",
       "      <td>...</td>\n",
       "      <td>...</td>\n",
       "      <td>...</td>\n",
       "      <td>...</td>\n",
       "      <td>...</td>\n",
       "      <td>...</td>\n",
       "      <td>...</td>\n",
       "      <td>...</td>\n",
       "      <td>...</td>\n",
       "      <td>...</td>\n",
       "    </tr>\n",
       "    <tr>\n",
       "      <th>995</th>\n",
       "      <td>996</td>\n",
       "      <td>Secret in Their Eyes</td>\n",
       "      <td>Crime,Drama,Mystery</td>\n",
       "      <td>A tight-knit team of rising investigators, alo...</td>\n",
       "      <td>Billy Ray</td>\n",
       "      <td>Chiwetel Ejiofor, Nicole Kidman, Julia Roberts...</td>\n",
       "      <td>2015</td>\n",
       "      <td>111</td>\n",
       "      <td>6.2</td>\n",
       "      <td>27585</td>\n",
       "      <td>NaN</td>\n",
       "      <td>45.0</td>\n",
       "    </tr>\n",
       "    <tr>\n",
       "      <th>996</th>\n",
       "      <td>997</td>\n",
       "      <td>Hostel: Part II</td>\n",
       "      <td>Horror</td>\n",
       "      <td>Three American college students studying abroa...</td>\n",
       "      <td>Eli Roth</td>\n",
       "      <td>Lauren German, Heather Matarazzo, Bijou Philli...</td>\n",
       "      <td>2007</td>\n",
       "      <td>94</td>\n",
       "      <td>5.5</td>\n",
       "      <td>73152</td>\n",
       "      <td>17.54</td>\n",
       "      <td>46.0</td>\n",
       "    </tr>\n",
       "    <tr>\n",
       "      <th>997</th>\n",
       "      <td>998</td>\n",
       "      <td>Step Up 2: The Streets</td>\n",
       "      <td>Drama,Music,Romance</td>\n",
       "      <td>Romantic sparks occur between two dance studen...</td>\n",
       "      <td>Jon M. Chu</td>\n",
       "      <td>Robert Hoffman, Briana Evigan, Cassie Ventura,...</td>\n",
       "      <td>2008</td>\n",
       "      <td>98</td>\n",
       "      <td>6.2</td>\n",
       "      <td>70699</td>\n",
       "      <td>58.01</td>\n",
       "      <td>50.0</td>\n",
       "    </tr>\n",
       "    <tr>\n",
       "      <th>998</th>\n",
       "      <td>999</td>\n",
       "      <td>Search Party</td>\n",
       "      <td>Adventure,Comedy</td>\n",
       "      <td>A pair of friends embark on a mission to reuni...</td>\n",
       "      <td>Scot Armstrong</td>\n",
       "      <td>Adam Pally, T.J. Miller, Thomas Middleditch,Sh...</td>\n",
       "      <td>2014</td>\n",
       "      <td>93</td>\n",
       "      <td>5.6</td>\n",
       "      <td>4881</td>\n",
       "      <td>NaN</td>\n",
       "      <td>22.0</td>\n",
       "    </tr>\n",
       "    <tr>\n",
       "      <th>999</th>\n",
       "      <td>1000</td>\n",
       "      <td>Nine Lives</td>\n",
       "      <td>Comedy,Family,Fantasy</td>\n",
       "      <td>A stuffy businessman finds himself trapped ins...</td>\n",
       "      <td>Barry Sonnenfeld</td>\n",
       "      <td>Kevin Spacey, Jennifer Garner, Robbie Amell,Ch...</td>\n",
       "      <td>2016</td>\n",
       "      <td>87</td>\n",
       "      <td>5.3</td>\n",
       "      <td>12435</td>\n",
       "      <td>19.64</td>\n",
       "      <td>11.0</td>\n",
       "    </tr>\n",
       "  </tbody>\n",
       "</table>\n",
       "<p>1000 rows × 12 columns</p>\n",
       "</div>"
      ],
      "text/plain": [
       "     Rank                    Title                     Genre  \\\n",
       "0       1  Guardians of the Galaxy   Action,Adventure,Sci-Fi   \n",
       "1       2               Prometheus  Adventure,Mystery,Sci-Fi   \n",
       "2       3                    Split           Horror,Thriller   \n",
       "3       4                     Sing   Animation,Comedy,Family   \n",
       "4       5            Suicide Squad  Action,Adventure,Fantasy   \n",
       "..    ...                      ...                       ...   \n",
       "995   996     Secret in Their Eyes       Crime,Drama,Mystery   \n",
       "996   997          Hostel: Part II                    Horror   \n",
       "997   998   Step Up 2: The Streets       Drama,Music,Romance   \n",
       "998   999             Search Party          Adventure,Comedy   \n",
       "999  1000               Nine Lives     Comedy,Family,Fantasy   \n",
       "\n",
       "                                           Description              Director  \\\n",
       "0    A group of intergalactic criminals are forced ...            James Gunn   \n",
       "1    Following clues to the origin of mankind, a te...          Ridley Scott   \n",
       "2    Three girls are kidnapped by a man with a diag...    M. Night Shyamalan   \n",
       "3    In a city of humanoid animals, a hustling thea...  Christophe Lourdelet   \n",
       "4    A secret government agency recruits some of th...            David Ayer   \n",
       "..                                                 ...                   ...   \n",
       "995  A tight-knit team of rising investigators, alo...             Billy Ray   \n",
       "996  Three American college students studying abroa...              Eli Roth   \n",
       "997  Romantic sparks occur between two dance studen...            Jon M. Chu   \n",
       "998  A pair of friends embark on a mission to reuni...        Scot Armstrong   \n",
       "999  A stuffy businessman finds himself trapped ins...      Barry Sonnenfeld   \n",
       "\n",
       "                                                Actors  Year  \\\n",
       "0    Chris Pratt, Vin Diesel, Bradley Cooper, Zoe S...  2014   \n",
       "1    Noomi Rapace, Logan Marshall-Green, Michael Fa...  2012   \n",
       "2    James McAvoy, Anya Taylor-Joy, Haley Lu Richar...  2016   \n",
       "3    Matthew McConaughey,Reese Witherspoon, Seth Ma...  2016   \n",
       "4    Will Smith, Jared Leto, Margot Robbie, Viola D...  2016   \n",
       "..                                                 ...   ...   \n",
       "995  Chiwetel Ejiofor, Nicole Kidman, Julia Roberts...  2015   \n",
       "996  Lauren German, Heather Matarazzo, Bijou Philli...  2007   \n",
       "997  Robert Hoffman, Briana Evigan, Cassie Ventura,...  2008   \n",
       "998  Adam Pally, T.J. Miller, Thomas Middleditch,Sh...  2014   \n",
       "999  Kevin Spacey, Jennifer Garner, Robbie Amell,Ch...  2016   \n",
       "\n",
       "     Runtime (Minutes)  Rating   Votes  Revenue (Millions)  Metascore  \n",
       "0                  121     8.1  757074              333.13       76.0  \n",
       "1                  124     7.0  485820              126.46       65.0  \n",
       "2                  117     7.3  157606              138.12       62.0  \n",
       "3                  108     7.2   60545              270.32       59.0  \n",
       "4                  123     6.2  393727              325.02       40.0  \n",
       "..                 ...     ...     ...                 ...        ...  \n",
       "995                111     6.2   27585                 NaN       45.0  \n",
       "996                 94     5.5   73152               17.54       46.0  \n",
       "997                 98     6.2   70699               58.01       50.0  \n",
       "998                 93     5.6    4881                 NaN       22.0  \n",
       "999                 87     5.3   12435               19.64       11.0  \n",
       "\n",
       "[1000 rows x 12 columns]"
      ]
     },
     "execution_count": 39,
     "metadata": {},
     "output_type": "execute_result"
    }
   ],
   "source": [
    "movies"
   ]
  },
  {
   "cell_type": "code",
   "execution_count": 40,
   "metadata": {
    "colab": {
     "base_uri": "https://localhost:8080/",
     "height": 1000
    },
    "id": "5lQSLM2kupCQ",
    "outputId": "5fa7f8a6-637b-418a-b5d6-3b9963508ff1"
   },
   "outputs": [
    {
     "data": {
      "text/html": [
       "<div>\n",
       "<style scoped>\n",
       "    .dataframe tbody tr th:only-of-type {\n",
       "        vertical-align: middle;\n",
       "    }\n",
       "\n",
       "    .dataframe tbody tr th {\n",
       "        vertical-align: top;\n",
       "    }\n",
       "\n",
       "    .dataframe thead th {\n",
       "        text-align: right;\n",
       "    }\n",
       "</style>\n",
       "<table border=\"1\" class=\"dataframe\">\n",
       "  <thead>\n",
       "    <tr style=\"text-align: right;\">\n",
       "      <th></th>\n",
       "      <th>Rank</th>\n",
       "      <th>Title</th>\n",
       "      <th>Genre</th>\n",
       "      <th>Description</th>\n",
       "      <th>Director</th>\n",
       "      <th>Actors</th>\n",
       "      <th>Year</th>\n",
       "      <th>Runtime (Minutes)</th>\n",
       "      <th>Rating</th>\n",
       "      <th>Votes</th>\n",
       "      <th>Revenue (Millions)</th>\n",
       "      <th>Metascore</th>\n",
       "      <th>cnt</th>\n",
       "      <th>Genre1</th>\n",
       "      <th>Genre2</th>\n",
       "      <th>Genre3</th>\n",
       "      <th>Actor1</th>\n",
       "      <th>Actor2</th>\n",
       "      <th>Actor3</th>\n",
       "    </tr>\n",
       "  </thead>\n",
       "  <tbody>\n",
       "    <tr>\n",
       "      <th>0</th>\n",
       "      <td>1</td>\n",
       "      <td>Guardians of the Galaxy</td>\n",
       "      <td>Action,Adventure,Sci-Fi</td>\n",
       "      <td>A group of intergalactic criminals are forced ...</td>\n",
       "      <td>James Gunn</td>\n",
       "      <td>Chris Pratt, Vin Diesel, Bradley Cooper, Zoe S...</td>\n",
       "      <td>2014</td>\n",
       "      <td>121</td>\n",
       "      <td>8.1</td>\n",
       "      <td>757074</td>\n",
       "      <td>333.13</td>\n",
       "      <td>76.0</td>\n",
       "      <td>1</td>\n",
       "      <td>Action</td>\n",
       "      <td>None</td>\n",
       "      <td>None</td>\n",
       "      <td>Chris Pratt</td>\n",
       "      <td>Vin Diesel</td>\n",
       "      <td>Bradley Cooper, Zoe Saldana</td>\n",
       "    </tr>\n",
       "    <tr>\n",
       "      <th>1</th>\n",
       "      <td>2</td>\n",
       "      <td>Prometheus</td>\n",
       "      <td>Adventure,Mystery,Sci-Fi</td>\n",
       "      <td>Following clues to the origin of mankind, a te...</td>\n",
       "      <td>Ridley Scott</td>\n",
       "      <td>Noomi Rapace, Logan Marshall-Green, Michael Fa...</td>\n",
       "      <td>2012</td>\n",
       "      <td>124</td>\n",
       "      <td>7.0</td>\n",
       "      <td>485820</td>\n",
       "      <td>126.46</td>\n",
       "      <td>65.0</td>\n",
       "      <td>1</td>\n",
       "      <td>Adventure</td>\n",
       "      <td>None</td>\n",
       "      <td>None</td>\n",
       "      <td>Noomi Rapace</td>\n",
       "      <td>Logan Marshall-Green</td>\n",
       "      <td>Michael Fassbender, Charlize Theron</td>\n",
       "    </tr>\n",
       "    <tr>\n",
       "      <th>2</th>\n",
       "      <td>3</td>\n",
       "      <td>Split</td>\n",
       "      <td>Horror,Thriller</td>\n",
       "      <td>Three girls are kidnapped by a man with a diag...</td>\n",
       "      <td>M. Night Shyamalan</td>\n",
       "      <td>James McAvoy, Anya Taylor-Joy, Haley Lu Richar...</td>\n",
       "      <td>2016</td>\n",
       "      <td>117</td>\n",
       "      <td>7.3</td>\n",
       "      <td>157606</td>\n",
       "      <td>138.12</td>\n",
       "      <td>62.0</td>\n",
       "      <td>1</td>\n",
       "      <td>Horror</td>\n",
       "      <td>None</td>\n",
       "      <td>None</td>\n",
       "      <td>James McAvoy</td>\n",
       "      <td>Anya Taylor-Joy</td>\n",
       "      <td>Haley Lu Richardson, Jessica Sula</td>\n",
       "    </tr>\n",
       "    <tr>\n",
       "      <th>3</th>\n",
       "      <td>4</td>\n",
       "      <td>Sing</td>\n",
       "      <td>Animation,Comedy,Family</td>\n",
       "      <td>In a city of humanoid animals, a hustling thea...</td>\n",
       "      <td>Christophe Lourdelet</td>\n",
       "      <td>Matthew McConaughey,Reese Witherspoon, Seth Ma...</td>\n",
       "      <td>2016</td>\n",
       "      <td>108</td>\n",
       "      <td>7.2</td>\n",
       "      <td>60545</td>\n",
       "      <td>270.32</td>\n",
       "      <td>59.0</td>\n",
       "      <td>1</td>\n",
       "      <td>Animation</td>\n",
       "      <td>None</td>\n",
       "      <td>None</td>\n",
       "      <td>Matthew McConaughey</td>\n",
       "      <td>Reese Witherspoon</td>\n",
       "      <td>Seth MacFarlane, Scarlett Johansson</td>\n",
       "    </tr>\n",
       "    <tr>\n",
       "      <th>4</th>\n",
       "      <td>5</td>\n",
       "      <td>Suicide Squad</td>\n",
       "      <td>Action,Adventure,Fantasy</td>\n",
       "      <td>A secret government agency recruits some of th...</td>\n",
       "      <td>David Ayer</td>\n",
       "      <td>Will Smith, Jared Leto, Margot Robbie, Viola D...</td>\n",
       "      <td>2016</td>\n",
       "      <td>123</td>\n",
       "      <td>6.2</td>\n",
       "      <td>393727</td>\n",
       "      <td>325.02</td>\n",
       "      <td>40.0</td>\n",
       "      <td>1</td>\n",
       "      <td>Action</td>\n",
       "      <td>None</td>\n",
       "      <td>None</td>\n",
       "      <td>Will Smith</td>\n",
       "      <td>Jared Leto</td>\n",
       "      <td>Margot Robbie, Viola Davis</td>\n",
       "    </tr>\n",
       "    <tr>\n",
       "      <th>...</th>\n",
       "      <td>...</td>\n",
       "      <td>...</td>\n",
       "      <td>...</td>\n",
       "      <td>...</td>\n",
       "      <td>...</td>\n",
       "      <td>...</td>\n",
       "      <td>...</td>\n",
       "      <td>...</td>\n",
       "      <td>...</td>\n",
       "      <td>...</td>\n",
       "      <td>...</td>\n",
       "      <td>...</td>\n",
       "      <td>...</td>\n",
       "      <td>...</td>\n",
       "      <td>...</td>\n",
       "      <td>...</td>\n",
       "      <td>...</td>\n",
       "      <td>...</td>\n",
       "      <td>...</td>\n",
       "    </tr>\n",
       "    <tr>\n",
       "      <th>993</th>\n",
       "      <td>994</td>\n",
       "      <td>Resident Evil: Afterlife</td>\n",
       "      <td>Action,Adventure,Horror</td>\n",
       "      <td>While still out to destroy the evil Umbrella C...</td>\n",
       "      <td>Paul W.S. Anderson</td>\n",
       "      <td>Milla Jovovich, Ali Larter, Wentworth Miller,K...</td>\n",
       "      <td>2010</td>\n",
       "      <td>97</td>\n",
       "      <td>5.9</td>\n",
       "      <td>140900</td>\n",
       "      <td>60.13</td>\n",
       "      <td>37.0</td>\n",
       "      <td>1</td>\n",
       "      <td>Action</td>\n",
       "      <td>None</td>\n",
       "      <td>None</td>\n",
       "      <td>Milla Jovovich</td>\n",
       "      <td>Ali Larter</td>\n",
       "      <td>Wentworth Miller,Kim Coates</td>\n",
       "    </tr>\n",
       "    <tr>\n",
       "      <th>994</th>\n",
       "      <td>995</td>\n",
       "      <td>Project X</td>\n",
       "      <td>Comedy</td>\n",
       "      <td>3 high school seniors throw a birthday party t...</td>\n",
       "      <td>Nima Nourizadeh</td>\n",
       "      <td>Thomas Mann, Oliver Cooper, Jonathan Daniel Br...</td>\n",
       "      <td>2012</td>\n",
       "      <td>88</td>\n",
       "      <td>6.7</td>\n",
       "      <td>164088</td>\n",
       "      <td>54.72</td>\n",
       "      <td>48.0</td>\n",
       "      <td>1</td>\n",
       "      <td>Comedy</td>\n",
       "      <td>None</td>\n",
       "      <td>None</td>\n",
       "      <td>Thomas Mann</td>\n",
       "      <td>Oliver Cooper</td>\n",
       "      <td>Jonathan Daniel Brown, Dax Flame</td>\n",
       "    </tr>\n",
       "    <tr>\n",
       "      <th>996</th>\n",
       "      <td>997</td>\n",
       "      <td>Hostel: Part II</td>\n",
       "      <td>Horror</td>\n",
       "      <td>Three American college students studying abroa...</td>\n",
       "      <td>Eli Roth</td>\n",
       "      <td>Lauren German, Heather Matarazzo, Bijou Philli...</td>\n",
       "      <td>2007</td>\n",
       "      <td>94</td>\n",
       "      <td>5.5</td>\n",
       "      <td>73152</td>\n",
       "      <td>17.54</td>\n",
       "      <td>46.0</td>\n",
       "      <td>1</td>\n",
       "      <td>Horror</td>\n",
       "      <td>None</td>\n",
       "      <td>None</td>\n",
       "      <td>Lauren German</td>\n",
       "      <td>Heather Matarazzo</td>\n",
       "      <td>Bijou Phillips, Roger Bart</td>\n",
       "    </tr>\n",
       "    <tr>\n",
       "      <th>997</th>\n",
       "      <td>998</td>\n",
       "      <td>Step Up 2: The Streets</td>\n",
       "      <td>Drama,Music,Romance</td>\n",
       "      <td>Romantic sparks occur between two dance studen...</td>\n",
       "      <td>Jon M. Chu</td>\n",
       "      <td>Robert Hoffman, Briana Evigan, Cassie Ventura,...</td>\n",
       "      <td>2008</td>\n",
       "      <td>98</td>\n",
       "      <td>6.2</td>\n",
       "      <td>70699</td>\n",
       "      <td>58.01</td>\n",
       "      <td>50.0</td>\n",
       "      <td>1</td>\n",
       "      <td>Drama</td>\n",
       "      <td>None</td>\n",
       "      <td>None</td>\n",
       "      <td>Robert Hoffman</td>\n",
       "      <td>Briana Evigan</td>\n",
       "      <td>Cassie Ventura, Adam G. Sevani</td>\n",
       "    </tr>\n",
       "    <tr>\n",
       "      <th>999</th>\n",
       "      <td>1000</td>\n",
       "      <td>Nine Lives</td>\n",
       "      <td>Comedy,Family,Fantasy</td>\n",
       "      <td>A stuffy businessman finds himself trapped ins...</td>\n",
       "      <td>Barry Sonnenfeld</td>\n",
       "      <td>Kevin Spacey, Jennifer Garner, Robbie Amell,Ch...</td>\n",
       "      <td>2016</td>\n",
       "      <td>87</td>\n",
       "      <td>5.3</td>\n",
       "      <td>12435</td>\n",
       "      <td>19.64</td>\n",
       "      <td>11.0</td>\n",
       "      <td>1</td>\n",
       "      <td>Comedy</td>\n",
       "      <td>None</td>\n",
       "      <td>None</td>\n",
       "      <td>Kevin Spacey</td>\n",
       "      <td>Jennifer Garner</td>\n",
       "      <td>Robbie Amell,Cheryl Hines</td>\n",
       "    </tr>\n",
       "  </tbody>\n",
       "</table>\n",
       "<p>872 rows × 19 columns</p>\n",
       "</div>"
      ],
      "text/plain": [
       "     Rank                     Title                     Genre  \\\n",
       "0       1   Guardians of the Galaxy   Action,Adventure,Sci-Fi   \n",
       "1       2                Prometheus  Adventure,Mystery,Sci-Fi   \n",
       "2       3                     Split           Horror,Thriller   \n",
       "3       4                      Sing   Animation,Comedy,Family   \n",
       "4       5             Suicide Squad  Action,Adventure,Fantasy   \n",
       "..    ...                       ...                       ...   \n",
       "993   994  Resident Evil: Afterlife   Action,Adventure,Horror   \n",
       "994   995                 Project X                    Comedy   \n",
       "996   997           Hostel: Part II                    Horror   \n",
       "997   998    Step Up 2: The Streets       Drama,Music,Romance   \n",
       "999  1000                Nine Lives     Comedy,Family,Fantasy   \n",
       "\n",
       "                                           Description              Director  \\\n",
       "0    A group of intergalactic criminals are forced ...            James Gunn   \n",
       "1    Following clues to the origin of mankind, a te...          Ridley Scott   \n",
       "2    Three girls are kidnapped by a man with a diag...    M. Night Shyamalan   \n",
       "3    In a city of humanoid animals, a hustling thea...  Christophe Lourdelet   \n",
       "4    A secret government agency recruits some of th...            David Ayer   \n",
       "..                                                 ...                   ...   \n",
       "993  While still out to destroy the evil Umbrella C...    Paul W.S. Anderson   \n",
       "994  3 high school seniors throw a birthday party t...       Nima Nourizadeh   \n",
       "996  Three American college students studying abroa...              Eli Roth   \n",
       "997  Romantic sparks occur between two dance studen...            Jon M. Chu   \n",
       "999  A stuffy businessman finds himself trapped ins...      Barry Sonnenfeld   \n",
       "\n",
       "                                                Actors  Year  \\\n",
       "0    Chris Pratt, Vin Diesel, Bradley Cooper, Zoe S...  2014   \n",
       "1    Noomi Rapace, Logan Marshall-Green, Michael Fa...  2012   \n",
       "2    James McAvoy, Anya Taylor-Joy, Haley Lu Richar...  2016   \n",
       "3    Matthew McConaughey,Reese Witherspoon, Seth Ma...  2016   \n",
       "4    Will Smith, Jared Leto, Margot Robbie, Viola D...  2016   \n",
       "..                                                 ...   ...   \n",
       "993  Milla Jovovich, Ali Larter, Wentworth Miller,K...  2010   \n",
       "994  Thomas Mann, Oliver Cooper, Jonathan Daniel Br...  2012   \n",
       "996  Lauren German, Heather Matarazzo, Bijou Philli...  2007   \n",
       "997  Robert Hoffman, Briana Evigan, Cassie Ventura,...  2008   \n",
       "999  Kevin Spacey, Jennifer Garner, Robbie Amell,Ch...  2016   \n",
       "\n",
       "     Runtime (Minutes)  Rating   Votes  Revenue (Millions)  Metascore  cnt  \\\n",
       "0                  121     8.1  757074              333.13       76.0    1   \n",
       "1                  124     7.0  485820              126.46       65.0    1   \n",
       "2                  117     7.3  157606              138.12       62.0    1   \n",
       "3                  108     7.2   60545              270.32       59.0    1   \n",
       "4                  123     6.2  393727              325.02       40.0    1   \n",
       "..                 ...     ...     ...                 ...        ...  ...   \n",
       "993                 97     5.9  140900               60.13       37.0    1   \n",
       "994                 88     6.7  164088               54.72       48.0    1   \n",
       "996                 94     5.5   73152               17.54       46.0    1   \n",
       "997                 98     6.2   70699               58.01       50.0    1   \n",
       "999                 87     5.3   12435               19.64       11.0    1   \n",
       "\n",
       "        Genre1 Genre2 Genre3               Actor1                 Actor2  \\\n",
       "0       Action   None   None          Chris Pratt             Vin Diesel   \n",
       "1    Adventure   None   None         Noomi Rapace   Logan Marshall-Green   \n",
       "2       Horror   None   None         James McAvoy        Anya Taylor-Joy   \n",
       "3    Animation   None   None  Matthew McConaughey      Reese Witherspoon   \n",
       "4       Action   None   None           Will Smith             Jared Leto   \n",
       "..         ...    ...    ...                  ...                    ...   \n",
       "993     Action   None   None       Milla Jovovich             Ali Larter   \n",
       "994     Comedy   None   None          Thomas Mann          Oliver Cooper   \n",
       "996     Horror   None   None        Lauren German      Heather Matarazzo   \n",
       "997      Drama   None   None       Robert Hoffman          Briana Evigan   \n",
       "999     Comedy   None   None         Kevin Spacey        Jennifer Garner   \n",
       "\n",
       "                                   Actor3  \n",
       "0             Bradley Cooper, Zoe Saldana  \n",
       "1     Michael Fassbender, Charlize Theron  \n",
       "2       Haley Lu Richardson, Jessica Sula  \n",
       "3     Seth MacFarlane, Scarlett Johansson  \n",
       "4              Margot Robbie, Viola Davis  \n",
       "..                                    ...  \n",
       "993           Wentworth Miller,Kim Coates  \n",
       "994      Jonathan Daniel Brown, Dax Flame  \n",
       "996            Bijou Phillips, Roger Bart  \n",
       "997        Cassie Ventura, Adam G. Sevani  \n",
       "999             Robbie Amell,Cheryl Hines  \n",
       "\n",
       "[872 rows x 19 columns]"
      ]
     },
     "execution_count": 40,
     "metadata": {},
     "output_type": "execute_result"
    }
   ],
   "source": [
    "df"
   ]
  },
  {
   "cell_type": "code",
   "execution_count": 41,
   "metadata": {
    "id": "ihhHBs5QCznP"
   },
   "outputs": [],
   "source": [
    "df2=df.copy()"
   ]
  },
  {
   "cell_type": "code",
   "execution_count": 42,
   "metadata": {
    "colab": {
     "base_uri": "https://localhost:8080/",
     "height": 423
    },
    "id": "qMOYodVjC71X",
    "outputId": "8dc49672-b22d-4d10-eca7-e1cef7e83a57"
   },
   "outputs": [
    {
     "data": {
      "text/html": [
       "<div>\n",
       "<style scoped>\n",
       "    .dataframe tbody tr th:only-of-type {\n",
       "        vertical-align: middle;\n",
       "    }\n",
       "\n",
       "    .dataframe tbody tr th {\n",
       "        vertical-align: top;\n",
       "    }\n",
       "\n",
       "    .dataframe thead th {\n",
       "        text-align: right;\n",
       "    }\n",
       "</style>\n",
       "<table border=\"1\" class=\"dataframe\">\n",
       "  <thead>\n",
       "    <tr style=\"text-align: right;\">\n",
       "      <th></th>\n",
       "      <th>Runtime (Minutes)</th>\n",
       "      <th>Rating</th>\n",
       "      <th>Votes</th>\n",
       "      <th>Revenue (Millions)</th>\n",
       "      <th>Metascore</th>\n",
       "      <th>Genre1</th>\n",
       "    </tr>\n",
       "  </thead>\n",
       "  <tbody>\n",
       "    <tr>\n",
       "      <th>0</th>\n",
       "      <td>121</td>\n",
       "      <td>8.1</td>\n",
       "      <td>757074</td>\n",
       "      <td>333.13</td>\n",
       "      <td>76.0</td>\n",
       "      <td>Action</td>\n",
       "    </tr>\n",
       "    <tr>\n",
       "      <th>1</th>\n",
       "      <td>124</td>\n",
       "      <td>7.0</td>\n",
       "      <td>485820</td>\n",
       "      <td>126.46</td>\n",
       "      <td>65.0</td>\n",
       "      <td>Adventure</td>\n",
       "    </tr>\n",
       "    <tr>\n",
       "      <th>2</th>\n",
       "      <td>117</td>\n",
       "      <td>7.3</td>\n",
       "      <td>157606</td>\n",
       "      <td>138.12</td>\n",
       "      <td>62.0</td>\n",
       "      <td>Horror</td>\n",
       "    </tr>\n",
       "    <tr>\n",
       "      <th>3</th>\n",
       "      <td>108</td>\n",
       "      <td>7.2</td>\n",
       "      <td>60545</td>\n",
       "      <td>270.32</td>\n",
       "      <td>59.0</td>\n",
       "      <td>Animation</td>\n",
       "    </tr>\n",
       "    <tr>\n",
       "      <th>4</th>\n",
       "      <td>123</td>\n",
       "      <td>6.2</td>\n",
       "      <td>393727</td>\n",
       "      <td>325.02</td>\n",
       "      <td>40.0</td>\n",
       "      <td>Action</td>\n",
       "    </tr>\n",
       "    <tr>\n",
       "      <th>...</th>\n",
       "      <td>...</td>\n",
       "      <td>...</td>\n",
       "      <td>...</td>\n",
       "      <td>...</td>\n",
       "      <td>...</td>\n",
       "      <td>...</td>\n",
       "    </tr>\n",
       "    <tr>\n",
       "      <th>993</th>\n",
       "      <td>97</td>\n",
       "      <td>5.9</td>\n",
       "      <td>140900</td>\n",
       "      <td>60.13</td>\n",
       "      <td>37.0</td>\n",
       "      <td>Action</td>\n",
       "    </tr>\n",
       "    <tr>\n",
       "      <th>994</th>\n",
       "      <td>88</td>\n",
       "      <td>6.7</td>\n",
       "      <td>164088</td>\n",
       "      <td>54.72</td>\n",
       "      <td>48.0</td>\n",
       "      <td>Comedy</td>\n",
       "    </tr>\n",
       "    <tr>\n",
       "      <th>996</th>\n",
       "      <td>94</td>\n",
       "      <td>5.5</td>\n",
       "      <td>73152</td>\n",
       "      <td>17.54</td>\n",
       "      <td>46.0</td>\n",
       "      <td>Horror</td>\n",
       "    </tr>\n",
       "    <tr>\n",
       "      <th>997</th>\n",
       "      <td>98</td>\n",
       "      <td>6.2</td>\n",
       "      <td>70699</td>\n",
       "      <td>58.01</td>\n",
       "      <td>50.0</td>\n",
       "      <td>Drama</td>\n",
       "    </tr>\n",
       "    <tr>\n",
       "      <th>999</th>\n",
       "      <td>87</td>\n",
       "      <td>5.3</td>\n",
       "      <td>12435</td>\n",
       "      <td>19.64</td>\n",
       "      <td>11.0</td>\n",
       "      <td>Comedy</td>\n",
       "    </tr>\n",
       "  </tbody>\n",
       "</table>\n",
       "<p>872 rows × 6 columns</p>\n",
       "</div>"
      ],
      "text/plain": [
       "     Runtime (Minutes)  Rating   Votes  Revenue (Millions)  Metascore  \\\n",
       "0                  121     8.1  757074              333.13       76.0   \n",
       "1                  124     7.0  485820              126.46       65.0   \n",
       "2                  117     7.3  157606              138.12       62.0   \n",
       "3                  108     7.2   60545              270.32       59.0   \n",
       "4                  123     6.2  393727              325.02       40.0   \n",
       "..                 ...     ...     ...                 ...        ...   \n",
       "993                 97     5.9  140900               60.13       37.0   \n",
       "994                 88     6.7  164088               54.72       48.0   \n",
       "996                 94     5.5   73152               17.54       46.0   \n",
       "997                 98     6.2   70699               58.01       50.0   \n",
       "999                 87     5.3   12435               19.64       11.0   \n",
       "\n",
       "        Genre1  \n",
       "0       Action  \n",
       "1    Adventure  \n",
       "2       Horror  \n",
       "3    Animation  \n",
       "4       Action  \n",
       "..         ...  \n",
       "993     Action  \n",
       "994     Comedy  \n",
       "996     Horror  \n",
       "997      Drama  \n",
       "999     Comedy  \n",
       "\n",
       "[872 rows x 6 columns]"
      ]
     },
     "execution_count": 42,
     "metadata": {},
     "output_type": "execute_result"
    }
   ],
   "source": [
    "df2=df2.drop(columns=[\"Rank\",\"Title\",\"Genre\",\"Description\",\"Actors\",\"Year\",\"Director\",\"cnt\",\"Genre2\",\"Genre3\",\"Actor1\",\"Actor2\",\"Actor3\"],axis=1)\n",
    "df2"
   ]
  },
  {
   "cell_type": "code",
   "execution_count": 43,
   "metadata": {
    "colab": {
     "base_uri": "https://localhost:8080/",
     "height": 423
    },
    "id": "K2pcLpFVDY3H",
    "outputId": "49e381f1-fab8-43af-8bef-cd5eec2e1118"
   },
   "outputs": [
    {
     "data": {
      "text/html": [
       "<div>\n",
       "<style scoped>\n",
       "    .dataframe tbody tr th:only-of-type {\n",
       "        vertical-align: middle;\n",
       "    }\n",
       "\n",
       "    .dataframe tbody tr th {\n",
       "        vertical-align: top;\n",
       "    }\n",
       "\n",
       "    .dataframe thead th {\n",
       "        text-align: right;\n",
       "    }\n",
       "</style>\n",
       "<table border=\"1\" class=\"dataframe\">\n",
       "  <thead>\n",
       "    <tr style=\"text-align: right;\">\n",
       "      <th></th>\n",
       "      <th>Runtime (Minutes)</th>\n",
       "      <th>Rating</th>\n",
       "      <th>Votes</th>\n",
       "      <th>Revenue (Millions)</th>\n",
       "      <th>Metascore</th>\n",
       "      <th>Genre1</th>\n",
       "      <th>genre_enc</th>\n",
       "    </tr>\n",
       "  </thead>\n",
       "  <tbody>\n",
       "    <tr>\n",
       "      <th>0</th>\n",
       "      <td>121</td>\n",
       "      <td>8.1</td>\n",
       "      <td>757074</td>\n",
       "      <td>333.13</td>\n",
       "      <td>76.0</td>\n",
       "      <td>Action</td>\n",
       "      <td>0</td>\n",
       "    </tr>\n",
       "    <tr>\n",
       "      <th>1</th>\n",
       "      <td>124</td>\n",
       "      <td>7.0</td>\n",
       "      <td>485820</td>\n",
       "      <td>126.46</td>\n",
       "      <td>65.0</td>\n",
       "      <td>Adventure</td>\n",
       "      <td>1</td>\n",
       "    </tr>\n",
       "    <tr>\n",
       "      <th>2</th>\n",
       "      <td>117</td>\n",
       "      <td>7.3</td>\n",
       "      <td>157606</td>\n",
       "      <td>138.12</td>\n",
       "      <td>62.0</td>\n",
       "      <td>Horror</td>\n",
       "      <td>8</td>\n",
       "    </tr>\n",
       "    <tr>\n",
       "      <th>3</th>\n",
       "      <td>108</td>\n",
       "      <td>7.2</td>\n",
       "      <td>60545</td>\n",
       "      <td>270.32</td>\n",
       "      <td>59.0</td>\n",
       "      <td>Animation</td>\n",
       "      <td>2</td>\n",
       "    </tr>\n",
       "    <tr>\n",
       "      <th>4</th>\n",
       "      <td>123</td>\n",
       "      <td>6.2</td>\n",
       "      <td>393727</td>\n",
       "      <td>325.02</td>\n",
       "      <td>40.0</td>\n",
       "      <td>Action</td>\n",
       "      <td>0</td>\n",
       "    </tr>\n",
       "    <tr>\n",
       "      <th>...</th>\n",
       "      <td>...</td>\n",
       "      <td>...</td>\n",
       "      <td>...</td>\n",
       "      <td>...</td>\n",
       "      <td>...</td>\n",
       "      <td>...</td>\n",
       "      <td>...</td>\n",
       "    </tr>\n",
       "    <tr>\n",
       "      <th>993</th>\n",
       "      <td>97</td>\n",
       "      <td>5.9</td>\n",
       "      <td>140900</td>\n",
       "      <td>60.13</td>\n",
       "      <td>37.0</td>\n",
       "      <td>Action</td>\n",
       "      <td>0</td>\n",
       "    </tr>\n",
       "    <tr>\n",
       "      <th>994</th>\n",
       "      <td>88</td>\n",
       "      <td>6.7</td>\n",
       "      <td>164088</td>\n",
       "      <td>54.72</td>\n",
       "      <td>48.0</td>\n",
       "      <td>Comedy</td>\n",
       "      <td>4</td>\n",
       "    </tr>\n",
       "    <tr>\n",
       "      <th>996</th>\n",
       "      <td>94</td>\n",
       "      <td>5.5</td>\n",
       "      <td>73152</td>\n",
       "      <td>17.54</td>\n",
       "      <td>46.0</td>\n",
       "      <td>Horror</td>\n",
       "      <td>8</td>\n",
       "    </tr>\n",
       "    <tr>\n",
       "      <th>997</th>\n",
       "      <td>98</td>\n",
       "      <td>6.2</td>\n",
       "      <td>70699</td>\n",
       "      <td>58.01</td>\n",
       "      <td>50.0</td>\n",
       "      <td>Drama</td>\n",
       "      <td>6</td>\n",
       "    </tr>\n",
       "    <tr>\n",
       "      <th>999</th>\n",
       "      <td>87</td>\n",
       "      <td>5.3</td>\n",
       "      <td>12435</td>\n",
       "      <td>19.64</td>\n",
       "      <td>11.0</td>\n",
       "      <td>Comedy</td>\n",
       "      <td>4</td>\n",
       "    </tr>\n",
       "  </tbody>\n",
       "</table>\n",
       "<p>872 rows × 7 columns</p>\n",
       "</div>"
      ],
      "text/plain": [
       "     Runtime (Minutes)  Rating   Votes  Revenue (Millions)  Metascore  \\\n",
       "0                  121     8.1  757074              333.13       76.0   \n",
       "1                  124     7.0  485820              126.46       65.0   \n",
       "2                  117     7.3  157606              138.12       62.0   \n",
       "3                  108     7.2   60545              270.32       59.0   \n",
       "4                  123     6.2  393727              325.02       40.0   \n",
       "..                 ...     ...     ...                 ...        ...   \n",
       "993                 97     5.9  140900               60.13       37.0   \n",
       "994                 88     6.7  164088               54.72       48.0   \n",
       "996                 94     5.5   73152               17.54       46.0   \n",
       "997                 98     6.2   70699               58.01       50.0   \n",
       "999                 87     5.3   12435               19.64       11.0   \n",
       "\n",
       "        Genre1  genre_enc  \n",
       "0       Action          0  \n",
       "1    Adventure          1  \n",
       "2       Horror          8  \n",
       "3    Animation          2  \n",
       "4       Action          0  \n",
       "..         ...        ...  \n",
       "993     Action          0  \n",
       "994     Comedy          4  \n",
       "996     Horror          8  \n",
       "997      Drama          6  \n",
       "999     Comedy          4  \n",
       "\n",
       "[872 rows x 7 columns]"
      ]
     },
     "execution_count": 43,
     "metadata": {},
     "output_type": "execute_result"
    }
   ],
   "source": [
    "from sklearn.preprocessing import LabelEncoder\n",
    "le=LabelEncoder()\n",
    "genre=le.fit_transform(df2['Genre1'])\n",
    "df2['genre_enc']=genre\n",
    "df2"
   ]
  },
  {
   "cell_type": "code",
   "execution_count": 44,
   "metadata": {
    "colab": {
     "base_uri": "https://localhost:8080/"
    },
    "id": "NO_c3jPeIrkv",
    "outputId": "cd737428-afeb-47e2-d85b-ba133c9be7e5"
   },
   "outputs": [
    {
     "data": {
      "text/plain": [
       "array(['Action', 'Adventure', 'Horror', 'Animation', 'Comedy',\n",
       "       'Biography', 'Drama', 'Crime', 'Mystery', 'Sci-Fi', 'Fantasy',\n",
       "       'Romance', 'Thriller'], dtype=object)"
      ]
     },
     "execution_count": 44,
     "metadata": {},
     "output_type": "execute_result"
    }
   ],
   "source": [
    "df2['Genre1'].unique()"
   ]
  },
  {
   "cell_type": "code",
   "execution_count": 45,
   "metadata": {
    "colab": {
     "base_uri": "https://localhost:8080/",
     "height": 423
    },
    "id": "RTrgrvObFDL5",
    "outputId": "9ae74e63-6188-4516-aaf7-bbb18d44f17f"
   },
   "outputs": [
    {
     "data": {
      "text/html": [
       "<div>\n",
       "<style scoped>\n",
       "    .dataframe tbody tr th:only-of-type {\n",
       "        vertical-align: middle;\n",
       "    }\n",
       "\n",
       "    .dataframe tbody tr th {\n",
       "        vertical-align: top;\n",
       "    }\n",
       "\n",
       "    .dataframe thead th {\n",
       "        text-align: right;\n",
       "    }\n",
       "</style>\n",
       "<table border=\"1\" class=\"dataframe\">\n",
       "  <thead>\n",
       "    <tr style=\"text-align: right;\">\n",
       "      <th></th>\n",
       "      <th>Runtime (Minutes)</th>\n",
       "      <th>Rating</th>\n",
       "      <th>Votes</th>\n",
       "      <th>Revenue (Millions)</th>\n",
       "      <th>Metascore</th>\n",
       "      <th>genre_enc</th>\n",
       "    </tr>\n",
       "  </thead>\n",
       "  <tbody>\n",
       "    <tr>\n",
       "      <th>0</th>\n",
       "      <td>121</td>\n",
       "      <td>8.1</td>\n",
       "      <td>757074</td>\n",
       "      <td>333.13</td>\n",
       "      <td>76.0</td>\n",
       "      <td>0</td>\n",
       "    </tr>\n",
       "    <tr>\n",
       "      <th>1</th>\n",
       "      <td>124</td>\n",
       "      <td>7.0</td>\n",
       "      <td>485820</td>\n",
       "      <td>126.46</td>\n",
       "      <td>65.0</td>\n",
       "      <td>1</td>\n",
       "    </tr>\n",
       "    <tr>\n",
       "      <th>2</th>\n",
       "      <td>117</td>\n",
       "      <td>7.3</td>\n",
       "      <td>157606</td>\n",
       "      <td>138.12</td>\n",
       "      <td>62.0</td>\n",
       "      <td>8</td>\n",
       "    </tr>\n",
       "    <tr>\n",
       "      <th>3</th>\n",
       "      <td>108</td>\n",
       "      <td>7.2</td>\n",
       "      <td>60545</td>\n",
       "      <td>270.32</td>\n",
       "      <td>59.0</td>\n",
       "      <td>2</td>\n",
       "    </tr>\n",
       "    <tr>\n",
       "      <th>4</th>\n",
       "      <td>123</td>\n",
       "      <td>6.2</td>\n",
       "      <td>393727</td>\n",
       "      <td>325.02</td>\n",
       "      <td>40.0</td>\n",
       "      <td>0</td>\n",
       "    </tr>\n",
       "    <tr>\n",
       "      <th>...</th>\n",
       "      <td>...</td>\n",
       "      <td>...</td>\n",
       "      <td>...</td>\n",
       "      <td>...</td>\n",
       "      <td>...</td>\n",
       "      <td>...</td>\n",
       "    </tr>\n",
       "    <tr>\n",
       "      <th>993</th>\n",
       "      <td>97</td>\n",
       "      <td>5.9</td>\n",
       "      <td>140900</td>\n",
       "      <td>60.13</td>\n",
       "      <td>37.0</td>\n",
       "      <td>0</td>\n",
       "    </tr>\n",
       "    <tr>\n",
       "      <th>994</th>\n",
       "      <td>88</td>\n",
       "      <td>6.7</td>\n",
       "      <td>164088</td>\n",
       "      <td>54.72</td>\n",
       "      <td>48.0</td>\n",
       "      <td>4</td>\n",
       "    </tr>\n",
       "    <tr>\n",
       "      <th>996</th>\n",
       "      <td>94</td>\n",
       "      <td>5.5</td>\n",
       "      <td>73152</td>\n",
       "      <td>17.54</td>\n",
       "      <td>46.0</td>\n",
       "      <td>8</td>\n",
       "    </tr>\n",
       "    <tr>\n",
       "      <th>997</th>\n",
       "      <td>98</td>\n",
       "      <td>6.2</td>\n",
       "      <td>70699</td>\n",
       "      <td>58.01</td>\n",
       "      <td>50.0</td>\n",
       "      <td>6</td>\n",
       "    </tr>\n",
       "    <tr>\n",
       "      <th>999</th>\n",
       "      <td>87</td>\n",
       "      <td>5.3</td>\n",
       "      <td>12435</td>\n",
       "      <td>19.64</td>\n",
       "      <td>11.0</td>\n",
       "      <td>4</td>\n",
       "    </tr>\n",
       "  </tbody>\n",
       "</table>\n",
       "<p>872 rows × 6 columns</p>\n",
       "</div>"
      ],
      "text/plain": [
       "     Runtime (Minutes)  Rating   Votes  Revenue (Millions)  Metascore  \\\n",
       "0                  121     8.1  757074              333.13       76.0   \n",
       "1                  124     7.0  485820              126.46       65.0   \n",
       "2                  117     7.3  157606              138.12       62.0   \n",
       "3                  108     7.2   60545              270.32       59.0   \n",
       "4                  123     6.2  393727              325.02       40.0   \n",
       "..                 ...     ...     ...                 ...        ...   \n",
       "993                 97     5.9  140900               60.13       37.0   \n",
       "994                 88     6.7  164088               54.72       48.0   \n",
       "996                 94     5.5   73152               17.54       46.0   \n",
       "997                 98     6.2   70699               58.01       50.0   \n",
       "999                 87     5.3   12435               19.64       11.0   \n",
       "\n",
       "     genre_enc  \n",
       "0            0  \n",
       "1            1  \n",
       "2            8  \n",
       "3            2  \n",
       "4            0  \n",
       "..         ...  \n",
       "993          0  \n",
       "994          4  \n",
       "996          8  \n",
       "997          6  \n",
       "999          4  \n",
       "\n",
       "[872 rows x 6 columns]"
      ]
     },
     "execution_count": 45,
     "metadata": {},
     "output_type": "execute_result"
    }
   ],
   "source": [
    "df2=df2.drop(columns=['Genre1'],axis=1)\n",
    "df2"
   ]
  },
  {
   "cell_type": "code",
   "execution_count": 46,
   "metadata": {
    "id": "vn9ULkriFjiU"
   },
   "outputs": [],
   "source": [
    "X=df2.drop(\"genre_enc\",axis=1)\n",
    "y=df2['genre_enc']"
   ]
  },
  {
   "cell_type": "code",
   "execution_count": 47,
   "metadata": {
    "id": "Z715gTnyFeHJ"
   },
   "outputs": [],
   "source": [
    "from sklearn.model_selection import train_test_split\n",
    "X_train, X_test, y_train, y_test = train_test_split(X, y, test_size = 0.2, random_state = 0)"
   ]
  },
  {
   "cell_type": "code",
   "execution_count": 48,
   "metadata": {
    "colab": {
     "base_uri": "https://localhost:8080/"
    },
    "id": "k9RzwIs3GB8W",
    "outputId": "b340ad25-86c9-4714-9c06-95d18ee70578"
   },
   "outputs": [
    {
     "data": {
      "text/plain": [
       "LinearRegression()"
      ]
     },
     "execution_count": 48,
     "metadata": {},
     "output_type": "execute_result"
    }
   ],
   "source": [
    "from sklearn.linear_model import LinearRegression\n",
    "regressor=LinearRegression()\n",
    "regressor.fit(X_train,y_train)"
   ]
  },
  {
   "cell_type": "code",
   "execution_count": 49,
   "metadata": {
    "id": "Sx0S76EWGEy6"
   },
   "outputs": [],
   "source": [
    "y_pred=regressor.predict(X_test)\n",
    "np.set_printoptions(precision=2)\n",
    "#print(np.concatenate((y_pred.reshape(len(y_pred),1),y_test.reshape(len(y_test),1)),axis=1))\n"
   ]
  },
  {
   "cell_type": "code",
   "execution_count": 50,
   "metadata": {
    "id": "ePWHH9qQIm7k"
   },
   "outputs": [],
   "source": [
    "genres=['Action', 'Adventure', 'Horror', 'Animation', 'Comedy',\n",
    "       'Biography', 'Drama', 'Crime', 'Mystery', 'Sci-Fi', 'Fantasy',\n",
    "       'Romance', 'Thriller']"
   ]
  },
  {
   "cell_type": "code",
   "execution_count": 51,
   "metadata": {
    "colab": {
     "base_uri": "https://localhost:8080/"
    },
    "id": "Jb9JCV_NGH7U",
    "outputId": "0eb00ad3-2f71-4143-cf07-d63f8e3c0c8d"
   },
   "outputs": [
    {
     "data": {
      "text/plain": [
       "array([3, 3, 3, 3, 2, 3, 4, 4, 2, 3, 3, 3, 2, 4, 1, 3, 3, 3, 2, 3, 4, 2,\n",
       "       3, 2, 3, 3, 3, 4, 3, 4, 3, 2, 2, 3, 4, 2, 4, 2, 5, 3, 1, 1, 3, 3,\n",
       "       4, 2, 3, 1, 4, 4, 3, 4, 4, 3, 0, 3, 2, 4, 3, 4, 3, 3, 3, 3, 2, 1,\n",
       "       3, 5, 4, 4, 4, 2, 3, 3, 4, 3, 4, 2, 4, 3, 2, 2, 4, 4, 3, 2, 4, 5,\n",
       "       3, 0, 4, 3, 3, 3, 0, 3, 1, 4, 5, 3, 4, 2, 1, 4, 4, 5, 3, 4, 3, 3,\n",
       "       1, 4, 3, 3, 1, 3, 1, 3, 4, 1, 4, 3, 2, 3, 2, 3, 3, 4, 3, 3, 4, 2,\n",
       "       3, 3, 2, 4, 3, 3, 2, 3, 2, 2, 4, 4, 0, 3, 1, 4, 3, 3, 3, 3, 3, 3,\n",
       "       1, 3, 4, 3, 4, 3, 3, 2, 3, 3, 3, 3, 3, 3, 2, 2, 3, 3, 1, 3, 3])"
      ]
     },
     "execution_count": 51,
     "metadata": {},
     "output_type": "execute_result"
    }
   ],
   "source": [
    "y_pred=np.rint(y_pred)\n",
    "a=[]\n",
    "for i in y_pred:\n",
    "  a.append(int(i))\n",
    "\n",
    "a=np.array(a)\n",
    "a"
   ]
  },
  {
   "cell_type": "code",
   "execution_count": 52,
   "metadata": {
    "colab": {
     "base_uri": "https://localhost:8080/"
    },
    "id": "2D1TpsUJGKh5",
    "outputId": "5c28b925-d19d-4e92-98fa-35dcade2e84d"
   },
   "outputs": [
    {
     "name": "stdout",
     "output_type": "stream",
     "text": [
      "Horror\n"
     ]
    },
    {
     "name": "stderr",
     "output_type": "stream",
     "text": [
      "/Users/fasil/opt/anaconda3/lib/python3.8/site-packages/sklearn/base.py:445: UserWarning: X does not have valid feature names, but LinearRegression was fitted with feature names\n",
      "  warnings.warn(\n"
     ]
    }
   ],
   "source": [
    "print(genres[int(np.round_((regressor.predict([[178,9.1,1600,250,76]]))))])"
   ]
  },
  {
   "cell_type": "code",
   "execution_count": 53,
   "metadata": {
    "id": "Xl1i6R9DoXck"
   },
   "outputs": [],
   "source": [
    "df3=df.copy()\n",
    "df4=df.copy()\n",
    "df5=df.copy()"
   ]
  },
  {
   "cell_type": "code",
   "execution_count": 54,
   "metadata": {
    "id": "z2YqzQ_moX2W"
   },
   "outputs": [],
   "source": [
    "df3=df3.drop(columns=[\"Rank\",\"Title\",\"Genre\",\"Description\",\"Actors\",\"Year\",\"cnt\",\"Genre2\",\"Genre3\",\"Actor1\",\"Actor2\",\"Actor3\"],axis=1)\n",
    "df4=df4.drop(columns=[\"Rank\",\"Title\",\"Genre\",\"Description\",\"Actors\",\"Director\",\"Year\",\"cnt\",\"Genre2\",\"Genre3\",\"Actor2\",\"Actor3\"],axis=1)\n",
    "df5=df5.drop(columns=[\"Rank\",\"Title\",\"Genre\",\"Description\",\"Actors\",\"Director\",\"Year\",\"cnt\",\"Genre2\",\"Genre3\",\"Actor1\",\"Actor3\"],axis=1)"
   ]
  },
  {
   "cell_type": "code",
   "execution_count": 55,
   "metadata": {
    "colab": {
     "base_uri": "https://localhost:8080/",
     "height": 423
    },
    "id": "zY0BT95HoY_6",
    "outputId": "4975e082-ba5d-4532-9ed3-019f2322d076"
   },
   "outputs": [
    {
     "data": {
      "text/html": [
       "<div>\n",
       "<style scoped>\n",
       "    .dataframe tbody tr th:only-of-type {\n",
       "        vertical-align: middle;\n",
       "    }\n",
       "\n",
       "    .dataframe tbody tr th {\n",
       "        vertical-align: top;\n",
       "    }\n",
       "\n",
       "    .dataframe thead th {\n",
       "        text-align: right;\n",
       "    }\n",
       "</style>\n",
       "<table border=\"1\" class=\"dataframe\">\n",
       "  <thead>\n",
       "    <tr style=\"text-align: right;\">\n",
       "      <th></th>\n",
       "      <th>Director</th>\n",
       "      <th>Runtime (Minutes)</th>\n",
       "      <th>Rating</th>\n",
       "      <th>Votes</th>\n",
       "      <th>Revenue (Millions)</th>\n",
       "      <th>Metascore</th>\n",
       "      <th>genre_enc</th>\n",
       "    </tr>\n",
       "  </thead>\n",
       "  <tbody>\n",
       "    <tr>\n",
       "      <th>0</th>\n",
       "      <td>James Gunn</td>\n",
       "      <td>121</td>\n",
       "      <td>8.1</td>\n",
       "      <td>757074</td>\n",
       "      <td>333.13</td>\n",
       "      <td>76.0</td>\n",
       "      <td>0</td>\n",
       "    </tr>\n",
       "    <tr>\n",
       "      <th>1</th>\n",
       "      <td>Ridley Scott</td>\n",
       "      <td>124</td>\n",
       "      <td>7.0</td>\n",
       "      <td>485820</td>\n",
       "      <td>126.46</td>\n",
       "      <td>65.0</td>\n",
       "      <td>1</td>\n",
       "    </tr>\n",
       "    <tr>\n",
       "      <th>2</th>\n",
       "      <td>M. Night Shyamalan</td>\n",
       "      <td>117</td>\n",
       "      <td>7.3</td>\n",
       "      <td>157606</td>\n",
       "      <td>138.12</td>\n",
       "      <td>62.0</td>\n",
       "      <td>8</td>\n",
       "    </tr>\n",
       "    <tr>\n",
       "      <th>3</th>\n",
       "      <td>Christophe Lourdelet</td>\n",
       "      <td>108</td>\n",
       "      <td>7.2</td>\n",
       "      <td>60545</td>\n",
       "      <td>270.32</td>\n",
       "      <td>59.0</td>\n",
       "      <td>2</td>\n",
       "    </tr>\n",
       "    <tr>\n",
       "      <th>4</th>\n",
       "      <td>David Ayer</td>\n",
       "      <td>123</td>\n",
       "      <td>6.2</td>\n",
       "      <td>393727</td>\n",
       "      <td>325.02</td>\n",
       "      <td>40.0</td>\n",
       "      <td>0</td>\n",
       "    </tr>\n",
       "    <tr>\n",
       "      <th>...</th>\n",
       "      <td>...</td>\n",
       "      <td>...</td>\n",
       "      <td>...</td>\n",
       "      <td>...</td>\n",
       "      <td>...</td>\n",
       "      <td>...</td>\n",
       "      <td>...</td>\n",
       "    </tr>\n",
       "    <tr>\n",
       "      <th>993</th>\n",
       "      <td>Paul W.S. Anderson</td>\n",
       "      <td>97</td>\n",
       "      <td>5.9</td>\n",
       "      <td>140900</td>\n",
       "      <td>60.13</td>\n",
       "      <td>37.0</td>\n",
       "      <td>0</td>\n",
       "    </tr>\n",
       "    <tr>\n",
       "      <th>994</th>\n",
       "      <td>Nima Nourizadeh</td>\n",
       "      <td>88</td>\n",
       "      <td>6.7</td>\n",
       "      <td>164088</td>\n",
       "      <td>54.72</td>\n",
       "      <td>48.0</td>\n",
       "      <td>4</td>\n",
       "    </tr>\n",
       "    <tr>\n",
       "      <th>996</th>\n",
       "      <td>Eli Roth</td>\n",
       "      <td>94</td>\n",
       "      <td>5.5</td>\n",
       "      <td>73152</td>\n",
       "      <td>17.54</td>\n",
       "      <td>46.0</td>\n",
       "      <td>8</td>\n",
       "    </tr>\n",
       "    <tr>\n",
       "      <th>997</th>\n",
       "      <td>Jon M. Chu</td>\n",
       "      <td>98</td>\n",
       "      <td>6.2</td>\n",
       "      <td>70699</td>\n",
       "      <td>58.01</td>\n",
       "      <td>50.0</td>\n",
       "      <td>6</td>\n",
       "    </tr>\n",
       "    <tr>\n",
       "      <th>999</th>\n",
       "      <td>Barry Sonnenfeld</td>\n",
       "      <td>87</td>\n",
       "      <td>5.3</td>\n",
       "      <td>12435</td>\n",
       "      <td>19.64</td>\n",
       "      <td>11.0</td>\n",
       "      <td>4</td>\n",
       "    </tr>\n",
       "  </tbody>\n",
       "</table>\n",
       "<p>872 rows × 7 columns</p>\n",
       "</div>"
      ],
      "text/plain": [
       "                 Director  Runtime (Minutes)  Rating   Votes  \\\n",
       "0              James Gunn                121     8.1  757074   \n",
       "1            Ridley Scott                124     7.0  485820   \n",
       "2      M. Night Shyamalan                117     7.3  157606   \n",
       "3    Christophe Lourdelet                108     7.2   60545   \n",
       "4              David Ayer                123     6.2  393727   \n",
       "..                    ...                ...     ...     ...   \n",
       "993    Paul W.S. Anderson                 97     5.9  140900   \n",
       "994       Nima Nourizadeh                 88     6.7  164088   \n",
       "996              Eli Roth                 94     5.5   73152   \n",
       "997            Jon M. Chu                 98     6.2   70699   \n",
       "999      Barry Sonnenfeld                 87     5.3   12435   \n",
       "\n",
       "     Revenue (Millions)  Metascore  genre_enc  \n",
       "0                333.13       76.0          0  \n",
       "1                126.46       65.0          1  \n",
       "2                138.12       62.0          8  \n",
       "3                270.32       59.0          2  \n",
       "4                325.02       40.0          0  \n",
       "..                  ...        ...        ...  \n",
       "993               60.13       37.0          0  \n",
       "994               54.72       48.0          4  \n",
       "996               17.54       46.0          8  \n",
       "997               58.01       50.0          6  \n",
       "999               19.64       11.0          4  \n",
       "\n",
       "[872 rows x 7 columns]"
      ]
     },
     "execution_count": 55,
     "metadata": {},
     "output_type": "execute_result"
    }
   ],
   "source": [
    "from sklearn.preprocessing import LabelEncoder\n",
    "le=LabelEncoder()\n",
    "genre=le.fit_transform(df3['Genre1'])\n",
    "df3['genre_enc']=genre\n",
    "df3=df3.drop(columns=['Genre1'],axis=1)\n",
    "df3"
   ]
  },
  {
   "cell_type": "code",
   "execution_count": 56,
   "metadata": {
    "id": "4-CqR7v5oadN"
   },
   "outputs": [],
   "source": [
    "X = df3.drop('Director',axis=1)\n",
    "y = df3['Director']\n",
    "\n",
    "from sklearn.model_selection import train_test_split\n",
    "# implementing train-test-split\n",
    "X_train, X_test, y_train, y_test = train_test_split(X, y, test_size=0.3, random_state=42)"
   ]
  },
  {
   "cell_type": "code",
   "execution_count": 57,
   "metadata": {
    "id": "Jxed1ydmobkE"
   },
   "outputs": [],
   "source": [
    "from sklearn.tree import DecisionTreeClassifier # Import Decision Tree Classifier\n",
    "from sklearn import metrics"
   ]
  },
  {
   "cell_type": "code",
   "execution_count": 58,
   "metadata": {
    "id": "IdY4ZOCfocvC"
   },
   "outputs": [],
   "source": [
    "clf = DecisionTreeClassifier()\n",
    "# Train Decision Tree Classifier\n",
    "clf = clf.fit(X_train,y_train)\n",
    "#Predict the response for test dataset\n",
    "y_pred = clf.predict(X_test)"
   ]
  },
  {
   "cell_type": "code",
   "execution_count": 59,
   "metadata": {
    "colab": {
     "base_uri": "https://localhost:8080/"
    },
    "id": "1-ijnj3LodrV",
    "outputId": "30045def-cb59-41a7-98e0-10f644654664"
   },
   "outputs": [
    {
     "name": "stdout",
     "output_type": "stream",
     "text": [
      "zsh:1: command not found: apt-get\r\n"
     ]
    },
    {
     "ename": "ModuleNotFoundError",
     "evalue": "No module named 'pydot'",
     "output_type": "error",
     "traceback": [
      "\u001b[0;31m---------------------------------------------------------------------------\u001b[0m",
      "\u001b[0;31mModuleNotFoundError\u001b[0m                       Traceback (most recent call last)",
      "\u001b[0;32m/var/folders/mb/j47tljyn3kz85pj_kw2trq8h0000gn/T/ipykernel_34283/2839292778.py\u001b[0m in \u001b[0;36m<module>\u001b[0;34m\u001b[0m\n\u001b[1;32m      1\u001b[0m \u001b[0mget_ipython\u001b[0m\u001b[0;34m(\u001b[0m\u001b[0;34m)\u001b[0m\u001b[0;34m.\u001b[0m\u001b[0msystem\u001b[0m\u001b[0;34m(\u001b[0m\u001b[0;34m'apt-get -qq install -y graphviz && pip install pydot'\u001b[0m\u001b[0;34m)\u001b[0m\u001b[0;34m\u001b[0m\u001b[0;34m\u001b[0m\u001b[0m\n\u001b[0;32m----> 2\u001b[0;31m \u001b[0;32mimport\u001b[0m \u001b[0mpydot\u001b[0m\u001b[0;34m\u001b[0m\u001b[0;34m\u001b[0m\u001b[0m\n\u001b[0m",
      "\u001b[0;31mModuleNotFoundError\u001b[0m: No module named 'pydot'"
     ]
    }
   ],
   "source": [
    "!apt-get -qq install -y graphviz && pip install pydot\n",
    "import pydot"
   ]
  },
  {
   "cell_type": "code",
   "execution_count": null,
   "metadata": {
    "colab": {
     "base_uri": "https://localhost:8080/"
    },
    "id": "mEHRDzNzofDN",
    "outputId": "7e8308ac-5b6e-491c-c4b9-df5091f6d6f6"
   },
   "outputs": [],
   "source": [
    "!pip install six\n",
    "import six\n",
    "import sys\n",
    "sys.modules['sklearn.externals.six'] = six\n",
    "from IPython.display import Image\n",
    "from sklearn.tree import export_graphviz\n",
    "import pydotplus\n",
    "from six import StringIO"
   ]
  },
  {
   "cell_type": "code",
   "execution_count": 60,
   "metadata": {
    "id": "0k3GWFZ0ogL0"
   },
   "outputs": [
    {
     "ename": "NameError",
     "evalue": "name 'StringIO' is not defined",
     "output_type": "error",
     "traceback": [
      "\u001b[0;31m---------------------------------------------------------------------------\u001b[0m",
      "\u001b[0;31mNameError\u001b[0m                                 Traceback (most recent call last)",
      "\u001b[0;32m/var/folders/mb/j47tljyn3kz85pj_kw2trq8h0000gn/T/ipykernel_34283/1419460917.py\u001b[0m in \u001b[0;36m<module>\u001b[0;34m\u001b[0m\n\u001b[0;32m----> 1\u001b[0;31m \u001b[0mdot_data\u001b[0m \u001b[0;34m=\u001b[0m \u001b[0mStringIO\u001b[0m\u001b[0;34m(\u001b[0m\u001b[0;34m)\u001b[0m\u001b[0;34m\u001b[0m\u001b[0;34m\u001b[0m\u001b[0m\n\u001b[0m\u001b[1;32m      2\u001b[0m \u001b[0mexport_graphviz\u001b[0m\u001b[0;34m(\u001b[0m\u001b[0mclf\u001b[0m\u001b[0;34m,\u001b[0m \u001b[0mout_file\u001b[0m\u001b[0;34m=\u001b[0m \u001b[0mdot_data\u001b[0m\u001b[0;34m,\u001b[0m \u001b[0mfeature_names\u001b[0m\u001b[0;34m=\u001b[0m\u001b[0mlist\u001b[0m\u001b[0;34m(\u001b[0m\u001b[0mX\u001b[0m\u001b[0;34m.\u001b[0m\u001b[0mcolumns\u001b[0m\u001b[0;34m)\u001b[0m\u001b[0;34m,\u001b[0m \u001b[0mfilled\u001b[0m \u001b[0;34m=\u001b[0m \u001b[0;32mTrue\u001b[0m\u001b[0;34m,\u001b[0m \u001b[0mrounded\u001b[0m\u001b[0;34m=\u001b[0m\u001b[0;32mTrue\u001b[0m\u001b[0;34m)\u001b[0m\u001b[0;34m\u001b[0m\u001b[0;34m\u001b[0m\u001b[0m\n\u001b[1;32m      3\u001b[0m \u001b[0mgraph\u001b[0m \u001b[0;34m=\u001b[0m \u001b[0mpydotplus\u001b[0m\u001b[0;34m.\u001b[0m\u001b[0mgraph_from_dot_data\u001b[0m\u001b[0;34m(\u001b[0m\u001b[0mdot_data\u001b[0m\u001b[0;34m.\u001b[0m\u001b[0mgetvalue\u001b[0m\u001b[0;34m(\u001b[0m\u001b[0;34m)\u001b[0m\u001b[0;34m)\u001b[0m\u001b[0;34m\u001b[0m\u001b[0;34m\u001b[0m\u001b[0m\n",
      "\u001b[0;31mNameError\u001b[0m: name 'StringIO' is not defined"
     ]
    }
   ],
   "source": [
    "dot_data = StringIO()\n",
    "export_graphviz(clf, out_file= dot_data, feature_names=list(X.columns), filled = True, rounded=True)\n",
    "graph = pydotplus.graph_from_dot_data(dot_data.getvalue())"
   ]
  },
  {
   "cell_type": "code",
   "execution_count": 61,
   "metadata": {
    "colab": {
     "base_uri": "https://localhost:8080/",
     "height": 614
    },
    "id": "16zHcmbIoiPP",
    "outputId": "d427aed1-ea34-4fce-f3b7-396df7474492"
   },
   "outputs": [
    {
     "ename": "NameError",
     "evalue": "name 'Image' is not defined",
     "output_type": "error",
     "traceback": [
      "\u001b[0;31m---------------------------------------------------------------------------\u001b[0m",
      "\u001b[0;31mNameError\u001b[0m                                 Traceback (most recent call last)",
      "\u001b[0;32m/var/folders/mb/j47tljyn3kz85pj_kw2trq8h0000gn/T/ipykernel_34283/3935282027.py\u001b[0m in \u001b[0;36m<module>\u001b[0;34m\u001b[0m\n\u001b[0;32m----> 1\u001b[0;31m \u001b[0mImage\u001b[0m\u001b[0;34m(\u001b[0m\u001b[0mgraph\u001b[0m\u001b[0;34m.\u001b[0m\u001b[0mcreate_png\u001b[0m\u001b[0;34m(\u001b[0m\u001b[0;34m)\u001b[0m\u001b[0;34m)\u001b[0m\u001b[0;34m\u001b[0m\u001b[0;34m\u001b[0m\u001b[0m\n\u001b[0m",
      "\u001b[0;31mNameError\u001b[0m: name 'Image' is not defined"
     ]
    }
   ],
   "source": [
    "Image(graph.create_png())"
   ]
  },
  {
   "cell_type": "code",
   "execution_count": 62,
   "metadata": {
    "id": "49vGZt4NokAR"
   },
   "outputs": [],
   "source": [
    "genre=le.fit_transform(df4['Genre1'])\n",
    "df4['genre_enc']=genre\n",
    "df4=df4.drop(columns=['Genre1'],axis=1)\n",
    "genre=le.fit_transform(df5['Genre1'])\n",
    "df5['genre_enc']=genre\n",
    "df5=df5.drop(columns=['Genre1'],axis=1)"
   ]
  },
  {
   "cell_type": "code",
   "execution_count": 63,
   "metadata": {
    "id": "-sAbWO_XolJ1"
   },
   "outputs": [],
   "source": [
    "X = df4.drop('Actor1',axis=1)\n",
    "y = df4['Actor1']\n",
    "\n",
    "from sklearn.model_selection import train_test_split\n",
    "# implementing train-test-split\n",
    "X_train, X_test, y_train, y_test = train_test_split(X, y, test_size=0.3, random_state=42)"
   ]
  },
  {
   "cell_type": "code",
   "execution_count": 64,
   "metadata": {
    "colab": {
     "base_uri": "https://localhost:8080/"
    },
    "id": "4Jj-dwEAomPy",
    "outputId": "28ecfaaf-498c-481b-b519-b61c5b758c05"
   },
   "outputs": [
    {
     "data": {
      "text/plain": [
       "RandomForestClassifier()"
      ]
     },
     "execution_count": 64,
     "metadata": {},
     "output_type": "execute_result"
    }
   ],
   "source": [
    "from sklearn.ensemble import RandomForestClassifier\n",
    "from sklearn.datasets import make_classification\n",
    "rfc = RandomForestClassifier()\n",
    "rfc.fit(X_train,y_train)"
   ]
  },
  {
   "cell_type": "code",
   "execution_count": 65,
   "metadata": {
    "id": "u2x1sGcsonZU"
   },
   "outputs": [],
   "source": [
    "X = df5.drop('Actor2',axis=1)\n",
    "y = df5['Actor2']\n",
    "\n",
    "from sklearn.model_selection import train_test_split\n",
    "# implementing train-test-split\n",
    "X_train, X_test, y_train, y_test = train_test_split(X, y, test_size=0.3, random_state=42)"
   ]
  },
  {
   "cell_type": "code",
   "execution_count": 66,
   "metadata": {
    "colab": {
     "base_uri": "https://localhost:8080/"
    },
    "id": "kYP-oSZrooXF",
    "outputId": "91819643-82d2-4751-a397-8174fc5a0558"
   },
   "outputs": [
    {
     "data": {
      "text/plain": [
       "RandomForestClassifier()"
      ]
     },
     "execution_count": 66,
     "metadata": {},
     "output_type": "execute_result"
    }
   ],
   "source": [
    "from sklearn.ensemble import RandomForestClassifier\n",
    "from sklearn.datasets import make_classification\n",
    "rfc2 = RandomForestClassifier()\n",
    "rfc2.fit(X_train,y_train)"
   ]
  },
  {
   "cell_type": "code",
   "execution_count": 67,
   "metadata": {
    "id": "lPKTTIiCopjo"
   },
   "outputs": [],
   "source": [
    "import pickle\n",
    "pickle.dump(clf, open('DT.pkl', 'wb'))\n",
    "pickle.dump(rfc, open('RFC.pkl', 'wb'))\n",
    "pickle.dump(rfc2, open('RFC2.pkl', 'wb'))"
   ]
  },
  {
   "cell_type": "code",
   "execution_count": 68,
   "metadata": {
    "id": "PcCyzHOlorkP"
   },
   "outputs": [],
   "source": [
    "pickle.dump(regressor,open('regressor.pkl','wb'))"
   ]
  },
  {
   "cell_type": "code",
   "execution_count": null,
   "metadata": {
    "id": "OFdO5W3qos4r"
   },
   "outputs": [],
   "source": []
  }
 ],
 "metadata": {
  "colab": {
   "collapsed_sections": [],
   "name": "DV_Review-2.ipynb",
   "provenance": []
  },
  "kernelspec": {
   "display_name": "Python 3 (ipykernel)",
   "language": "python",
   "name": "python3"
  },
  "language_info": {
   "codemirror_mode": {
    "name": "ipython",
    "version": 3
   },
   "file_extension": ".py",
   "mimetype": "text/x-python",
   "name": "python",
   "nbconvert_exporter": "python",
   "pygments_lexer": "ipython3",
   "version": "3.8.12"
  }
 },
 "nbformat": 4,
 "nbformat_minor": 1
}
