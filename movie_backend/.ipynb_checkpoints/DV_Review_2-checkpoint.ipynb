{
 "cells": [
  {
   "cell_type": "code",
   "execution_count": null,
   "metadata": {
    "id": "vXLfCtEeFT2M"
   },
   "outputs": [],
   "source": [
    "import pandas as pd\n",
    "import numpy as np\n",
    "import matplotlib.pyplot as plt\n",
    "import seaborn as sns\n",
    "import plotly\n",
    "import plotly.express as px"
   ]
  },
  {
   "cell_type": "code",
   "execution_count": null,
   "metadata": {
    "id": "QYYc9ZFnF2ZX"
   },
   "outputs": [],
   "source": [
    "movies=pd.read_csv('IMDB-Movie-Data.csv')"
   ]
  },
  {
   "cell_type": "code",
   "execution_count": null,
   "metadata": {
    "colab": {
     "base_uri": "https://localhost:8080/",
     "height": 910
    },
    "id": "-3un1jeNF74U",
    "outputId": "f3683ce5-2636-4020-8ab5-f1ee49b7def2"
   },
   "outputs": [],
   "source": [
    "movies.head(10)"
   ]
  },
  {
   "cell_type": "code",
   "execution_count": null,
   "metadata": {
    "colab": {
     "base_uri": "https://localhost:8080/",
     "height": 630
    },
    "id": "rKFp16WQF-xo",
    "outputId": "6aa15777-4ae0-42ab-e34e-3f81a24f2b8b"
   },
   "outputs": [],
   "source": [
    "movies.info()\n",
    "movies.describe()"
   ]
  },
  {
   "cell_type": "markdown",
   "metadata": {
    "id": "VN5gIfh-GGnn"
   },
   "source": [
    "From the above table it is clearly visible that Revenue has some of the movies which gained very high Revenue their is huge gap beetween 50% -75% - max value.\n",
    "\n",
    "Also, from the above data colum it is understood, Revenue and Metascore column has missing values which needs to be treated. But Revenue of the movie is very sensitive and which we can not relace by Mean, Median or Mode filling."
   ]
  },
  {
   "cell_type": "code",
   "execution_count": null,
   "metadata": {
    "colab": {
     "base_uri": "https://localhost:8080/"
    },
    "id": "hSzaNuDWGCuD",
    "outputId": "0137832d-430f-4bcf-b9c2-2c3dbe9c99b3"
   },
   "outputs": [],
   "source": [
    "df=movies[~movies['Revenue (Millions)'].isnull()].copy()\n",
    "df.info()"
   ]
  },
  {
   "cell_type": "markdown",
   "metadata": {
    "id": "yfWQl7cYGRyy"
   },
   "source": [
    "Since Metascore still has few null records left whcih can be replaced using mean value treatment."
   ]
  },
  {
   "cell_type": "code",
   "execution_count": null,
   "metadata": {
    "id": "AGa7H5IeGMdr"
   },
   "outputs": [],
   "source": [
    "max_metascore =df['Metascore'].mean()\n",
    "df.Metascore.fillna(max_metascore,inplace=True)"
   ]
  },
  {
   "cell_type": "markdown",
   "metadata": {
    "id": "QyuxSRCJGV_W"
   },
   "source": [
    "Let us first look at the Revenue of all the movies over period of time."
   ]
  },
  {
   "cell_type": "code",
   "execution_count": null,
   "metadata": {
    "colab": {
     "base_uri": "https://localhost:8080/",
     "height": 279
    },
    "id": "N5xQIkmcGPcJ",
    "outputId": "1131c434-2ee8-4e56-cfc2-d6b282934046"
   },
   "outputs": [],
   "source": [
    "sns.boxplot(data=df,x='Year', y='Revenue (Millions)')\n",
    "plt.show()"
   ]
  },
  {
   "cell_type": "markdown",
   "metadata": {
    "id": "CvlN6YowGbcE"
   },
   "source": [
    "We can observe from above plot, Year 2015 and 2009 clearly has datapoint with highest Revenue generating movie.\n",
    "\n",
    "Which we will observe in our further analysis.\n",
    "\n",
    "We\n",
    " will be adding a column with 1 in all the rows which will be usefull in our further analysis we wil do. Also, for now we will keep our original Table Sorted by Revenue."
   ]
  },
  {
   "cell_type": "code",
   "execution_count": null,
   "metadata": {
    "id": "Ez7_VThKGYy1"
   },
   "outputs": [],
   "source": [
    "df['cnt']=1"
   ]
  },
  {
   "cell_type": "code",
   "execution_count": null,
   "metadata": {
    "colab": {
     "base_uri": "https://localhost:8080/",
     "height": 903
    },
    "id": "ntO9Zbu_GeYm",
    "outputId": "543ef5bd-7969-49b9-c785-857b0e807ee3"
   },
   "outputs": [],
   "source": [
    "sns.pairplot(data=df, vars=[\"Votes\", \"Revenue (Millions)\",\"Rating\",\n",
    "                            \"Runtime (Minutes)\",\"Metascore\"])\n",
    "plt.show()"
   ]
  },
  {
   "cell_type": "markdown",
   "metadata": {
    "id": "94zBCGmXGlwC"
   },
   "source": [
    "The above Pairplot gives us the basic understanding on distribution of all the numerical column.\n",
    "\n",
    "If we look at the Relationship of Revenue and Votes- YOY"
   ]
  },
  {
   "cell_type": "code",
   "execution_count": null,
   "metadata": {
    "colab": {
     "base_uri": "https://localhost:8080/",
     "height": 542
    },
    "id": "aMl1P6oAGiri",
    "outputId": "85a81e6e-2730-491d-ae05-9e6d908dfb9d"
   },
   "outputs": [],
   "source": [
    "px.scatter(df,x='Revenue (Millions)',y='Votes',size='Votes', \n",
    "           color = 'Rating',hover_name='Title',animation_frame='Year',\n",
    "           title=\"Distribution of Revenue and Votes\")"
   ]
  },
  {
   "cell_type": "markdown",
   "metadata": {
    "id": "bc8zhc_qGz-2"
   },
   "source": [
    "From the above plot we observe that their are movies which has Higher Rating along with Higher Votes still Revenue is not up to the Mark. Year - 2012 (Django Unchained) Year - 2014 (Interstellar) Year - 2006 (The Prestige,The Departed)\n",
    "\n",
    "Splitting the Genre and Actor Table for another set of visulaizations"
   ]
  },
  {
   "cell_type": "code",
   "execution_count": null,
   "metadata": {
    "id": "bE4_IfhPGsoP"
   },
   "outputs": [],
   "source": [
    "df[['Genre1', 'Genre2','Genre3']] = df['Genre'].str.split(',', 3, expand=True).fillna(value=\"\")\n",
    "df[['Actor1', 'Actor2','Actor3']] = df['Actors'].str.split(',', 2,expand=True).fillna(value=\"\")"
   ]
  },
  {
   "cell_type": "code",
   "execution_count": null,
   "metadata": {
    "colab": {
     "base_uri": "https://localhost:8080/",
     "height": 1000
    },
    "id": "5WJ5rFVgItCY",
    "outputId": "bbfb5481-80d8-4500-9dfc-fcfda72985ef"
   },
   "outputs": [],
   "source": [
    "df.head(10)"
   ]
  },
  {
   "cell_type": "code",
   "execution_count": null,
   "metadata": {
    "id": "7M0pB7VnG3pC"
   },
   "outputs": [],
   "source": [
    "df['Genre2']=df['Genre2'].fillna(df.Genre1, inplace=True)\n",
    "df['Genre3']=df['Genre3'].fillna(df.Genre1,inplace=True)"
   ]
  },
  {
   "cell_type": "code",
   "execution_count": null,
   "metadata": {
    "colab": {
     "base_uri": "https://localhost:8080/",
     "height": 583
    },
    "id": "-su0d81TH0tq",
    "outputId": "d9c21582-f677-4a28-f6b6-2b9f295794c9"
   },
   "outputs": [],
   "source": [
    "df.head(5)"
   ]
  },
  {
   "cell_type": "code",
   "execution_count": null,
   "metadata": {
    "colab": {
     "base_uri": "https://localhost:8080/",
     "height": 363
    },
    "id": "bN_x_vD8G50a",
    "outputId": "021e01a5-3538-4c67-a333-5c34f775ebc8"
   },
   "outputs": [],
   "source": [
    "df_by_genre1 = df.groupby('Genre1')\n",
    "df_by_genre2 = df.groupby('Genre2')\n",
    "df_by_genre3 = df.groupby('Genre3')\n",
    "agg_genre1=df_by_genre1.sum()\n",
    "agg_genre2=df_by_genre2.sum()\n",
    "agg_genre3=df_by_genre3.sum()\n",
    "ge1_ge2 = agg_genre1.add(agg_genre2, fill_value=0.0)\n",
    "final_genre = ge1_ge2.add(agg_genre3, fill_value=0.0)\n",
    "genre_temp=final_genre.reset_index().head(10)\n",
    "genre_temp"
   ]
  },
  {
   "cell_type": "markdown",
   "metadata": {
    "id": "ghx1z9UlJRsS"
   },
   "source": [
    "After grouping and adding all the Genre we observe that Action has the maximum Revenue and followed by Adventure."
   ]
  },
  {
   "cell_type": "code",
   "execution_count": null,
   "metadata": {
    "id": "XX7Tvo5wJO9N"
   },
   "outputs": [],
   "source": [
    "sns.set(style=\"darkgrid\")"
   ]
  },
  {
   "cell_type": "code",
   "execution_count": null,
   "metadata": {
    "colab": {
     "base_uri": "https://localhost:8080/",
     "height": 394
    },
    "id": "2fBuhzZfJU-N",
    "outputId": "f95af705-ae3b-4c5d-90bf-ac1668a1f15c"
   },
   "outputs": [],
   "source": [
    "fig, ax1 = plt.subplots(figsize = (14,6))\n",
    "\n",
    "ax2 = ax1.twinx()\n",
    "ax1.bar(genre_temp['Genre1'],genre_temp['Revenue (Millions)'])\n",
    "ax2.plot(genre_temp['Genre1'],genre_temp['cnt'], 'o-', color=\"red\" )\n",
    "ax1.set_xlabel('Genre')\n",
    "ax1.set_ylabel('Revenue', color='b')\n",
    "ax2.set_ylabel('No of Movies', color='r')\n",
    "plt.show()"
   ]
  },
  {
   "cell_type": "markdown",
   "metadata": {
    "id": "f7VHD8iBJjJN"
   },
   "source": [
    "Genre - Action has maximum numbers of movies and which generates maximum Revenue compared to other Genre. But if we look at Drama and Comedy has on an average 150 nos of movies but generates very less revenue in comparision with other category of Genre and respective Revenues.\n",
    "\n",
    "Considering the number of movies released in a year the no of releases increaing linearly and year 2016 seems to have spike in no of relases. But Same growth is not observed for Revenue."
   ]
  },
  {
   "cell_type": "code",
   "execution_count": null,
   "metadata": {
    "colab": {
     "base_uri": "https://localhost:8080/",
     "height": 542
    },
    "id": "LHIsW8hLJgt9",
    "outputId": "27bcf4a0-7314-4e59-a06c-df9bcf19521c"
   },
   "outputs": [],
   "source": [
    "df_year = df.groupby('Year')['cnt'].count().reset_index()\n",
    "px.line(df_year, x='Year',y='cnt',template='plotly_dark',text='cnt',\n",
    "        title=\"No of releases in Year\")"
   ]
  },
  {
   "cell_type": "code",
   "execution_count": null,
   "metadata": {
    "colab": {
     "base_uri": "https://localhost:8080/",
     "height": 542
    },
    "id": "8nYtDa6rJ7bA",
    "outputId": "c155dc65-0203-4ffe-f6f1-d7b0fd35bc63"
   },
   "outputs": [],
   "source": [
    "df_Rev = df.groupby('Year')['Revenue (Millions)'].sum().round(1).reset_index()\n",
    "px.line(df_Rev, x='Year',y='Revenue (Millions)',template='plotly_dark',text='Revenue (Millions)',\n",
    "        title=\"Revenue in Years\")"
   ]
  },
  {
   "cell_type": "code",
   "execution_count": null,
   "metadata": {
    "colab": {
     "base_uri": "https://localhost:8080/",
     "height": 542
    },
    "id": "-pD0gZFjKCUe",
    "outputId": "b105c221-3d89-4268-a671-17bccc6d39df"
   },
   "outputs": [],
   "source": [
    "df_2016 = df[df['Year']==2016].copy()\n",
    "df_temp=df_2016.sort_values(by='Revenue (Millions)',ascending = False).head(10)\n",
    "px.bar(df_temp,y='Revenue (Millions)',x='Title',color='Genre1',text='Rating',\n",
    "       title='Most successful Movies/Genre of Year:2016')"
   ]
  },
  {
   "cell_type": "markdown",
   "metadata": {
    "id": "jc6rdhigKFsQ"
   },
   "source": [
    "Now considering within year 2016 released movies\n",
    "\n",
    "Top Revenue generating movies in year 2016 and their Ratings !\n",
    "\n",
    "Captain America and Rouge One is most Revenue generating movies of Year 2016 being below 8 Rating. and on the other hand Deadpool and Zootopia having Rating above 8 still the revenue Ranks at 4th and 5th.\n",
    "\n",
    "One point to observe here Zootopia belongs to Genre - Animation and that can be one of reason of lagging behine in Revenue but still high in Rating."
   ]
  },
  {
   "cell_type": "code",
   "execution_count": null,
   "metadata": {
    "colab": {
     "base_uri": "https://localhost:8080/",
     "height": 587
    },
    "id": "x3s0IdlKKKP1",
    "outputId": "172bb134-14de-4f64-c8b5-664921613fa3"
   },
   "outputs": [],
   "source": [
    "plt.figure(figsize=(10,7),facecolor='white')\n",
    "sns.distplot(df['Runtime (Minutes)'],bins=10,kde=True)\n",
    "plt.suptitle(\"Distribution of Movie by RunTime\", fontsize=20)\n",
    "plt.show()"
   ]
  },
  {
   "cell_type": "markdown",
   "metadata": {
    "id": "cR3LhpWqKPp3"
   },
   "source": [
    "Most of Movies Belongs to Runtime Range - 90 to 130 Minutes !"
   ]
  },
  {
   "cell_type": "code",
   "execution_count": null,
   "metadata": {
    "colab": {
     "base_uri": "https://localhost:8080/",
     "height": 542
    },
    "id": "l1WKUfFYKM8D",
    "outputId": "12f22149-1717-4b55-907a-669c84979eae"
   },
   "outputs": [],
   "source": [
    "movies_Rev=df.sort_values(by='Revenue (Millions)',ascending = False)[0:10]\n",
    "px.pie(movies_Rev, values='Revenue (Millions)', names='Actor1',title='Actors vs Revenue Distribution')"
   ]
  },
  {
   "cell_type": "code",
   "execution_count": null,
   "metadata": {
    "colab": {
     "base_uri": "https://localhost:8080/",
     "height": 542
    },
    "id": "-QGi6CVYKTL4",
    "outputId": "ad60bf4c-f3fe-4f09-c412-6b24e199d74f"
   },
   "outputs": [],
   "source": [
    "px.pie(movies_Rev, values='Revenue (Millions)', names='Title', title='Movies vs Revenue Distribution')"
   ]
  },
  {
   "cell_type": "markdown",
   "metadata": {
    "id": "1TTgvf3TKblM"
   },
   "source": [
    "If We consider the Primary actor of the Movies and and Revenue Generated by respective movie is Robert Downey Jr.\n",
    "\n",
    "But that is not the case, chances are on the above plot we distribution of Revenue is additing of one or more movies done by respective Actor.\n",
    "\n",
    "We will further analyse on this part !!"
   ]
  },
  {
   "cell_type": "code",
   "execution_count": null,
   "metadata": {
    "colab": {
     "base_uri": "https://localhost:8080/",
     "height": 542
    },
    "id": "8QrMYLYpKZ2R",
    "outputId": "4a1c456e-2bd5-49c5-cab3-b443536df475"
   },
   "outputs": [],
   "source": [
    "px.bar(movies_Rev,x='Actor1',y='Revenue (Millions)',color='Votes',\n",
    "       hover_name='Title', text='Rating',template='plotly_dark')"
   ]
  },
  {
   "cell_type": "markdown",
   "metadata": {
    "id": "db4mVvWlKjd9"
   },
   "source": [
    "Now from above Plot, it is clear that why Revenue generated by the Movies of Robert Downey Jr. is Highest amon the all because it has more than one movie.\n",
    "\n",
    "Also, a intresting point to observe from above plot -> Movie - The Dark Knight got the Highest Rating of 9 and Highest Votes above 1.6M still below average Revenue generated by Movie copare to other Movie and actor\n",
    "\n",
    "Consider the list of Top Directors and their critic score "
   ]
  },
  {
   "cell_type": "code",
   "execution_count": null,
   "metadata": {
    "colab": {
     "base_uri": "https://localhost:8080/",
     "height": 206
    },
    "id": "kgdFtoX-Khgm",
    "outputId": "60f7cbbe-c826-4cb2-87cd-caff42f3f393"
   },
   "outputs": [],
   "source": [
    "top_director= df.groupby('Director')['Revenue (Millions)'].sum().reset_index()\n",
    "top_director.sort_values('Revenue (Millions)',ascending =False)[0:5]"
   ]
  },
  {
   "cell_type": "code",
   "execution_count": null,
   "metadata": {
    "colab": {
     "base_uri": "https://localhost:8080/",
     "height": 542
    },
    "id": "rLxiDJPvLSj0",
    "outputId": "0cffdb5e-fcb9-4e3c-ac2c-1e4e878fcff5"
   },
   "outputs": [],
   "source": [
    "px.bar(movies_Rev,x='Director',y='Revenue (Millions)',\n",
    "       color='Metascore',hover_name='Title',\n",
    "       template='plotly_dark',text='Revenue (Millions)', title='Top Directors and Revenue Distribution by Metascore')"
   ]
  },
  {
   "cell_type": "code",
   "execution_count": null,
   "metadata": {
    "colab": {
     "base_uri": "https://localhost:8080/",
     "height": 542
    },
    "id": "Hhi_0rDvLYee",
    "outputId": "4b8b032b-ef03-4da4-d4b9-e9a4ad998416"
   },
   "outputs": [],
   "source": [
    "movies_Votes=df.sort_values(by='Votes',ascending = False)[0:20]\n",
    "\n",
    "px.bar(movies_Votes,x='Actor1',y='Votes',color='Revenue (Millions)',\n",
    "       hover_name='Title',text='Rating',template='plotly_dark',\n",
    "      title='Most Popular/Voted Actors')"
   ]
  },
  {
   "cell_type": "code",
   "execution_count": null,
   "metadata": {
    "colab": {
     "base_uri": "https://localhost:8080/",
     "height": 542
    },
    "id": "67bwTa5OLc-_",
    "outputId": "33e2d00a-8e56-4c59-e85a-537f390c85f9"
   },
   "outputs": [],
   "source": [
    "px.bar(movies_Votes,x='Title',y='Votes',color='Revenue (Millions)',\n",
    "       hover_name='Title',text='Metascore',template='plotly_dark',\n",
    "      title='Most Popular/Voted Movies')"
   ]
  },
  {
   "cell_type": "markdown",
   "metadata": {
    "id": "58grGN8wLiu_"
   },
   "source": [
    "We can extract list of Top Actors by Revenue generated in Movies. \n",
    "And from that the distribution of Revenue and Rating for Top Actors is obtained."
   ]
  },
  {
   "cell_type": "code",
   "execution_count": null,
   "metadata": {
    "id": "6ufb2o4CLhFM"
   },
   "outputs": [],
   "source": [
    "top_Actor = pd.pivot_table(df,index=['Actor1'],\n",
    "                           values=['Revenue (Millions)','Metascore','Votes','Rating','cnt'],\n",
    "                           aggfunc={'Revenue (Millions)':np.sum,'Metascore':np.mean,\n",
    "                                    'Votes':np.mean,'Rating':np.mean,'cnt':np.sum})"
   ]
  },
  {
   "cell_type": "code",
   "execution_count": null,
   "metadata": {
    "colab": {
     "base_uri": "https://localhost:8080/",
     "height": 676
    },
    "id": "xX-Nxz8WLl71",
    "outputId": "63163051-e555-4445-cb12-4c90e2ebeecf"
   },
   "outputs": [],
   "source": [
    "actor = top_Actor.sort_values(by='Revenue (Millions)',\n",
    "                              ascending = False).reset_index()[0:20]\n",
    "actor"
   ]
  },
  {
   "cell_type": "code",
   "execution_count": null,
   "metadata": {
    "colab": {
     "base_uri": "https://localhost:8080/",
     "height": 542
    },
    "id": "biL91l8nLoAp",
    "outputId": "1f6ff658-3d9e-4ef9-ae7f-3182b982d7ae"
   },
   "outputs": [],
   "source": [
    "px.scatter(actor,y= 'Revenue (Millions)',x= 'Rating', \n",
    "           color= 'cnt',size='Rating',text='Actor1',\n",
    "           title='Revenue Vs Rating of most Popular Actor and No of Movies')"
   ]
  },
  {
   "cell_type": "code",
   "execution_count": null,
   "metadata": {
    "colab": {
     "base_uri": "https://localhost:8080/",
     "height": 542
    },
    "id": "1fwc2N2iLrFv",
    "outputId": "86213f7a-595c-4cae-9457-ea62413c862e"
   },
   "outputs": [],
   "source": [
    "px.histogram(df, x='Metascore',y='Revenue (Millions)',title='Impact of Metascore on Revenue')"
   ]
  },
  {
   "cell_type": "markdown",
   "metadata": {
    "id": "5KGITRasL3C1"
   },
   "source": [
    "We can observe from the above plot - Metascore from 55 to 70 seems to have highest Revenue !"
   ]
  },
  {
   "cell_type": "code",
   "execution_count": null,
   "metadata": {
    "colab": {
     "base_uri": "https://localhost:8080/",
     "height": 971
    },
    "id": "E1rR8r-UL0-R",
    "outputId": "3ca67bfe-b16f-4166-a311-ce0595d81660"
   },
   "outputs": [],
   "source": [
    "movies"
   ]
  },
  {
   "cell_type": "code",
   "execution_count": null,
   "metadata": {
    "colab": {
     "base_uri": "https://localhost:8080/",
     "height": 1000
    },
    "id": "5lQSLM2kupCQ",
    "outputId": "5fa7f8a6-637b-418a-b5d6-3b9963508ff1"
   },
   "outputs": [],
   "source": [
    "df"
   ]
  },
  {
   "cell_type": "code",
   "execution_count": null,
   "metadata": {
    "id": "ihhHBs5QCznP"
   },
   "outputs": [],
   "source": [
    "df2=df.copy()"
   ]
  },
  {
   "cell_type": "code",
   "execution_count": null,
   "metadata": {
    "colab": {
     "base_uri": "https://localhost:8080/",
     "height": 423
    },
    "id": "qMOYodVjC71X",
    "outputId": "8dc49672-b22d-4d10-eca7-e1cef7e83a57"
   },
   "outputs": [],
   "source": [
    "df2=df2.drop(columns=[\"Rank\",\"Title\",\"Genre\",\"Description\",\"Actors\",\"Year\",\"Director\",\"cnt\",\"Genre2\",\"Genre3\",\"Actor1\",\"Actor2\",\"Actor3\"],axis=1)\n",
    "df2"
   ]
  },
  {
   "cell_type": "code",
   "execution_count": null,
   "metadata": {
    "colab": {
     "base_uri": "https://localhost:8080/",
     "height": 423
    },
    "id": "K2pcLpFVDY3H",
    "outputId": "49e381f1-fab8-43af-8bef-cd5eec2e1118"
   },
   "outputs": [],
   "source": [
    "from sklearn.preprocessing import LabelEncoder\n",
    "le=LabelEncoder()\n",
    "genre=le.fit_transform(df2['Genre1'])\n",
    "df2['genre_enc']=genre\n",
    "df2"
   ]
  },
  {
   "cell_type": "code",
   "execution_count": null,
   "metadata": {
    "colab": {
     "base_uri": "https://localhost:8080/"
    },
    "id": "NO_c3jPeIrkv",
    "outputId": "cd737428-afeb-47e2-d85b-ba133c9be7e5"
   },
   "outputs": [],
   "source": [
    "df2['Genre1'].unique()"
   ]
  },
  {
   "cell_type": "code",
   "execution_count": null,
   "metadata": {
    "colab": {
     "base_uri": "https://localhost:8080/",
     "height": 423
    },
    "id": "RTrgrvObFDL5",
    "outputId": "9ae74e63-6188-4516-aaf7-bbb18d44f17f"
   },
   "outputs": [],
   "source": [
    "df2=df2.drop(columns=['Genre1'],axis=1)\n",
    "df2"
   ]
  },
  {
   "cell_type": "code",
   "execution_count": null,
   "metadata": {
    "id": "vn9ULkriFjiU"
   },
   "outputs": [],
   "source": [
    "X=df2.drop(\"genre_enc\",axis=1)\n",
    "y=df2['genre_enc']"
   ]
  },
  {
   "cell_type": "code",
   "execution_count": null,
   "metadata": {
    "id": "Z715gTnyFeHJ"
   },
   "outputs": [],
   "source": [
    "from sklearn.model_selection import train_test_split\n",
    "X_train, X_test, y_train, y_test = train_test_split(X, y, test_size = 0.2, random_state = 0)"
   ]
  },
  {
   "cell_type": "code",
   "execution_count": null,
   "metadata": {
    "colab": {
     "base_uri": "https://localhost:8080/"
    },
    "id": "k9RzwIs3GB8W",
    "outputId": "b340ad25-86c9-4714-9c06-95d18ee70578"
   },
   "outputs": [],
   "source": [
    "from sklearn.linear_model import LinearRegression\n",
    "regressor=LinearRegression()\n",
    "regressor.fit(X_train,y_train)"
   ]
  },
  {
   "cell_type": "code",
   "execution_count": null,
   "metadata": {
    "id": "Sx0S76EWGEy6"
   },
   "outputs": [],
   "source": [
    "y_pred=regressor.predict(X_test)\n",
    "np.set_printoptions(precision=2)\n",
    "#print(np.concatenate((y_pred.reshape(len(y_pred),1),y_test.reshape(len(y_test),1)),axis=1))\n"
   ]
  },
  {
   "cell_type": "code",
   "execution_count": null,
   "metadata": {
    "id": "ePWHH9qQIm7k"
   },
   "outputs": [],
   "source": [
    "genres=['Action', 'Adventure', 'Horror', 'Animation', 'Comedy',\n",
    "       'Biography', 'Drama', 'Crime', 'Mystery', 'Sci-Fi', 'Fantasy',\n",
    "       'Romance', 'Thriller']"
   ]
  },
  {
   "cell_type": "code",
   "execution_count": null,
   "metadata": {
    "colab": {
     "base_uri": "https://localhost:8080/"
    },
    "id": "Jb9JCV_NGH7U",
    "outputId": "0eb00ad3-2f71-4143-cf07-d63f8e3c0c8d"
   },
   "outputs": [],
   "source": [
    "y_pred=np.rint(y_pred)\n",
    "a=[]\n",
    "for i in y_pred:\n",
    "  a.append(int(i))\n",
    "\n",
    "a=np.array(a)\n",
    "a"
   ]
  },
  {
   "cell_type": "code",
   "execution_count": null,
   "metadata": {
    "colab": {
     "base_uri": "https://localhost:8080/"
    },
    "id": "2D1TpsUJGKh5",
    "outputId": "5c28b925-d19d-4e92-98fa-35dcade2e84d"
   },
   "outputs": [],
   "source": [
    "print(genres[int(np.round_((regressor.predict([[178,9.1,1600,250,76]]))))])"
   ]
  },
  {
   "cell_type": "code",
   "execution_count": null,
   "metadata": {
    "id": "Xl1i6R9DoXck"
   },
   "outputs": [],
   "source": [
    "df3=df.copy()\n",
    "df4=df.copy()\n",
    "df5=df.copy()"
   ]
  },
  {
   "cell_type": "code",
   "execution_count": null,
   "metadata": {
    "id": "z2YqzQ_moX2W"
   },
   "outputs": [],
   "source": [
    "df3=df3.drop(columns=[\"Rank\",\"Title\",\"Genre\",\"Description\",\"Actors\",\"Year\",\"cnt\",\"Genre2\",\"Genre3\",\"Actor1\",\"Actor2\",\"Actor3\"],axis=1)\n",
    "df4=df4.drop(columns=[\"Rank\",\"Title\",\"Genre\",\"Description\",\"Actors\",\"Director\",\"Year\",\"cnt\",\"Genre2\",\"Genre3\",\"Actor2\",\"Actor3\"],axis=1)\n",
    "df5=df5.drop(columns=[\"Rank\",\"Title\",\"Genre\",\"Description\",\"Actors\",\"Director\",\"Year\",\"cnt\",\"Genre2\",\"Genre3\",\"Actor1\",\"Actor3\"],axis=1)"
   ]
  },
  {
   "cell_type": "code",
   "execution_count": null,
   "metadata": {
    "colab": {
     "base_uri": "https://localhost:8080/",
     "height": 423
    },
    "id": "zY0BT95HoY_6",
    "outputId": "4975e082-ba5d-4532-9ed3-019f2322d076"
   },
   "outputs": [],
   "source": [
    "from sklearn.preprocessing import LabelEncoder\n",
    "le=LabelEncoder()\n",
    "genre=le.fit_transform(df3['Genre1'])\n",
    "df3['genre_enc']=genre\n",
    "df3=df3.drop(columns=['Genre1'],axis=1)\n",
    "df3"
   ]
  },
  {
   "cell_type": "code",
   "execution_count": null,
   "metadata": {
    "id": "4-CqR7v5oadN"
   },
   "outputs": [],
   "source": [
    "X = df3.drop('Director',axis=1)\n",
    "y = df3['Director']\n",
    "\n",
    "from sklearn.model_selection import train_test_split\n",
    "# implementing train-test-split\n",
    "X_train, X_test, y_train, y_test = train_test_split(X, y, test_size=0.3, random_state=42)"
   ]
  },
  {
   "cell_type": "code",
   "execution_count": null,
   "metadata": {
    "id": "Jxed1ydmobkE"
   },
   "outputs": [],
   "source": [
    "from sklearn.tree import DecisionTreeClassifier # Import Decision Tree Classifier\n",
    "from sklearn import metrics"
   ]
  },
  {
   "cell_type": "code",
   "execution_count": null,
   "metadata": {
    "id": "IdY4ZOCfocvC"
   },
   "outputs": [],
   "source": [
    "clf = DecisionTreeClassifier()\n",
    "# Train Decision Tree Classifier\n",
    "clf = clf.fit(X_train,y_train)\n",
    "#Predict the response for test dataset\n",
    "y_pred = clf.predict(X_test)"
   ]
  },
  {
   "cell_type": "code",
   "execution_count": null,
   "metadata": {
    "colab": {
     "base_uri": "https://localhost:8080/"
    },
    "id": "1-ijnj3LodrV",
    "outputId": "30045def-cb59-41a7-98e0-10f644654664"
   },
   "outputs": [],
   "source": [
    "!apt-get -qq install -y graphviz && pip install pydot\n",
    "import pydot"
   ]
  },
  {
   "cell_type": "code",
   "execution_count": null,
   "metadata": {
    "colab": {
     "base_uri": "https://localhost:8080/"
    },
    "id": "mEHRDzNzofDN",
    "outputId": "7e8308ac-5b6e-491c-c4b9-df5091f6d6f6"
   },
   "outputs": [],
   "source": [
    "!pip install six\n",
    "import six\n",
    "import sys\n",
    "sys.modules['sklearn.externals.six'] = six\n",
    "from IPython.display import Image\n",
    "from sklearn.tree import export_graphviz\n",
    "import pydotplus\n",
    "from six import StringIO"
   ]
  },
  {
   "cell_type": "code",
   "execution_count": null,
   "metadata": {
    "id": "0k3GWFZ0ogL0"
   },
   "outputs": [],
   "source": [
    "dot_data = StringIO()\n",
    "export_graphviz(clf, out_file= dot_data, feature_names=list(X.columns), filled = True, rounded=True)\n",
    "graph = pydotplus.graph_from_dot_data(dot_data.getvalue())"
   ]
  },
  {
   "cell_type": "code",
   "execution_count": null,
   "metadata": {
    "colab": {
     "base_uri": "https://localhost:8080/",
     "height": 614
    },
    "id": "16zHcmbIoiPP",
    "outputId": "d427aed1-ea34-4fce-f3b7-396df7474492"
   },
   "outputs": [],
   "source": [
    "Image(graph.create_png())"
   ]
  },
  {
   "cell_type": "code",
   "execution_count": null,
   "metadata": {
    "id": "49vGZt4NokAR"
   },
   "outputs": [],
   "source": [
    "genre=le.fit_transform(df4['Genre1'])\n",
    "df4['genre_enc']=genre\n",
    "df4=df4.drop(columns=['Genre1'],axis=1)\n",
    "genre=le.fit_transform(df5['Genre1'])\n",
    "df5['genre_enc']=genre\n",
    "df5=df5.drop(columns=['Genre1'],axis=1)"
   ]
  },
  {
   "cell_type": "code",
   "execution_count": null,
   "metadata": {
    "id": "-sAbWO_XolJ1"
   },
   "outputs": [],
   "source": [
    "X = df4.drop('Actor1',axis=1)\n",
    "y = df4['Actor1']\n",
    "\n",
    "from sklearn.model_selection import train_test_split\n",
    "# implementing train-test-split\n",
    "X_train, X_test, y_train, y_test = train_test_split(X, y, test_size=0.3, random_state=42)"
   ]
  },
  {
   "cell_type": "code",
   "execution_count": null,
   "metadata": {
    "colab": {
     "base_uri": "https://localhost:8080/"
    },
    "id": "4Jj-dwEAomPy",
    "outputId": "28ecfaaf-498c-481b-b519-b61c5b758c05"
   },
   "outputs": [],
   "source": [
    "from sklearn.ensemble import RandomForestClassifier\n",
    "from sklearn.datasets import make_classification\n",
    "rfc = RandomForestClassifier()\n",
    "rfc.fit(X_train,y_train)"
   ]
  },
  {
   "cell_type": "code",
   "execution_count": null,
   "metadata": {
    "id": "u2x1sGcsonZU"
   },
   "outputs": [],
   "source": [
    "X = df5.drop('Actor2',axis=1)\n",
    "y = df5['Actor2']\n",
    "\n",
    "from sklearn.model_selection import train_test_split\n",
    "# implementing train-test-split\n",
    "X_train, X_test, y_train, y_test = train_test_split(X, y, test_size=0.3, random_state=42)"
   ]
  },
  {
   "cell_type": "code",
   "execution_count": null,
   "metadata": {
    "colab": {
     "base_uri": "https://localhost:8080/"
    },
    "id": "kYP-oSZrooXF",
    "outputId": "91819643-82d2-4751-a397-8174fc5a0558"
   },
   "outputs": [],
   "source": [
    "from sklearn.ensemble import RandomForestClassifier\n",
    "from sklearn.datasets import make_classification\n",
    "rfc2 = RandomForestClassifier()\n",
    "rfc2.fit(X_train,y_train)"
   ]
  },
  {
   "cell_type": "code",
   "execution_count": null,
   "metadata": {
    "id": "lPKTTIiCopjo"
   },
   "outputs": [],
   "source": [
    "import pickle\n",
    "pickle.dump(clf, open('DT.pkl', 'wb'))\n",
    "pickle.dump(rfc, open('RFC.pkl', 'wb'))\n",
    "pickle.dump(rfc2, open('RFC2.pkl', 'wb'))"
   ]
  },
  {
   "cell_type": "code",
   "execution_count": null,
   "metadata": {
    "id": "PcCyzHOlorkP"
   },
   "outputs": [],
   "source": [
    "pickle.dump(regressor,open('regressor.pkl','wb'))"
   ]
  },
  {
   "cell_type": "code",
   "execution_count": null,
   "metadata": {
    "id": "OFdO5W3qos4r"
   },
   "outputs": [],
   "source": []
  }
 ],
 "metadata": {
  "colab": {
   "collapsed_sections": [],
   "name": "DV_Review-2.ipynb",
   "provenance": []
  },
  "kernelspec": {
   "display_name": "Python 3 (ipykernel)",
   "language": "python",
   "name": "python3"
  },
  "language_info": {
   "codemirror_mode": {
    "name": "ipython",
    "version": 3
   },
   "file_extension": ".py",
   "mimetype": "text/x-python",
   "name": "python",
   "nbconvert_exporter": "python",
   "pygments_lexer": "ipython3",
   "version": "3.8.12"
  }
 },
 "nbformat": 4,
 "nbformat_minor": 1
}
